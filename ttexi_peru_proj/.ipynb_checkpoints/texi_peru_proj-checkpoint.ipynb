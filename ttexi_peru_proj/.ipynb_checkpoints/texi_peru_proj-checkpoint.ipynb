{
 "cells": [
  {
   "cell_type": "code",
   "execution_count": 1,
   "id": "b9f0ef61-ff89-4ab7-9765-13d06b01937a",
   "metadata": {},
   "outputs": [],
   "source": [
    "import os"
   ]
  },
  {
   "cell_type": "code",
   "execution_count": 2,
   "id": "9f36358a-7c5f-4f04-bf32-bbf59679d948",
   "metadata": {},
   "outputs": [
    {
     "data": {
      "text/plain": [
       "'/Users/evgeniyburovik/Documents/Courses'"
      ]
     },
     "execution_count": 2,
     "metadata": {},
     "output_type": "execute_result"
    }
   ],
   "source": [
    "os.getcwd()"
   ]
  },
  {
   "cell_type": "code",
   "execution_count": 5,
   "id": "cd9068bf-dad5-4122-aedc-f399abd7b84d",
   "metadata": {},
   "outputs": [],
   "source": [
    "numbers = [1, -2, 3, 0, -3, 2]"
   ]
  },
  {
   "cell_type": "code",
   "execution_count": 7,
   "id": "8649bd4c-2a74-4bd3-86c0-0ef72fb85ab5",
   "metadata": {},
   "outputs": [],
   "source": [
    "positive_numbers = []\n",
    "for i in numbers:\n",
    "    if i == 0:\n",
    "        break\n",
    "    if i > 0:\n",
    "        positive_numbers.append(i)"
   ]
  },
  {
   "cell_type": "code",
   "execution_count": null,
   "id": "2665a958-1861-4a06-86c1-0f72dff23288",
   "metadata": {},
   "outputs": [],
   "source": []
  },
  {
   "cell_type": "code",
   "execution_count": null,
   "id": "4c33e5d7-d810-4057-9a2f-5588a567863a",
   "metadata": {},
   "outputs": [],
   "source": []
  }
 ],
 "metadata": {
  "kernelspec": {
   "display_name": "Python 3",
   "language": "python",
   "name": "python3"
  },
  "language_info": {
   "codemirror_mode": {
    "name": "ipython",
    "version": 3
   },
   "file_extension": ".py",
   "mimetype": "text/x-python",
   "name": "python",
   "nbconvert_exporter": "python",
   "pygments_lexer": "ipython3",
   "version": "3.8.8"
  }
 },
 "nbformat": 4,
 "nbformat_minor": 5
}
