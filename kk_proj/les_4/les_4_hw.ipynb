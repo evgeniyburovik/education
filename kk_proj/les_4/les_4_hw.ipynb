{
 "cells": [
  {
   "cell_type": "code",
   "execution_count": 100,
   "id": "4826621f-1887-42c5-bf5b-fae32be74caa",
   "metadata": {},
   "outputs": [],
   "source": [
    "import os\n",
    "import pandas as pd\n",
    "import seaborn as sns\n",
    "import matplotlib.pyplot as plt\n",
    "\n",
    "%matplotlib inline"
   ]
  },
  {
   "cell_type": "code",
   "execution_count": 2,
   "id": "0a18cdd0-ebe9-45a7-8c88-c811b9428b2b",
   "metadata": {},
   "outputs": [
    {
     "data": {
      "text/plain": [
       "'/Users/evgeniyburovik/Documents/Courses/les_4'"
      ]
     },
     "execution_count": 2,
     "metadata": {},
     "output_type": "execute_result"
    }
   ],
   "source": [
    "# Смотрим в какой директории находимся\n",
    "os.getcwd()"
   ]
  },
  {
   "cell_type": "code",
   "execution_count": 56,
   "id": "b86df9a3-8340-41b6-9131-4bb731b5f66a",
   "metadata": {},
   "outputs": [
    {
     "data": {
      "text/plain": [
       "['2020-12-06',\n",
       " '2020-12-08',\n",
       " '2020-12-09',\n",
       " '2020-12-07',\n",
       " '2020-12-05',\n",
       " '2020-12-03',\n",
       " '2020-12-04']"
      ]
     },
     "execution_count": 56,
     "metadata": {},
     "output_type": "execute_result"
    }
   ],
   "source": [
    "# Определяем директори внитри даты и удаляем системные данные\n",
    "[i for i in os.listdir('/Users/evgeniyburovik/Documents/Courses/les_4/data') if not i.startswith('.')] "
   ]
  },
  {
   "cell_type": "code",
   "execution_count": 4,
   "id": "71539524-7580-4c15-8e08-b43d7eb0e8ec",
   "metadata": {},
   "outputs": [
    {
     "data": {
      "text/plain": [
       "['Vasiliy_Fedorov']"
      ]
     },
     "execution_count": 4,
     "metadata": {},
     "output_type": "execute_result"
    }
   ],
   "source": [
    "# Делаем небольшой скетч для автоматизации сбора данных\n",
    "[i for i in os.listdir('/Users/evgeniyburovik/Documents/Courses/les_4/data/2020-12-06') if not i.startswith('.')] "
   ]
  },
  {
   "cell_type": "code",
   "execution_count": 5,
   "id": "934fd973-7e83-42c7-8af3-9e0ba15bfac4",
   "metadata": {},
   "outputs": [],
   "source": [
    "p = '/Users/evgeniyburovik/Documents/Courses/les_4/data/2020-12-06/Vasiliy_Fedorov/data.csv'"
   ]
  },
  {
   "cell_type": "code",
   "execution_count": 6,
   "id": "8b484a79-295a-4895-bf6d-d6f76189849b",
   "metadata": {},
   "outputs": [
    {
     "data": {
      "text/html": [
       "<div>\n",
       "<style scoped>\n",
       "    .dataframe tbody tr th:only-of-type {\n",
       "        vertical-align: middle;\n",
       "    }\n",
       "\n",
       "    .dataframe tbody tr th {\n",
       "        vertical-align: top;\n",
       "    }\n",
       "\n",
       "    .dataframe thead th {\n",
       "        text-align: right;\n",
       "    }\n",
       "</style>\n",
       "<table border=\"1\" class=\"dataframe\">\n",
       "  <thead>\n",
       "    <tr style=\"text-align: right;\">\n",
       "      <th></th>\n",
       "      <th>Unnamed: 0</th>\n",
       "      <th>product_id</th>\n",
       "      <th>quantity</th>\n",
       "    </tr>\n",
       "  </thead>\n",
       "  <tbody>\n",
       "    <tr>\n",
       "      <th>0</th>\n",
       "      <td>0</td>\n",
       "      <td>56</td>\n",
       "      <td>4</td>\n",
       "    </tr>\n",
       "    <tr>\n",
       "      <th>1</th>\n",
       "      <td>1</td>\n",
       "      <td>97</td>\n",
       "      <td>3</td>\n",
       "    </tr>\n",
       "    <tr>\n",
       "      <th>2</th>\n",
       "      <td>2</td>\n",
       "      <td>79</td>\n",
       "      <td>3</td>\n",
       "    </tr>\n",
       "    <tr>\n",
       "      <th>3</th>\n",
       "      <td>3</td>\n",
       "      <td>29</td>\n",
       "      <td>5</td>\n",
       "    </tr>\n",
       "  </tbody>\n",
       "</table>\n",
       "</div>"
      ],
      "text/plain": [
       "   Unnamed: 0  product_id  quantity\n",
       "0           0          56         4\n",
       "1           1          97         3\n",
       "2           2          79         3\n",
       "3           3          29         5"
      ]
     },
     "execution_count": 6,
     "metadata": {},
     "output_type": "execute_result"
    }
   ],
   "source": [
    "pd.read_csv(p)"
   ]
  },
  {
   "cell_type": "code",
   "execution_count": 68,
   "id": "b87c35e7-b68f-4b90-9825-79f0e3125bb7",
   "metadata": {},
   "outputs": [],
   "source": [
    "# Создаем вложенные циклы для автоматизации сбора данных из дерева папок\n",
    "\n",
    "date_len = [i for i in os.listdir('/Users/evgeniyburovik/Documents/Courses/les_4/data') if not i.startswith('.')]\n",
    "date_pat = '/Users/evgeniyburovik/Documents/Courses/les_4/data/'\n",
    "df = pd.DataFrame()\n",
    "for date in date_len:\n",
    "    for name in [i for i in os.listdir('/Users/evgeniyburovik/Documents/Courses/les_4/data/'+date) if not i.startswith('.')]:\n",
    "        for data in [i for i in os.listdir('/Users/evgeniyburovik/Documents/Courses/les_4/data/'+date+'/'+name) if not i.startswith('.')]: \n",
    "            # Делаем список разделяя путь по слешу, для добавления имени и даты в датасет\n",
    "            name_date = (date_pat + date+'/'+name+'/'+data).split('/')\n",
    "            csv_df = pd.read_csv(date_pat + date+'/'+name+'/'+data)\n",
    "            csv_df['name'] = name_date[-2]\n",
    "            csv_df['date'] = name_date[-3]\n",
    "            df = df.append(csv_df)"
   ]
  },
  {
   "cell_type": "code",
   "execution_count": 69,
   "id": "b98bcf0c-aadd-42e1-a086-317ad67882f5",
   "metadata": {},
   "outputs": [],
   "source": [
    "df = df.reset_index().drop(columns=['Unnamed: 0', 'index'])"
   ]
  },
  {
   "cell_type": "code",
   "execution_count": 70,
   "id": "0c6d9495-6197-4b83-b363-a2aae6398e01",
   "metadata": {},
   "outputs": [
    {
     "data": {
      "text/html": [
       "<div>\n",
       "<style scoped>\n",
       "    .dataframe tbody tr th:only-of-type {\n",
       "        vertical-align: middle;\n",
       "    }\n",
       "\n",
       "    .dataframe tbody tr th {\n",
       "        vertical-align: top;\n",
       "    }\n",
       "\n",
       "    .dataframe thead th {\n",
       "        text-align: right;\n",
       "    }\n",
       "</style>\n",
       "<table border=\"1\" class=\"dataframe\">\n",
       "  <thead>\n",
       "    <tr style=\"text-align: right;\">\n",
       "      <th></th>\n",
       "      <th>product_id</th>\n",
       "      <th>quantity</th>\n",
       "      <th>name</th>\n",
       "      <th>date</th>\n",
       "    </tr>\n",
       "  </thead>\n",
       "  <tbody>\n",
       "    <tr>\n",
       "      <th>0</th>\n",
       "      <td>56</td>\n",
       "      <td>4</td>\n",
       "      <td>Vasiliy_Fedorov</td>\n",
       "      <td>2020-12-06</td>\n",
       "    </tr>\n",
       "    <tr>\n",
       "      <th>1</th>\n",
       "      <td>97</td>\n",
       "      <td>3</td>\n",
       "      <td>Vasiliy_Fedorov</td>\n",
       "      <td>2020-12-06</td>\n",
       "    </tr>\n",
       "    <tr>\n",
       "      <th>2</th>\n",
       "      <td>79</td>\n",
       "      <td>3</td>\n",
       "      <td>Vasiliy_Fedorov</td>\n",
       "      <td>2020-12-06</td>\n",
       "    </tr>\n",
       "    <tr>\n",
       "      <th>3</th>\n",
       "      <td>29</td>\n",
       "      <td>5</td>\n",
       "      <td>Vasiliy_Fedorov</td>\n",
       "      <td>2020-12-06</td>\n",
       "    </tr>\n",
       "    <tr>\n",
       "      <th>4</th>\n",
       "      <td>73</td>\n",
       "      <td>5</td>\n",
       "      <td>Alexey_Fedorov</td>\n",
       "      <td>2020-12-08</td>\n",
       "    </tr>\n",
       "    <tr>\n",
       "      <th>...</th>\n",
       "      <td>...</td>\n",
       "      <td>...</td>\n",
       "      <td>...</td>\n",
       "      <td>...</td>\n",
       "    </tr>\n",
       "    <tr>\n",
       "      <th>156</th>\n",
       "      <td>3</td>\n",
       "      <td>4</td>\n",
       "      <td>Kirill_Fedorov</td>\n",
       "      <td>2020-12-04</td>\n",
       "    </tr>\n",
       "    <tr>\n",
       "      <th>157</th>\n",
       "      <td>89</td>\n",
       "      <td>5</td>\n",
       "      <td>Kirill_Fedorov</td>\n",
       "      <td>2020-12-04</td>\n",
       "    </tr>\n",
       "    <tr>\n",
       "      <th>158</th>\n",
       "      <td>75</td>\n",
       "      <td>2</td>\n",
       "      <td>Kirill_Fedorov</td>\n",
       "      <td>2020-12-04</td>\n",
       "    </tr>\n",
       "    <tr>\n",
       "      <th>159</th>\n",
       "      <td>41</td>\n",
       "      <td>5</td>\n",
       "      <td>Kirill_Fedorov</td>\n",
       "      <td>2020-12-04</td>\n",
       "    </tr>\n",
       "    <tr>\n",
       "      <th>160</th>\n",
       "      <td>32</td>\n",
       "      <td>4</td>\n",
       "      <td>Kirill_Fedorov</td>\n",
       "      <td>2020-12-04</td>\n",
       "    </tr>\n",
       "  </tbody>\n",
       "</table>\n",
       "<p>161 rows × 4 columns</p>\n",
       "</div>"
      ],
      "text/plain": [
       "     product_id  quantity             name        date\n",
       "0            56         4  Vasiliy_Fedorov  2020-12-06\n",
       "1            97         3  Vasiliy_Fedorov  2020-12-06\n",
       "2            79         3  Vasiliy_Fedorov  2020-12-06\n",
       "3            29         5  Vasiliy_Fedorov  2020-12-06\n",
       "4            73         5   Alexey_Fedorov  2020-12-08\n",
       "..          ...       ...              ...         ...\n",
       "156           3         4   Kirill_Fedorov  2020-12-04\n",
       "157          89         5   Kirill_Fedorov  2020-12-04\n",
       "158          75         2   Kirill_Fedorov  2020-12-04\n",
       "159          41         5   Kirill_Fedorov  2020-12-04\n",
       "160          32         4   Kirill_Fedorov  2020-12-04\n",
       "\n",
       "[161 rows x 4 columns]"
      ]
     },
     "execution_count": 70,
     "metadata": {},
     "output_type": "execute_result"
    }
   ],
   "source": [
    "df"
   ]
  },
  {
   "cell_type": "code",
   "execution_count": 71,
   "id": "90cdb815-9c27-404b-b11b-b396c833e39f",
   "metadata": {},
   "outputs": [
    {
     "name": "stdout",
     "output_type": "stream",
     "text": [
      "<class 'pandas.core.frame.DataFrame'>\n",
      "RangeIndex: 161 entries, 0 to 160\n",
      "Data columns (total 4 columns):\n",
      " #   Column      Non-Null Count  Dtype \n",
      "---  ------      --------------  ----- \n",
      " 0   product_id  161 non-null    int64 \n",
      " 1   quantity    161 non-null    int64 \n",
      " 2   name        161 non-null    object\n",
      " 3   date        161 non-null    object\n",
      "dtypes: int64(2), object(2)\n",
      "memory usage: 5.2+ KB\n"
     ]
    }
   ],
   "source": [
    "df.info()"
   ]
  },
  {
   "cell_type": "code",
   "execution_count": 61,
   "id": "98a3b010-6b12-4974-91db-f07f1b7eca7f",
   "metadata": {},
   "outputs": [
    {
     "data": {
      "text/plain": [
       "480"
      ]
     },
     "execution_count": 61,
     "metadata": {},
     "output_type": "execute_result"
    }
   ],
   "source": [
    "df.quantity.sum()"
   ]
  },
  {
   "cell_type": "code",
   "execution_count": 95,
   "id": "bf111703-57bd-401d-8d9a-c014eeedb1cb",
   "metadata": {},
   "outputs": [
    {
     "data": {
      "text/plain": [
       "'Alexey_Smirnov, Petr_Smirnov'"
      ]
     },
     "execution_count": 95,
     "metadata": {},
     "output_type": "execute_result"
    }
   ],
   "source": [
    "', '.join([str(client) for client in df.groupby('name', as_index=False)\\\n",
    "            .agg({'quantity': 'sum'})\\\n",
    "            .sort_values('quantity', ascending=False)\\\n",
    "            .query('quantity == 52')\\\n",
    "            .sort_values('name')\\\n",
    "            .name.tolist()])"
   ]
  },
  {
   "cell_type": "code",
   "execution_count": 118,
   "id": "5776b921-9863-44c0-a47e-09e065ba4a39",
   "metadata": {},
   "outputs": [
    {
     "data": {
      "text/html": [
       "<div>\n",
       "<style scoped>\n",
       "    .dataframe tbody tr th:only-of-type {\n",
       "        vertical-align: middle;\n",
       "    }\n",
       "\n",
       "    .dataframe tbody tr th {\n",
       "        vertical-align: top;\n",
       "    }\n",
       "\n",
       "    .dataframe thead th {\n",
       "        text-align: right;\n",
       "    }\n",
       "</style>\n",
       "<table border=\"1\" class=\"dataframe\">\n",
       "  <thead>\n",
       "    <tr style=\"text-align: right;\">\n",
       "      <th></th>\n",
       "      <th>product_id</th>\n",
       "      <th>quantity</th>\n",
       "    </tr>\n",
       "  </thead>\n",
       "  <tbody>\n",
       "    <tr>\n",
       "      <th>22</th>\n",
       "      <td>27</td>\n",
       "      <td>20</td>\n",
       "    </tr>\n",
       "    <tr>\n",
       "      <th>42</th>\n",
       "      <td>56</td>\n",
       "      <td>18</td>\n",
       "    </tr>\n",
       "    <tr>\n",
       "      <th>21</th>\n",
       "      <td>24</td>\n",
       "      <td>15</td>\n",
       "    </tr>\n",
       "    <tr>\n",
       "      <th>51</th>\n",
       "      <td>74</td>\n",
       "      <td>15</td>\n",
       "    </tr>\n",
       "    <tr>\n",
       "      <th>32</th>\n",
       "      <td>41</td>\n",
       "      <td>14</td>\n",
       "    </tr>\n",
       "    <tr>\n",
       "      <th>27</th>\n",
       "      <td>34</td>\n",
       "      <td>13</td>\n",
       "    </tr>\n",
       "    <tr>\n",
       "      <th>66</th>\n",
       "      <td>94</td>\n",
       "      <td>13</td>\n",
       "    </tr>\n",
       "    <tr>\n",
       "      <th>46</th>\n",
       "      <td>66</td>\n",
       "      <td>13</td>\n",
       "    </tr>\n",
       "    <tr>\n",
       "      <th>65</th>\n",
       "      <td>92</td>\n",
       "      <td>12</td>\n",
       "    </tr>\n",
       "    <tr>\n",
       "      <th>38</th>\n",
       "      <td>50</td>\n",
       "      <td>12</td>\n",
       "    </tr>\n",
       "  </tbody>\n",
       "</table>\n",
       "</div>"
      ],
      "text/plain": [
       "    product_id  quantity\n",
       "22          27        20\n",
       "42          56        18\n",
       "21          24        15\n",
       "51          74        15\n",
       "32          41        14\n",
       "27          34        13\n",
       "66          94        13\n",
       "46          66        13\n",
       "65          92        12\n",
       "38          50        12"
      ]
     },
     "execution_count": 118,
     "metadata": {},
     "output_type": "execute_result"
    }
   ],
   "source": [
    "top_product = df.groupby('product_id', as_index=False)\\\n",
    ".agg({'quantity': 'sum'})\\\n",
    ".sort_values('quantity', ascending=False)\\\n",
    ".iloc[0:10]\n",
    "top_product"
   ]
  },
  {
   "cell_type": "code",
   "execution_count": 108,
   "id": "dce542c2-aaff-42cd-a97e-bf898ffb2885",
   "metadata": {},
   "outputs": [
    {
     "data": {
      "text/plain": [
       "<AxesSubplot:xlabel='product_id', ylabel='quantity'>"
      ]
     },
     "execution_count": 108,
     "metadata": {},
     "output_type": "execute_result"
    },
    {
     "data": {
      "image/png": "[encoded data removed]",
      "text/plain": [
       "<Figure size 864x576 with 1 Axes>"
      ]
     },
     "metadata": {
      "needs_background": "light"
     },
     "output_type": "display_data"
    }
   ],
   "source": [
    "plt.figure(figsize=(12, 8))\n",
    "sns.barplot(data = top_product, x = 'product_id', y = 'quantity')"
   ]
  },
  {
   "cell_type": "code",
   "execution_count": 119,
   "id": "dac46d63-ed48-497c-a75c-efcedd7313ed",
   "metadata": {},
   "outputs": [
    {
     "data": {
      "text/html": [
       "<div>\n",
       "<style scoped>\n",
       "    .dataframe tbody tr th:only-of-type {\n",
       "        vertical-align: middle;\n",
       "    }\n",
       "\n",
       "    .dataframe tbody tr th {\n",
       "        vertical-align: top;\n",
       "    }\n",
       "\n",
       "    .dataframe thead th {\n",
       "        text-align: right;\n",
       "    }\n",
       "</style>\n",
       "<table border=\"1\" class=\"dataframe\">\n",
       "  <thead>\n",
       "    <tr style=\"text-align: right;\">\n",
       "      <th></th>\n",
       "      <th>date</th>\n",
       "      <th>quantity</th>\n",
       "    </tr>\n",
       "  </thead>\n",
       "  <tbody>\n",
       "    <tr>\n",
       "      <th>1</th>\n",
       "      <td>2020-12-04</td>\n",
       "      <td>113</td>\n",
       "    </tr>\n",
       "    <tr>\n",
       "      <th>4</th>\n",
       "      <td>2020-12-07</td>\n",
       "      <td>94</td>\n",
       "    </tr>\n",
       "    <tr>\n",
       "      <th>6</th>\n",
       "      <td>2020-12-09</td>\n",
       "      <td>69</td>\n",
       "    </tr>\n",
       "    <tr>\n",
       "      <th>5</th>\n",
       "      <td>2020-12-08</td>\n",
       "      <td>68</td>\n",
       "    </tr>\n",
       "    <tr>\n",
       "      <th>2</th>\n",
       "      <td>2020-12-05</td>\n",
       "      <td>61</td>\n",
       "    </tr>\n",
       "    <tr>\n",
       "      <th>0</th>\n",
       "      <td>2020-12-03</td>\n",
       "      <td>60</td>\n",
       "    </tr>\n",
       "    <tr>\n",
       "      <th>3</th>\n",
       "      <td>2020-12-06</td>\n",
       "      <td>15</td>\n",
       "    </tr>\n",
       "  </tbody>\n",
       "</table>\n",
       "</div>"
      ],
      "text/plain": [
       "         date  quantity\n",
       "1  2020-12-04       113\n",
       "4  2020-12-07        94\n",
       "6  2020-12-09        69\n",
       "5  2020-12-08        68\n",
       "2  2020-12-05        61\n",
       "0  2020-12-03        60\n",
       "3  2020-12-06        15"
      ]
     },
     "execution_count": 119,
     "metadata": {},
     "output_type": "execute_result"
    }
   ],
   "source": [
    "top_product_day = df.groupby('date', as_index=False)\\\n",
    ".agg({'quantity': 'sum'})\\\n",
    ".sort_values('quantity', ascending=False)\n",
    "top_product_day"
   ]
  },
  {
   "cell_type": "code",
   "execution_count": 120,
   "id": "3e00af2a-bbe4-45d7-bfd7-f4d1ea19124d",
   "metadata": {},
   "outputs": [],
   "source": [
    "repeat_purchases = df.drop_duplicates(subset= ['name', 'date', 'product_id'])"
   ]
  },
  {
   "cell_type": "code",
   "execution_count": 122,
   "id": "0c9a672c-9fed-413a-9906-16c9048960be",
   "metadata": {},
   "outputs": [
    {
     "name": "stdout",
     "output_type": "stream",
     "text": [
      "<class 'pandas.core.frame.DataFrame'>\n",
      "Int64Index: 160 entries, 0 to 160\n",
      "Data columns (total 4 columns):\n",
      " #   Column      Non-Null Count  Dtype \n",
      "---  ------      --------------  ----- \n",
      " 0   product_id  160 non-null    int64 \n",
      " 1   quantity    160 non-null    int64 \n",
      " 2   name        160 non-null    object\n",
      " 3   date        160 non-null    object\n",
      "dtypes: int64(2), object(2)\n",
      "memory usage: 6.2+ KB\n"
     ]
    }
   ],
   "source": [
    "repeat_purchases.info()"
   ]
  },
  {
   "cell_type": "code",
   "execution_count": 128,
   "id": "100299d3-6a8e-4173-ab97-ff32909a63a0",
   "metadata": {},
   "outputs": [
    {
     "data": {
      "text/html": [
       "<div>\n",
       "<style scoped>\n",
       "    .dataframe tbody tr th:only-of-type {\n",
       "        vertical-align: middle;\n",
       "    }\n",
       "\n",
       "    .dataframe tbody tr th {\n",
       "        vertical-align: top;\n",
       "    }\n",
       "\n",
       "    .dataframe thead th {\n",
       "        text-align: right;\n",
       "    }\n",
       "</style>\n",
       "<table border=\"1\" class=\"dataframe\">\n",
       "  <thead>\n",
       "    <tr style=\"text-align: right;\">\n",
       "      <th></th>\n",
       "      <th>name</th>\n",
       "      <th>product_id</th>\n",
       "      <th>date</th>\n",
       "    </tr>\n",
       "  </thead>\n",
       "  <tbody>\n",
       "    <tr>\n",
       "      <th>37</th>\n",
       "      <td>Anton_Ivanov</td>\n",
       "      <td>15</td>\n",
       "      <td>2</td>\n",
       "    </tr>\n",
       "    <tr>\n",
       "      <th>92</th>\n",
       "      <td>Petr_Fedorov</td>\n",
       "      <td>94</td>\n",
       "      <td>2</td>\n",
       "    </tr>\n",
       "    <tr>\n",
       "      <th>0</th>\n",
       "      <td>Alexey_Fedorov</td>\n",
       "      <td>13</td>\n",
       "      <td>1</td>\n",
       "    </tr>\n",
       "    <tr>\n",
       "      <th>109</th>\n",
       "      <td>Petr_Smirnov</td>\n",
       "      <td>21</td>\n",
       "      <td>1</td>\n",
       "    </tr>\n",
       "    <tr>\n",
       "      <th>103</th>\n",
       "      <td>Petr_Petrov</td>\n",
       "      <td>64</td>\n",
       "      <td>1</td>\n",
       "    </tr>\n",
       "    <tr>\n",
       "      <th>...</th>\n",
       "      <td>...</td>\n",
       "      <td>...</td>\n",
       "      <td>...</td>\n",
       "    </tr>\n",
       "    <tr>\n",
       "      <th>54</th>\n",
       "      <td>Anton_Smirnov</td>\n",
       "      <td>28</td>\n",
       "      <td>1</td>\n",
       "    </tr>\n",
       "    <tr>\n",
       "      <th>55</th>\n",
       "      <td>Anton_Smirnov</td>\n",
       "      <td>33</td>\n",
       "      <td>1</td>\n",
       "    </tr>\n",
       "    <tr>\n",
       "      <th>56</th>\n",
       "      <td>Anton_Smirnov</td>\n",
       "      <td>34</td>\n",
       "      <td>1</td>\n",
       "    </tr>\n",
       "    <tr>\n",
       "      <th>57</th>\n",
       "      <td>Anton_Smirnov</td>\n",
       "      <td>40</td>\n",
       "      <td>1</td>\n",
       "    </tr>\n",
       "    <tr>\n",
       "      <th>157</th>\n",
       "      <td>Vasiliy_Petrov</td>\n",
       "      <td>78</td>\n",
       "      <td>1</td>\n",
       "    </tr>\n",
       "  </tbody>\n",
       "</table>\n",
       "<p>158 rows × 3 columns</p>\n",
       "</div>"
      ],
      "text/plain": [
       "               name  product_id  date\n",
       "37     Anton_Ivanov          15     2\n",
       "92     Petr_Fedorov          94     2\n",
       "0    Alexey_Fedorov          13     1\n",
       "109    Petr_Smirnov          21     1\n",
       "103     Petr_Petrov          64     1\n",
       "..              ...         ...   ...\n",
       "54    Anton_Smirnov          28     1\n",
       "55    Anton_Smirnov          33     1\n",
       "56    Anton_Smirnov          34     1\n",
       "57    Anton_Smirnov          40     1\n",
       "157  Vasiliy_Petrov          78     1\n",
       "\n",
       "[158 rows x 3 columns]"
      ]
     },
     "execution_count": 128,
     "metadata": {},
     "output_type": "execute_result"
    }
   ],
   "source": [
    "repeat_purchases.groupby(['name', 'product_id'], as_index=False).agg({'date':'count'}).sort_values('date', ascending=False)"
   ]
  },
  {
   "cell_type": "code",
   "execution_count": null,
   "id": "11e016c5-9559-451e-92f3-3439b0b9f02c",
   "metadata": {},
   "outputs": [],
   "source": []
  }
 ],
 "metadata": {
  "kernelspec": {
   "display_name": "Python 3.8 (XPython)",
   "language": "python",
   "name": "xpython"
  },
  "language_info": {
   "file_extension": ".py",
   "mimetype": "text/x-python",
   "name": "python",
   "version": "3.8.10"
  }
 },
 "nbformat": 4,
 "nbformat_minor": 5
}
