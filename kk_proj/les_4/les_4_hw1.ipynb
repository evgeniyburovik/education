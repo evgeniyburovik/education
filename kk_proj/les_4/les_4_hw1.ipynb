{
 "cells": [
  {
   "cell_type": "code",
   "execution_count": 4,
   "id": "99f86e44-1f38-48c3-958a-e3c31145e86f",
   "metadata": {},
   "outputs": [],
   "source": [
    "import pandas as pd\n",
    "import os"
   ]
  },
  {
   "cell_type": "code",
   "execution_count": 10,
   "id": "f83bf212-4076-4795-b492-5b79798d5060",
   "metadata": {},
   "outputs": [
    {
     "data": {
      "text/plain": [
       "'/Users/evgeniyburovik/Documents/Courses/les_4'"
      ]
     },
     "execution_count": 10,
     "metadata": {},
     "output_type": "execute_result"
    }
   ],
   "source": [
    "os.getcwd()"
   ]
  },
  {
   "cell_type": "code",
   "execution_count": 11,
   "id": "89593ef2-5211-4aa1-a427-d6e2b7157b35",
   "metadata": {},
   "outputs": [
    {
     "data": {
      "text/plain": [
       "['.DS_Store',\n",
       " '4_necessary_inn.txt',\n",
       " '.ipynb_checkpoints',\n",
       " '4_inn.xls',\n",
       " 'lesson_4_1_.ipynb',\n",
       " 'data',\n",
       " 'les_4_hw1.ipynb',\n",
       " 'les_4_hw.ipynb']"
      ]
     },
     "execution_count": 11,
     "metadata": {},
     "output_type": "execute_result"
    }
   ],
   "source": [
    "os.listdir('/Users/evgeniyburovik/Documents/Courses/les_4')"
   ]
  },
  {
   "cell_type": "code",
   "execution_count": 3,
   "id": "3bc79cca-780e-4f98-9fe2-197fee69649c",
   "metadata": {},
   "outputs": [],
   "source": [
    "df1 = pd.read_excel('4_inn.xls')"
   ]
  },
  {
   "cell_type": "code",
   "execution_count": 32,
   "id": "263fd049-47db-4751-87b4-37f17124891d",
   "metadata": {},
   "outputs": [
    {
     "data": {
      "text/html": [
       "<div>\n",
       "<style scoped>\n",
       "    .dataframe tbody tr th:only-of-type {\n",
       "        vertical-align: middle;\n",
       "    }\n",
       "\n",
       "    .dataframe tbody tr th {\n",
       "        vertical-align: top;\n",
       "    }\n",
       "\n",
       "    .dataframe thead th {\n",
       "        text-align: right;\n",
       "    }\n",
       "</style>\n",
       "<table border=\"1\" class=\"dataframe\">\n",
       "  <thead>\n",
       "    <tr style=\"text-align: right;\">\n",
       "      <th></th>\n",
       "      <th>head_inn</th>\n",
       "    </tr>\n",
       "  </thead>\n",
       "  <tbody>\n",
       "    <tr>\n",
       "      <th>0</th>\n",
       "      <td>394609645484</td>\n",
       "    </tr>\n",
       "    <tr>\n",
       "      <th>1</th>\n",
       "      <td>281578625230</td>\n",
       "    </tr>\n",
       "    <tr>\n",
       "      <th>2</th>\n",
       "      <td>923769811917</td>\n",
       "    </tr>\n",
       "    <tr>\n",
       "      <th>3</th>\n",
       "      <td>998694734508</td>\n",
       "    </tr>\n",
       "    <tr>\n",
       "      <th>4</th>\n",
       "      <td>271011690615</td>\n",
       "    </tr>\n",
       "  </tbody>\n",
       "</table>\n",
       "</div>"
      ],
      "text/plain": [
       "       head_inn\n",
       "0  394609645484\n",
       "1  281578625230\n",
       "2  923769811917\n",
       "3  998694734508\n",
       "4  271011690615"
      ]
     },
     "execution_count": 32,
     "metadata": {},
     "output_type": "execute_result"
    }
   ],
   "source": [
    "df2 = pd.read_csv('4_necessary_inn.txt', sep=' ', names = ['head_inn'])\n",
    "df2.head()"
   ]
  },
  {
   "cell_type": "code",
   "execution_count": 13,
   "id": "d1afd4ab-8209-4eb5-a6f6-164e0160c807",
   "metadata": {},
   "outputs": [
    {
     "data": {
      "text/html": [
       "<div>\n",
       "<style scoped>\n",
       "    .dataframe tbody tr th:only-of-type {\n",
       "        vertical-align: middle;\n",
       "    }\n",
       "\n",
       "    .dataframe tbody tr th {\n",
       "        vertical-align: top;\n",
       "    }\n",
       "\n",
       "    .dataframe thead th {\n",
       "        text-align: right;\n",
       "    }\n",
       "</style>\n",
       "<table border=\"1\" class=\"dataframe\">\n",
       "  <thead>\n",
       "    <tr style=\"text-align: right;\">\n",
       "      <th></th>\n",
       "      <th>Unnamed: 0</th>\n",
       "      <th>#</th>\n",
       "      <th>name</th>\n",
       "      <th>reg_number</th>\n",
       "      <th>address</th>\n",
       "      <th>head</th>\n",
       "      <th>head_job</th>\n",
       "      <th>head_inn</th>\n",
       "      <th>phone</th>\n",
       "      <th>email</th>\n",
       "      <th>site</th>\n",
       "      <th>registration_date</th>\n",
       "      <th>nalogoplatelschik_code</th>\n",
       "      <th>oktmo_code</th>\n",
       "      <th>okato_code</th>\n",
       "      <th>registration_region</th>\n",
       "      <th>okato_name</th>\n",
       "      <th>field</th>\n",
       "      <th>capital,RUB</th>\n",
       "      <th>income,RUB</th>\n",
       "    </tr>\n",
       "  </thead>\n",
       "  <tbody>\n",
       "    <tr>\n",
       "      <th>0</th>\n",
       "      <td>0</td>\n",
       "      <td>0</td>\n",
       "      <td>ЗАО «Власова, Макаров и Шашков»</td>\n",
       "      <td>1143692580560</td>\n",
       "      <td>д. Кирово-Чепецк, пр. Металлургов, д. 537 к. 3...</td>\n",
       "      <td>Жданов Карл Виленович</td>\n",
       "      <td>Маммолог</td>\n",
       "      <td>109092209811</td>\n",
       "      <td>+7 (559) 338-87-76</td>\n",
       "      <td>bogdanovavtonom@yahoo.com</td>\n",
       "      <td>ooo.info</td>\n",
       "      <td>2015-01-07</td>\n",
       "      <td>2006-10-04</td>\n",
       "      <td>21112877268</td>\n",
       "      <td>73423615032</td>\n",
       "      <td>Ulan-Ude</td>\n",
       "      <td>к. Тосно, ул. Пушкинская, д. 896, 617222</td>\n",
       "      <td>Синхронизация критически важных отношений</td>\n",
       "      <td>54875526078</td>\n",
       "      <td>32205872896</td>\n",
       "    </tr>\n",
       "    <tr>\n",
       "      <th>1</th>\n",
       "      <td>1</td>\n",
       "      <td>1</td>\n",
       "      <td>РАО «Тимофеева, Алексеева и Кузнецова»</td>\n",
       "      <td>9342309660697</td>\n",
       "      <td>г. Арзамас, наб. Фестивальная, д. 7 стр. 8/2, ...</td>\n",
       "      <td>Рожков Харлампий Алексеевич</td>\n",
       "      <td>Воспитатель</td>\n",
       "      <td>704229465069</td>\n",
       "      <td>8 (632) 620-8879</td>\n",
       "      <td>safonovantonin@rao.org</td>\n",
       "      <td>ooo.net</td>\n",
       "      <td>1990-05-16</td>\n",
       "      <td>2019-01-18</td>\n",
       "      <td>18393547520</td>\n",
       "      <td>19072454279</td>\n",
       "      <td>Tyoply Stan</td>\n",
       "      <td>ст. Кяхта, бул. Нефтяников, д. 24, 768742</td>\n",
       "      <td>Формирование заказных методик</td>\n",
       "      <td>33876448811</td>\n",
       "      <td>47437574301</td>\n",
       "    </tr>\n",
       "    <tr>\n",
       "      <th>2</th>\n",
       "      <td>2</td>\n",
       "      <td>2</td>\n",
       "      <td>РАО «Юдин-Ефимова»</td>\n",
       "      <td>1277485323451</td>\n",
       "      <td>п. Меренга, алл. Достоевского, д. 3/4 к. 497, ...</td>\n",
       "      <td>Филимон Фадеевич Дьячков</td>\n",
       "      <td>Автослесарь</td>\n",
       "      <td>267655036377</td>\n",
       "      <td>+74925330378</td>\n",
       "      <td>kdorofeev@npo.ru</td>\n",
       "      <td>ao.com</td>\n",
       "      <td>1982-11-04</td>\n",
       "      <td>1986-06-19</td>\n",
       "      <td>56104355836</td>\n",
       "      <td>18629292792</td>\n",
       "      <td>Danilov</td>\n",
       "      <td>клх Усолье Сибирское, алл. Шишкина, д. 3/9 к. ...</td>\n",
       "      <td>Максимизация корпоративных метрик</td>\n",
       "      <td>94073834991</td>\n",
       "      <td>7701710065</td>\n",
       "    </tr>\n",
       "    <tr>\n",
       "      <th>3</th>\n",
       "      <td>3</td>\n",
       "      <td>3</td>\n",
       "      <td>Доронин Инкорпорэйтед</td>\n",
       "      <td>7139161431511</td>\n",
       "      <td>д. Иваново, ул. Красных Партизан, д. 83 к. 4, ...</td>\n",
       "      <td>Крылов Глеб Якубович</td>\n",
       "      <td>Тюремный надзиратель</td>\n",
       "      <td>362024991175</td>\n",
       "      <td>+7 118 643 21 48</td>\n",
       "      <td>nkulakova@mail.ru</td>\n",
       "      <td>ooo.ru</td>\n",
       "      <td>2005-01-02</td>\n",
       "      <td>2004-04-06</td>\n",
       "      <td>10398489351</td>\n",
       "      <td>32502585383</td>\n",
       "      <td>Beryozovsky</td>\n",
       "      <td>г. Заводоуковск, ул. Гражданская, д. 7 к. 8/5,...</td>\n",
       "      <td>Разработка ориентированных на пользователя инт...</td>\n",
       "      <td>86971505490</td>\n",
       "      <td>61148002572</td>\n",
       "    </tr>\n",
       "    <tr>\n",
       "      <th>4</th>\n",
       "      <td>4</td>\n",
       "      <td>4</td>\n",
       "      <td>Объединенная энергетическая компания</td>\n",
       "      <td>6114798049639</td>\n",
       "      <td>к. Энгельс, наб. Шишкина, д. 120, 823828</td>\n",
       "      <td>Субботин Вячеслав Федотович</td>\n",
       "      <td>Инженер-электрик</td>\n",
       "      <td>257948948010</td>\n",
       "      <td>8 642 249 2134</td>\n",
       "      <td>evgraf_18@yahoo.com</td>\n",
       "      <td>gerasimova.biz</td>\n",
       "      <td>1983-07-02</td>\n",
       "      <td>1992-06-20</td>\n",
       "      <td>20074507047</td>\n",
       "      <td>40083207999</td>\n",
       "      <td>Bavly</td>\n",
       "      <td>к. Соль-Илецк, пер. Пригородный, д. 804 к. 1/3...</td>\n",
       "      <td>Монетизация интуитивных веб-сервисов</td>\n",
       "      <td>36351136214</td>\n",
       "      <td>34861533393</td>\n",
       "    </tr>\n",
       "  </tbody>\n",
       "</table>\n",
       "</div>"
      ],
      "text/plain": [
       "   Unnamed: 0  #                                    name     reg_number  \\\n",
       "0           0  0         ЗАО «Власова, Макаров и Шашков»  1143692580560   \n",
       "1           1  1  РАО «Тимофеева, Алексеева и Кузнецова»  9342309660697   \n",
       "2           2  2                      РАО «Юдин-Ефимова»  1277485323451   \n",
       "3           3  3                   Доронин Инкорпорэйтед  7139161431511   \n",
       "4           4  4    Объединенная энергетическая компания  6114798049639   \n",
       "\n",
       "                                             address  \\\n",
       "0  д. Кирово-Чепецк, пр. Металлургов, д. 537 к. 3...   \n",
       "1  г. Арзамас, наб. Фестивальная, д. 7 стр. 8/2, ...   \n",
       "2  п. Меренга, алл. Достоевского, д. 3/4 к. 497, ...   \n",
       "3  д. Иваново, ул. Красных Партизан, д. 83 к. 4, ...   \n",
       "4           к. Энгельс, наб. Шишкина, д. 120, 823828   \n",
       "\n",
       "                          head              head_job      head_inn  \\\n",
       "0        Жданов Карл Виленович              Маммолог  109092209811   \n",
       "1  Рожков Харлампий Алексеевич           Воспитатель  704229465069   \n",
       "2     Филимон Фадеевич Дьячков           Автослесарь  267655036377   \n",
       "3         Крылов Глеб Якубович  Тюремный надзиратель  362024991175   \n",
       "4  Субботин Вячеслав Федотович      Инженер-электрик  257948948010   \n",
       "\n",
       "                phone                      email            site  \\\n",
       "0  +7 (559) 338-87-76  bogdanovavtonom@yahoo.com        ooo.info   \n",
       "1    8 (632) 620-8879     safonovantonin@rao.org         ooo.net   \n",
       "2        +74925330378           kdorofeev@npo.ru          ao.com   \n",
       "3    +7 118 643 21 48          nkulakova@mail.ru          ooo.ru   \n",
       "4      8 642 249 2134        evgraf_18@yahoo.com  gerasimova.biz   \n",
       "\n",
       "  registration_date nalogoplatelschik_code   oktmo_code   okato_code  \\\n",
       "0        2015-01-07             2006-10-04  21112877268  73423615032   \n",
       "1        1990-05-16             2019-01-18  18393547520  19072454279   \n",
       "2        1982-11-04             1986-06-19  56104355836  18629292792   \n",
       "3        2005-01-02             2004-04-06  10398489351  32502585383   \n",
       "4        1983-07-02             1992-06-20  20074507047  40083207999   \n",
       "\n",
       "  registration_region                                         okato_name  \\\n",
       "0            Ulan-Ude           к. Тосно, ул. Пушкинская, д. 896, 617222   \n",
       "1         Tyoply Stan          ст. Кяхта, бул. Нефтяников, д. 24, 768742   \n",
       "2             Danilov  клх Усолье Сибирское, алл. Шишкина, д. 3/9 к. ...   \n",
       "3         Beryozovsky  г. Заводоуковск, ул. Гражданская, д. 7 к. 8/5,...   \n",
       "4               Bavly  к. Соль-Илецк, пер. Пригородный, д. 804 к. 1/3...   \n",
       "\n",
       "                                               field  capital,RUB   income,RUB  \n",
       "0          Синхронизация критически важных отношений  54875526078  32205872896  \n",
       "1                      Формирование заказных методик  33876448811  47437574301  \n",
       "2                  Максимизация корпоративных метрик  94073834991   7701710065  \n",
       "3  Разработка ориентированных на пользователя инт...  86971505490  61148002572  \n",
       "4               Монетизация интуитивных веб-сервисов  36351136214  34861533393  "
      ]
     },
     "execution_count": 13,
     "metadata": {},
     "output_type": "execute_result"
    }
   ],
   "source": [
    "df1.head()"
   ]
  },
  {
   "cell_type": "code",
   "execution_count": 33,
   "id": "54ea01b1-9081-4ba6-9241-665c2063a4fe",
   "metadata": {},
   "outputs": [],
   "source": [
    "df = df2.merge(df1, on = 'head_inn')"
   ]
  },
  {
   "cell_type": "code",
   "execution_count": 34,
   "id": "45bb6063-4180-4443-9b13-eec6d0425ff1",
   "metadata": {},
   "outputs": [
    {
     "name": "stdout",
     "output_type": "stream",
     "text": [
      "<class 'pandas.core.frame.DataFrame'>\n",
      "Int64Index: 115 entries, 0 to 114\n",
      "Data columns (total 20 columns):\n",
      " #   Column                  Non-Null Count  Dtype \n",
      "---  ------                  --------------  ----- \n",
      " 0   head_inn                115 non-null    int64 \n",
      " 1   Unnamed: 0              115 non-null    int64 \n",
      " 2   #                       115 non-null    int64 \n",
      " 3   name                    115 non-null    object\n",
      " 4   reg_number              115 non-null    int64 \n",
      " 5   address                 115 non-null    object\n",
      " 6   head                    115 non-null    object\n",
      " 7   head_job                115 non-null    object\n",
      " 8   phone                   115 non-null    object\n",
      " 9   email                   115 non-null    object\n",
      " 10  site                    115 non-null    object\n",
      " 11  registration_date       115 non-null    object\n",
      " 12  nalogoplatelschik_code  115 non-null    object\n",
      " 13  oktmo_code              115 non-null    int64 \n",
      " 14  okato_code              115 non-null    int64 \n",
      " 15  registration_region     115 non-null    object\n",
      " 16  okato_name              115 non-null    object\n",
      " 17  field                   115 non-null    object\n",
      " 18  capital,RUB             115 non-null    int64 \n",
      " 19  income,RUB              115 non-null    int64 \n",
      "dtypes: int64(8), object(12)\n",
      "memory usage: 18.9+ KB\n"
     ]
    }
   ],
   "source": [
    "df.info()"
   ]
  },
  {
   "cell_type": "code",
   "execution_count": 44,
   "id": "813e00f7-3e42-486e-abb0-0d665af93f18",
   "metadata": {},
   "outputs": [],
   "source": [
    "sum_income = df['income,RUB'].sum()"
   ]
  },
  {
   "cell_type": "code",
   "execution_count": 37,
   "id": "2f5e4d86-1d14-42a0-b2e3-38bceff95077",
   "metadata": {},
   "outputs": [],
   "source": [
    "selected_inn  = df2.head_inn.tolist()"
   ]
  },
  {
   "cell_type": "code",
   "execution_count": 38,
   "id": "c354c838-dd85-4215-8e46-f5f17fe6e7cd",
   "metadata": {},
   "outputs": [],
   "source": [
    "df = df1.query('head_inn in @selected_inn')"
   ]
  },
  {
   "cell_type": "code",
   "execution_count": 40,
   "id": "f340cd93-fb82-4e71-ba8d-612f79a7f601",
   "metadata": {},
   "outputs": [
    {
     "name": "stdout",
     "output_type": "stream",
     "text": [
      "<class 'pandas.core.frame.DataFrame'>\n",
      "Int64Index: 115 entries, 47 to 2108\n",
      "Data columns (total 20 columns):\n",
      " #   Column                  Non-Null Count  Dtype \n",
      "---  ------                  --------------  ----- \n",
      " 0   Unnamed: 0              115 non-null    int64 \n",
      " 1   #                       115 non-null    int64 \n",
      " 2   name                    115 non-null    object\n",
      " 3   reg_number              115 non-null    int64 \n",
      " 4   address                 115 non-null    object\n",
      " 5   head                    115 non-null    object\n",
      " 6   head_job                115 non-null    object\n",
      " 7   head_inn                115 non-null    int64 \n",
      " 8   phone                   115 non-null    object\n",
      " 9   email                   115 non-null    object\n",
      " 10  site                    115 non-null    object\n",
      " 11  registration_date       115 non-null    object\n",
      " 12  nalogoplatelschik_code  115 non-null    object\n",
      " 13  oktmo_code              115 non-null    int64 \n",
      " 14  okato_code              115 non-null    int64 \n",
      " 15  registration_region     115 non-null    object\n",
      " 16  okato_name              115 non-null    object\n",
      " 17  field                   115 non-null    object\n",
      " 18  capital,RUB             115 non-null    int64 \n",
      " 19  income,RUB              115 non-null    int64 \n",
      "dtypes: int64(8), object(12)\n",
      "memory usage: 18.9+ KB\n"
     ]
    }
   ],
   "source": [
    "df.info()"
   ]
  },
  {
   "cell_type": "code",
   "execution_count": 45,
   "id": "0419e97d-1de3-4e1e-b29a-efa32cff2cbf",
   "metadata": {},
   "outputs": [],
   "source": [
    "sum_income_var_2 = df['income,RUB'].sum()"
   ]
  },
  {
   "cell_type": "code",
   "execution_count": 47,
   "id": "ee53a5ad-c978-49ad-b4d7-a83c41f2f054",
   "metadata": {},
   "outputs": [
    {
     "name": "stdout",
     "output_type": "stream",
     "text": [
      "Все верно!\n"
     ]
    }
   ],
   "source": [
    "if sum_income_var_2 == sum_income:\n",
    "    print('Все верно!')\n",
    "else:\n",
    "    print('Что-то пошло не так')"
   ]
  },
  {
   "cell_type": "code",
   "execution_count": null,
   "id": "a0c2f099-f004-47b5-820e-499b89298ac6",
   "metadata": {},
   "outputs": [],
   "source": []
  }
 ],
 "metadata": {
  "kernelspec": {
   "display_name": "Python 3",
   "language": "python",
   "name": "python3"
  },
  "language_info": {
   "codemirror_mode": {
    "name": "ipython",
    "version": 3
   },
   "file_extension": ".py",
   "mimetype": "text/x-python",
   "name": "python",
   "nbconvert_exporter": "python",
   "pygments_lexer": "ipython3",
   "version": "3.8.8"
  }
 },
 "nbformat": 4,
 "nbformat_minor": 5
}
