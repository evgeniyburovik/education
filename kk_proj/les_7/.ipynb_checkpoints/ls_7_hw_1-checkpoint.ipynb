{
 "cells": [
  {
   "cell_type": "code",
   "execution_count": 1,
   "id": "91c21ced",
   "metadata": {},
   "outputs": [],
   "source": [
    "import os\n",
    "\n",
    "import pandas as pd\n",
    "import numpy as np\n",
    "\n",
    "import matplotlib.pyplot as plt\n",
    "%matplotlib inline\n",
    "import seaborn as sns\n",
    "import plotly.express as px"
   ]
  },
  {
   "cell_type": "code",
   "execution_count": 2,
   "id": "8dac392f",
   "metadata": {},
   "outputs": [],
   "source": [
    "# Подготавливаем общие настройки для графиков\n",
    "\n",
    "sns.set(\n",
    "    rc={\n",
    "        \"figure.figsize\": (20, 10), #размер графика - 12 дюймов в ширину, 8 в длину\n",
    "        \"axes.titlesize\": 20, #размер заголовка \n",
    "        \"axes.labelsize\": 14, #размер подписей осей\n",
    "        \"xtick.labelsize\": 13, #размер подписей чёрточек на x-оси\n",
    "        \"ytick.labelsize\": 13, #размер подписей чёрточек на y-оси\n",
    "    }\n",
    ")\n",
    "\n",
    "sns.set_style(\"whitegrid\") #тема фона, белая со штриховкой\n",
    "sns.set(font_scale=2)"
   ]
  },
  {
   "cell_type": "markdown",
   "id": "1d2bf5ba",
   "metadata": {},
   "source": [
    " ## Задание 1"
   ]
  },
  {
   "cell_type": "code",
   "execution_count": null,
   "id": "a7d55719",
   "metadata": {},
   "outputs": [],
   "source": [
    "from io import BytesIO\n",
    "import requests\n",
    "\n",
    "\n",
    "req = requests.get('https://docs.google.com/spreadsheets/d/1e3PRXmMNXo9AZZnaol1aHgYxtH6KYaCDymEQlK6jaO8/export?format=csv')\n",
    "data = req.content\n",
    "\n",
    "df = pd.read_csv(BytesIO(data))"
   ]
  },
  {
   "cell_type": "code",
   "execution_count": null,
   "id": "703781e8",
   "metadata": {},
   "outputs": [],
   "source": [
    "df"
   ]
  },
  {
   "cell_type": "code",
   "execution_count": null,
   "id": "7ac4e0be",
   "metadata": {},
   "outputs": [],
   "source": [
    "all_piple = df.users.sum()"
   ]
  },
  {
   "cell_type": "code",
   "execution_count": null,
   "id": "56a2204b",
   "metadata": {},
   "outputs": [],
   "source": [
    "male = df.query('gender == \"male\"').users[1]"
   ]
  },
  {
   "cell_type": "code",
   "execution_count": null,
   "id": "2185e741",
   "metadata": {},
   "outputs": [],
   "source": [
    "round(male*100/all_piple)"
   ]
  },
  {
   "cell_type": "markdown",
   "id": "3eb2fb87",
   "metadata": {},
   "source": [
    "## Задание 2"
   ]
  },
  {
   "cell_type": "code",
   "execution_count": null,
   "id": "17139b1f",
   "metadata": {},
   "outputs": [],
   "source": [
    "os.getcwd()"
   ]
  },
  {
   "cell_type": "code",
   "execution_count": null,
   "id": "05ab7ca4",
   "metadata": {},
   "outputs": [],
   "source": [
    "os.listdir(os.getcwd())[2]"
   ]
  },
  {
   "cell_type": "code",
   "execution_count": null,
   "id": "fa96438d",
   "metadata": {},
   "outputs": [],
   "source": [
    "df = pd.read_csv('/Users/evgeniyburovik/Documents/Courses/les_7/7_browser.csv')"
   ]
  },
  {
   "cell_type": "code",
   "execution_count": null,
   "id": "48a1cf55",
   "metadata": {},
   "outputs": [],
   "source": [
    "df"
   ]
  },
  {
   "cell_type": "code",
   "execution_count": null,
   "id": "d6e8374e",
   "metadata": {},
   "outputs": [],
   "source": [
    "df['is_Robots'] = np.where(df.user_type.str.contains('Robots', regex=False), 1, 0)"
   ]
  },
  {
   "cell_type": "code",
   "execution_count": null,
   "id": "15ee226f",
   "metadata": {},
   "outputs": [],
   "source": [
    "df[['is_Google ']] = np.where(df.browser.str.contains('Chrome', regex=False), 1, 0)"
   ]
  },
  {
   "cell_type": "code",
   "execution_count": null,
   "id": "d5f9ea78",
   "metadata": {},
   "outputs": [],
   "source": [
    "df['is_go_robots'] = df['is_Robots'] & df['is_Google']"
   ]
  },
  {
   "cell_type": "code",
   "execution_count": null,
   "id": "527d05ea",
   "metadata": {},
   "outputs": [],
   "source": [
    "df"
   ]
  },
  {
   "cell_type": "code",
   "execution_count": null,
   "id": "52daf581",
   "metadata": {},
   "outputs": [],
   "source": []
  }
 ],
 "metadata": {
  "kernelspec": {
   "display_name": "Python 3",
   "language": "python",
   "name": "python3"
  },
  "language_info": {
   "codemirror_mode": {
    "name": "ipython",
    "version": 3
   },
   "file_extension": ".py",
   "mimetype": "text/x-python",
   "name": "python",
   "nbconvert_exporter": "python",
   "pygments_lexer": "ipython3",
   "version": "3.8.8"
  }
 },
 "nbformat": 4,
 "nbformat_minor": 5
}
