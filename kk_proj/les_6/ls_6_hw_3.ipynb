{
 "cells": [
  {
   "cell_type": "code",
   "execution_count": 1,
   "id": "22321731",
   "metadata": {},
   "outputs": [],
   "source": [
    "import os\n",
    "\n",
    "import pandas as pd\n",
    "import numpy as np\n",
    "\n",
    "import matplotlib.pyplot as plt\n",
    "%matplotlib inline\n",
    "import seaborn as sns\n",
    "import plotly.express as px"
   ]
  },
  {
   "cell_type": "code",
   "execution_count": 2,
   "id": "84a37db5",
   "metadata": {},
   "outputs": [],
   "source": [
    "# Подготавливаем общие настройки для графиков\n",
    "\n",
    "sns.set(\n",
    "    rc={\n",
    "        \"figure.figsize\": (20, 10), #размер графика - 12 дюймов в ширину, 8 в длину\n",
    "        \"axes.titlesize\": 20, #размер заголовка \n",
    "        \"axes.labelsize\": 14, #размер подписей осей\n",
    "        \"xtick.labelsize\": 13, #размер подписей чёрточек на x-оси\n",
    "        \"ytick.labelsize\": 13, #размер подписей чёрточек на y-оси\n",
    "    }\n",
    ")\n",
    "\n",
    "sns.set_style(\"whitegrid\") #тема фона, белая со штриховкой\n",
    "sns.set(font_scale=2)"
   ]
  },
  {
   "cell_type": "code",
   "execution_count": 3,
   "id": "606f0649",
   "metadata": {},
   "outputs": [
    {
     "data": {
      "text/plain": [
       "'gff.tsv'"
      ]
     },
     "execution_count": 3,
     "metadata": {},
     "output_type": "execute_result"
    }
   ],
   "source": [
    "os.listdir('/Users/evgeniyburovik/Documents/Courses/les_6')[9]"
   ]
  },
  {
   "cell_type": "markdown",
   "id": "221c8cde",
   "metadata": {},
   "source": [
    "## Задание 1"
   ]
  },
  {
   "cell_type": "code",
   "execution_count": 4,
   "id": "df3d5671",
   "metadata": {},
   "outputs": [],
   "source": [
    "df = pd.read_csv('/Users/evgeniyburovik/Documents/Courses/les_6/gff.tsv', sep = ' ')\n"
   ]
  },
  {
   "cell_type": "code",
   "execution_count": 5,
   "id": "cec551ce",
   "metadata": {},
   "outputs": [
    {
     "name": "stdout",
     "output_type": "stream",
     "text": [
      "<class 'pandas.core.frame.DataFrame'>\n",
      "RangeIndex: 512 entries, 0 to 511\n",
      "Data columns (total 1 columns):\n",
      " #   Column   Non-Null Count  Dtype \n",
      "---  ------   --------------  ----- \n",
      " 0   columns  512 non-null    object\n",
      "dtypes: object(1)\n",
      "memory usage: 4.1+ KB\n"
     ]
    }
   ],
   "source": [
    "df = df.rename(columns={'seq_id\\tsource\\ttype\\tstart\\tend\\tscore\\tstrand\\tphase\\tattributes': 'columns'})\n",
    "df.info()"
   ]
  },
  {
   "cell_type": "code",
   "execution_count": 6,
   "id": "33344525",
   "metadata": {},
   "outputs": [],
   "source": [
    "# Разделяем по нужным символам строки и берем нужные индексы с помощью str\n",
    "df['Parent'] = df['columns'].str.split(';').str[-1].str.split('=').str[-1]"
   ]
  },
  {
   "cell_type": "code",
   "execution_count": 7,
   "id": "9f9c411f",
   "metadata": {},
   "outputs": [
    {
     "data": {
      "text/plain": [
       "array(['XM_001475631.1', 'XM_001475631.1,', 'NC_000083.5:LOC100040603'],\n",
       "      dtype=object)"
      ]
     },
     "execution_count": 7,
     "metadata": {},
     "output_type": "execute_result"
    }
   ],
   "source": [
    "df['Parent'].unique()"
   ]
  },
  {
   "cell_type": "code",
   "execution_count": 8,
   "id": "c77c0592",
   "metadata": {},
   "outputs": [],
   "source": [
    "# Удаляем ненужную запятую, которая попала в одно из значений\n",
    "df['Parent'] = df.Parent.str.strip(',')"
   ]
  },
  {
   "cell_type": "code",
   "execution_count": 9,
   "id": "b15b41aa",
   "metadata": {},
   "outputs": [
    {
     "data": {
      "text/plain": [
       "array(['XM_001475631.1', 'NC_000083.5:LOC100040603'], dtype=object)"
      ]
     },
     "execution_count": 9,
     "metadata": {},
     "output_type": "execute_result"
    }
   ],
   "source": [
    "df['Parent'].unique()"
   ]
  },
  {
   "cell_type": "code",
   "execution_count": 10,
   "id": "cceb8d77",
   "metadata": {},
   "outputs": [
    {
     "data": {
      "text/html": [
       "<div>\n",
       "<style scoped>\n",
       "    .dataframe tbody tr th:only-of-type {\n",
       "        vertical-align: middle;\n",
       "    }\n",
       "\n",
       "    .dataframe tbody tr th {\n",
       "        vertical-align: top;\n",
       "    }\n",
       "\n",
       "    .dataframe thead th {\n",
       "        text-align: right;\n",
       "    }\n",
       "</style>\n",
       "<table border=\"1\" class=\"dataframe\">\n",
       "  <thead>\n",
       "    <tr style=\"text-align: right;\">\n",
       "      <th></th>\n",
       "      <th>columns</th>\n",
       "    </tr>\n",
       "    <tr>\n",
       "      <th>Parent</th>\n",
       "      <th></th>\n",
       "    </tr>\n",
       "  </thead>\n",
       "  <tbody>\n",
       "    <tr>\n",
       "      <th>NC_000083.5:LOC100040603</th>\n",
       "      <td>33</td>\n",
       "    </tr>\n",
       "    <tr>\n",
       "      <th>XM_001475631.1</th>\n",
       "      <td>479</td>\n",
       "    </tr>\n",
       "  </tbody>\n",
       "</table>\n",
       "</div>"
      ],
      "text/plain": [
       "                          columns\n",
       "Parent                           \n",
       "NC_000083.5:LOC100040603       33\n",
       "XM_001475631.1                479"
      ]
     },
     "execution_count": 10,
     "metadata": {},
     "output_type": "execute_result"
    }
   ],
   "source": [
    "df.groupby('Parent').agg({'columns':'count'})"
   ]
  },
  {
   "cell_type": "code",
   "execution_count": 11,
   "id": "3cd3bf99",
   "metadata": {},
   "outputs": [
    {
     "data": {
      "text/plain": [
       "'chr17\\tRefSeq\\tmRNA\\t6797760\\t6818159\\t.\\t+\\t.\\tID=XM_001475631.1;Parent=NC_000083.5:LOC100040603'"
      ]
     },
     "execution_count": 11,
     "metadata": {},
     "output_type": "execute_result"
    }
   ],
   "source": [
    "df['columns'].iloc[8]"
   ]
  },
  {
   "cell_type": "code",
   "execution_count": 12,
   "id": "f961f25f",
   "metadata": {},
   "outputs": [],
   "source": [
    "df2 = pd.read_csv('/Users/evgeniyburovik/Documents/Courses/les_6/gff.tsv', sep = ' ')"
   ]
  },
  {
   "cell_type": "code",
   "execution_count": 13,
   "id": "770b5e7a",
   "metadata": {},
   "outputs": [
    {
     "data": {
      "text/html": [
       "<div>\n",
       "<style scoped>\n",
       "    .dataframe tbody tr th:only-of-type {\n",
       "        vertical-align: middle;\n",
       "    }\n",
       "\n",
       "    .dataframe tbody tr th {\n",
       "        vertical-align: top;\n",
       "    }\n",
       "\n",
       "    .dataframe thead th {\n",
       "        text-align: right;\n",
       "    }\n",
       "</style>\n",
       "<table border=\"1\" class=\"dataframe\">\n",
       "  <thead>\n",
       "    <tr style=\"text-align: right;\">\n",
       "      <th></th>\n",
       "      <th>seq_id\\tsource\\ttype\\tstart\\tend\\tscore\\tstrand\\tphase\\tattributes</th>\n",
       "    </tr>\n",
       "  </thead>\n",
       "  <tbody>\n",
       "    <tr>\n",
       "      <th>0</th>\n",
       "      <td>chr17\\tRefSeq\\texon\\t6811330\\t6811453\\t.\\t+\\t....</td>\n",
       "    </tr>\n",
       "    <tr>\n",
       "      <th>1</th>\n",
       "      <td>chr17\\tRefSeq\\tCDS\\t6808204\\t6808245\\t.\\t+\\t0\\...</td>\n",
       "    </tr>\n",
       "    <tr>\n",
       "      <th>2</th>\n",
       "      <td>chr17\\tRefSeq\\tCDS\\t6811792\\t6811869\\t.\\t+\\t2\\...</td>\n",
       "    </tr>\n",
       "    <tr>\n",
       "      <th>3</th>\n",
       "      <td>chr17\\tRefSeq\\texon\\t6806513\\t6806553\\t.\\t+\\t....</td>\n",
       "    </tr>\n",
       "    <tr>\n",
       "      <th>4</th>\n",
       "      <td>chr17\\tRefSeq\\tfive_prime_UTR\\t6806513\\t680652...</td>\n",
       "    </tr>\n",
       "    <tr>\n",
       "      <th>...</th>\n",
       "      <td>...</td>\n",
       "    </tr>\n",
       "    <tr>\n",
       "      <th>507</th>\n",
       "      <td>chr17\\tRefSeq\\texon\\t6812219\\t6818159\\t.\\t+\\t....</td>\n",
       "    </tr>\n",
       "    <tr>\n",
       "      <th>508</th>\n",
       "      <td>chr17\\tRefSeq\\tprotein\\t6806527\\t6812289\\t.\\t+...</td>\n",
       "    </tr>\n",
       "    <tr>\n",
       "      <th>509</th>\n",
       "      <td>chr17\\tRefSeq\\tCDS\\t6806527\\t6806553\\t.\\t+\\t0\\...</td>\n",
       "    </tr>\n",
       "    <tr>\n",
       "      <th>510</th>\n",
       "      <td>chr17\\tRefSeq\\texon\\t6811792\\t6811869\\t.\\t+\\t....</td>\n",
       "    </tr>\n",
       "    <tr>\n",
       "      <th>511</th>\n",
       "      <td>chr17\\tRefSeq\\texon\\t6806513\\t6806553\\t.\\t+\\t....</td>\n",
       "    </tr>\n",
       "  </tbody>\n",
       "</table>\n",
       "<p>512 rows × 1 columns</p>\n",
       "</div>"
      ],
      "text/plain": [
       "    seq_id\\tsource\\ttype\\tstart\\tend\\tscore\\tstrand\\tphase\\tattributes\n",
       "0    chr17\\tRefSeq\\texon\\t6811330\\t6811453\\t.\\t+\\t....                \n",
       "1    chr17\\tRefSeq\\tCDS\\t6808204\\t6808245\\t.\\t+\\t0\\...                \n",
       "2    chr17\\tRefSeq\\tCDS\\t6811792\\t6811869\\t.\\t+\\t2\\...                \n",
       "3    chr17\\tRefSeq\\texon\\t6806513\\t6806553\\t.\\t+\\t....                \n",
       "4    chr17\\tRefSeq\\tfive_prime_UTR\\t6806513\\t680652...                \n",
       "..                                                 ...                \n",
       "507  chr17\\tRefSeq\\texon\\t6812219\\t6818159\\t.\\t+\\t....                \n",
       "508  chr17\\tRefSeq\\tprotein\\t6806527\\t6812289\\t.\\t+...                \n",
       "509  chr17\\tRefSeq\\tCDS\\t6806527\\t6806553\\t.\\t+\\t0\\...                \n",
       "510  chr17\\tRefSeq\\texon\\t6811792\\t6811869\\t.\\t+\\t....                \n",
       "511  chr17\\tRefSeq\\texon\\t6806513\\t6806553\\t.\\t+\\t....                \n",
       "\n",
       "[512 rows x 1 columns]"
      ]
     },
     "execution_count": 13,
     "metadata": {},
     "output_type": "execute_result"
    }
   ],
   "source": [
    "df2"
   ]
  },
  {
   "cell_type": "code",
   "execution_count": 14,
   "id": "ea30c4dc",
   "metadata": {},
   "outputs": [],
   "source": [
    "# Пишем регулярку с разбивкой по словам\n",
    "import re\n",
    "pattern = re.compile('\\w+')\n"
   ]
  },
  {
   "cell_type": "code",
   "execution_count": 24,
   "id": "b3123176",
   "metadata": {},
   "outputs": [],
   "source": [
    "def rewords(row):\n",
    "    return pattern.findall(row)[2]"
   ]
  },
  {
   "cell_type": "code",
   "execution_count": 30,
   "id": "4aeabef7",
   "metadata": {},
   "outputs": [],
   "source": [
    "# Передаем строку и отбираем нужный столбец по индексу\n",
    "df['type'] = df['columns'].apply(rewords)"
   ]
  },
  {
   "cell_type": "code",
   "execution_count": 31,
   "id": "797d0a69",
   "metadata": {},
   "outputs": [
    {
     "data": {
      "text/html": [
       "<div>\n",
       "<style scoped>\n",
       "    .dataframe tbody tr th:only-of-type {\n",
       "        vertical-align: middle;\n",
       "    }\n",
       "\n",
       "    .dataframe tbody tr th {\n",
       "        vertical-align: top;\n",
       "    }\n",
       "\n",
       "    .dataframe thead th {\n",
       "        text-align: right;\n",
       "    }\n",
       "</style>\n",
       "<table border=\"1\" class=\"dataframe\">\n",
       "  <thead>\n",
       "    <tr style=\"text-align: right;\">\n",
       "      <th></th>\n",
       "      <th>columns</th>\n",
       "    </tr>\n",
       "    <tr>\n",
       "      <th>type</th>\n",
       "      <th></th>\n",
       "    </tr>\n",
       "  </thead>\n",
       "  <tbody>\n",
       "    <tr>\n",
       "      <th>exon</th>\n",
       "      <td>201</td>\n",
       "    </tr>\n",
       "    <tr>\n",
       "      <th>CDS</th>\n",
       "      <td>170</td>\n",
       "    </tr>\n",
       "    <tr>\n",
       "      <th>five_prime_UTR</th>\n",
       "      <td>47</td>\n",
       "    </tr>\n",
       "    <tr>\n",
       "      <th>mRNA</th>\n",
       "      <td>33</td>\n",
       "    </tr>\n",
       "    <tr>\n",
       "      <th>three_prime_UTR</th>\n",
       "      <td>32</td>\n",
       "    </tr>\n",
       "    <tr>\n",
       "      <th>protein</th>\n",
       "      <td>29</td>\n",
       "    </tr>\n",
       "  </tbody>\n",
       "</table>\n",
       "</div>"
      ],
      "text/plain": [
       "                 columns\n",
       "type                    \n",
       "exon                 201\n",
       "CDS                  170\n",
       "five_prime_UTR        47\n",
       "mRNA                  33\n",
       "three_prime_UTR       32\n",
       "protein               29"
      ]
     },
     "execution_count": 31,
     "metadata": {},
     "output_type": "execute_result"
    }
   ],
   "source": [
    "df.groupby('type').agg({'columns':'count'}).sort_values('columns', ascending=False)"
   ]
  },
  {
   "cell_type": "code",
   "execution_count": null,
   "id": "38db2403",
   "metadata": {},
   "outputs": [],
   "source": []
  }
 ],
 "metadata": {
  "kernelspec": {
   "display_name": "Python 3",
   "language": "python",
   "name": "python3"
  },
  "language_info": {
   "codemirror_mode": {
    "name": "ipython",
    "version": 3
   },
   "file_extension": ".py",
   "mimetype": "text/x-python",
   "name": "python",
   "nbconvert_exporter": "python",
   "pygments_lexer": "ipython3",
   "version": "3.8.8"
  }
 },
 "nbformat": 4,
 "nbformat_minor": 5
}
