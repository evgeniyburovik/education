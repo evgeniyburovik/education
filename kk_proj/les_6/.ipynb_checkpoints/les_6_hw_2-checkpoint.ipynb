{
 "cells": [
  {
   "cell_type": "code",
   "execution_count": 7,
   "id": "6297a452",
   "metadata": {},
   "outputs": [],
   "source": [
    "#Импорт библиотек\n",
    "import os\n",
    "\n",
    "import pandas as pd\n",
    "import numpy as np\n",
    "\n",
    "import matplotlib.pyplot as plt\n",
    "%matplotlib inline\n",
    "import seaborn as sns\n",
    "import plotly.express as px"
   ]
  },
  {
   "cell_type": "code",
   "execution_count": 8,
   "id": "5e3797c7",
   "metadata": {},
   "outputs": [],
   "source": [
    "# Подготавливаем общие настройки для графиков\n",
    "\n",
    "sns.set(\n",
    "    rc={\n",
    "        \"figure.figsize\": (20, 10), #размер графика - 12 дюймов в ширину, 8 в длину\n",
    "        \"axes.titlesize\": 20, #размер заголовка \n",
    "        \"axes.labelsize\": 14, #размер подписей осей\n",
    "        \"xtick.labelsize\": 13, #размер подписей чёрточек на x-оси\n",
    "        \"ytick.labelsize\": 13, #размер подписей чёрточек на y-оси\n",
    "    }\n",
    ")\n",
    "\n",
    "sns.set_style(\"whitegrid\") #тема фона, белая со штриховкой\n",
    "sns.set(font_scale=2)"
   ]
  },
  {
   "cell_type": "code",
   "execution_count": 9,
   "id": "2c13146c",
   "metadata": {},
   "outputs": [],
   "source": [
    "def find_problem_ads(problem_day):\n",
    "    '''Функция вычисляет проблемыные объявления и отдает датафрейм\n",
    "    с наименьшим и наибольшим кол-вом показов + список объявлений из датафрейма'''\n",
    "    min_view_forday = problem_day.view.min()\n",
    "    max_view_forday = problem_day.view.max()\n",
    "    problem_add = problem_day.query('view == @min_view_forday or view == @max_view_forday')\n",
    "    print(problem_add.ad_id.tolist())\n",
    "    return problem_add"
   ]
  },
  {
   "cell_type": "code",
   "execution_count": 10,
   "id": "8f9d7df6",
   "metadata": {},
   "outputs": [
    {
     "data": {
      "text/plain": [
       "['avocado_mean.csv',\n",
       " 'ads',\n",
       " '.DS_Store',\n",
       " 'avocado_full.csv',\n",
       " 'delays.csv',\n",
       " 'les_6_hw_1.ipynb',\n",
       " '.ipynb_checkpoints',\n",
       " 'les_6_hw_2.ipynb',\n",
       " 'ls_6_hw_3.ipynb',\n",
       " 'gff.tsv']"
      ]
     },
     "execution_count": 10,
     "metadata": {},
     "output_type": "execute_result"
    }
   ],
   "source": [
    "os.listdir(os.getcwd())"
   ]
  },
  {
   "cell_type": "code",
   "execution_count": 30,
   "id": "a6f18416",
   "metadata": {},
   "outputs": [
    {
     "data": {
      "text/plain": [
       "'/Users/evgeniyburovik/education/kk_proj/les_6'"
      ]
     },
     "execution_count": 30,
     "metadata": {},
     "output_type": "execute_result"
    }
   ],
   "source": [
    "os.getcwd()"
   ]
  },
  {
   "cell_type": "code",
   "execution_count": 32,
   "id": "c6e440ed",
   "metadata": {},
   "outputs": [
    {
     "data": {
      "text/plain": [
       "['ads_data.csv', 'ads_clients_data.csv']"
      ]
     },
     "execution_count": 32,
     "metadata": {},
     "output_type": "execute_result"
    }
   ],
   "source": [
    "os.listdir('/Users/evgeniyburovik/education/kk_proj/les_6/ads')"
   ]
  },
  {
   "cell_type": "code",
   "execution_count": 33,
   "id": "287d7fe1",
   "metadata": {},
   "outputs": [],
   "source": [
    "ads_clients = pd.read_csv('/Users/evgeniyburovik/education/kk_proj/les_6/ads/ads_clients_data.csv')"
   ]
  },
  {
   "cell_type": "code",
   "execution_count": 34,
   "id": "f7b6f19d",
   "metadata": {},
   "outputs": [
    {
     "data": {
      "text/html": [
       "<div>\n",
       "<style scoped>\n",
       "    .dataframe tbody tr th:only-of-type {\n",
       "        vertical-align: middle;\n",
       "    }\n",
       "\n",
       "    .dataframe tbody tr th {\n",
       "        vertical-align: top;\n",
       "    }\n",
       "\n",
       "    .dataframe thead th {\n",
       "        text-align: right;\n",
       "    }\n",
       "</style>\n",
       "<table border=\"1\" class=\"dataframe\">\n",
       "  <thead>\n",
       "    <tr style=\"text-align: right;\">\n",
       "      <th></th>\n",
       "      <th>date</th>\n",
       "      <th>client_union_id</th>\n",
       "      <th>community_id</th>\n",
       "      <th>create_date</th>\n",
       "    </tr>\n",
       "  </thead>\n",
       "  <tbody>\n",
       "    <tr>\n",
       "      <th>0</th>\n",
       "      <td>2020-05-07</td>\n",
       "      <td>1</td>\n",
       "      <td>-130371893</td>\n",
       "      <td>2018-12-24</td>\n",
       "    </tr>\n",
       "    <tr>\n",
       "      <th>1</th>\n",
       "      <td>2020-05-07</td>\n",
       "      <td>2</td>\n",
       "      <td>-130304626</td>\n",
       "      <td>2019-02-10</td>\n",
       "    </tr>\n",
       "    <tr>\n",
       "      <th>2</th>\n",
       "      <td>2020-05-07</td>\n",
       "      <td>3</td>\n",
       "      <td>-130462599</td>\n",
       "      <td>2019-01-25</td>\n",
       "    </tr>\n",
       "    <tr>\n",
       "      <th>3</th>\n",
       "      <td>2020-05-07</td>\n",
       "      <td>4</td>\n",
       "      <td>-130574300</td>\n",
       "      <td>2018-12-09</td>\n",
       "    </tr>\n",
       "    <tr>\n",
       "      <th>4</th>\n",
       "      <td>2020-05-07</td>\n",
       "      <td>5</td>\n",
       "      <td>-130292358</td>\n",
       "      <td>2019-01-08</td>\n",
       "    </tr>\n",
       "  </tbody>\n",
       "</table>\n",
       "</div>"
      ],
      "text/plain": [
       "         date  client_union_id  community_id create_date\n",
       "0  2020-05-07                1    -130371893  2018-12-24\n",
       "1  2020-05-07                2    -130304626  2019-02-10\n",
       "2  2020-05-07                3    -130462599  2019-01-25\n",
       "3  2020-05-07                4    -130574300  2018-12-09\n",
       "4  2020-05-07                5    -130292358  2019-01-08"
      ]
     },
     "execution_count": 34,
     "metadata": {},
     "output_type": "execute_result"
    }
   ],
   "source": [
    "ads_clients.head()"
   ]
  },
  {
   "cell_type": "code",
   "execution_count": 35,
   "id": "58b43649",
   "metadata": {},
   "outputs": [
    {
     "name": "stdout",
     "output_type": "stream",
     "text": [
      "<class 'pandas.core.frame.DataFrame'>\n",
      "RangeIndex: 122078 entries, 0 to 122077\n",
      "Data columns (total 4 columns):\n",
      " #   Column           Non-Null Count   Dtype \n",
      "---  ------           --------------   ----- \n",
      " 0   date             122078 non-null  object\n",
      " 1   client_union_id  122078 non-null  int64 \n",
      " 2   community_id     122078 non-null  int64 \n",
      " 3   create_date      122078 non-null  object\n",
      "dtypes: int64(2), object(2)\n",
      "memory usage: 3.7+ MB\n"
     ]
    }
   ],
   "source": [
    "ads_clients.info()"
   ]
  },
  {
   "cell_type": "code",
   "execution_count": 36,
   "id": "32b2306a",
   "metadata": {},
   "outputs": [
    {
     "ename": "FileNotFoundError",
     "evalue": "[Errno 2] No such file or directory: '/Users/evgeniyburovik/Documents/Courses/les_6/ads/ads_data.csv'",
     "output_type": "error",
     "traceback": [
      "\u001b[0;31m---------------------------------------------------------------------------\u001b[0m",
      "\u001b[0;31mFileNotFoundError\u001b[0m                         Traceback (most recent call last)",
      "\u001b[0;32m<ipython-input-36-2d1cc318e092>\u001b[0m in \u001b[0;36m<module>\u001b[0;34m\u001b[0m\n\u001b[0;32m----> 1\u001b[0;31m \u001b[0mads\u001b[0m \u001b[0;34m=\u001b[0m \u001b[0mpd\u001b[0m\u001b[0;34m.\u001b[0m\u001b[0mread_csv\u001b[0m\u001b[0;34m(\u001b[0m\u001b[0;34m'/Users/evgeniyburovik/Documents/Courses/les_6/ads/ads_data.csv'\u001b[0m\u001b[0;34m)\u001b[0m\u001b[0;34m\u001b[0m\u001b[0;34m\u001b[0m\u001b[0m\n\u001b[0m",
      "\u001b[0;32m/opt/anaconda3/lib/python3.8/site-packages/pandas/io/parsers.py\u001b[0m in \u001b[0;36mread_csv\u001b[0;34m(filepath_or_buffer, sep, delimiter, header, names, index_col, usecols, squeeze, prefix, mangle_dupe_cols, dtype, engine, converters, true_values, false_values, skipinitialspace, skiprows, skipfooter, nrows, na_values, keep_default_na, na_filter, verbose, skip_blank_lines, parse_dates, infer_datetime_format, keep_date_col, date_parser, dayfirst, cache_dates, iterator, chunksize, compression, thousands, decimal, lineterminator, quotechar, quoting, doublequote, escapechar, comment, encoding, dialect, error_bad_lines, warn_bad_lines, delim_whitespace, low_memory, memory_map, float_precision, storage_options)\u001b[0m\n\u001b[1;32m    608\u001b[0m     \u001b[0mkwds\u001b[0m\u001b[0;34m.\u001b[0m\u001b[0mupdate\u001b[0m\u001b[0;34m(\u001b[0m\u001b[0mkwds_defaults\u001b[0m\u001b[0;34m)\u001b[0m\u001b[0;34m\u001b[0m\u001b[0;34m\u001b[0m\u001b[0m\n\u001b[1;32m    609\u001b[0m \u001b[0;34m\u001b[0m\u001b[0m\n\u001b[0;32m--> 610\u001b[0;31m     \u001b[0;32mreturn\u001b[0m \u001b[0m_read\u001b[0m\u001b[0;34m(\u001b[0m\u001b[0mfilepath_or_buffer\u001b[0m\u001b[0;34m,\u001b[0m \u001b[0mkwds\u001b[0m\u001b[0;34m)\u001b[0m\u001b[0;34m\u001b[0m\u001b[0;34m\u001b[0m\u001b[0m\n\u001b[0m\u001b[1;32m    611\u001b[0m \u001b[0;34m\u001b[0m\u001b[0m\n\u001b[1;32m    612\u001b[0m \u001b[0;34m\u001b[0m\u001b[0m\n",
      "\u001b[0;32m/opt/anaconda3/lib/python3.8/site-packages/pandas/io/parsers.py\u001b[0m in \u001b[0;36m_read\u001b[0;34m(filepath_or_buffer, kwds)\u001b[0m\n\u001b[1;32m    460\u001b[0m \u001b[0;34m\u001b[0m\u001b[0m\n\u001b[1;32m    461\u001b[0m     \u001b[0;31m# Create the parser.\u001b[0m\u001b[0;34m\u001b[0m\u001b[0;34m\u001b[0m\u001b[0;34m\u001b[0m\u001b[0m\n\u001b[0;32m--> 462\u001b[0;31m     \u001b[0mparser\u001b[0m \u001b[0;34m=\u001b[0m \u001b[0mTextFileReader\u001b[0m\u001b[0;34m(\u001b[0m\u001b[0mfilepath_or_buffer\u001b[0m\u001b[0;34m,\u001b[0m \u001b[0;34m**\u001b[0m\u001b[0mkwds\u001b[0m\u001b[0;34m)\u001b[0m\u001b[0;34m\u001b[0m\u001b[0;34m\u001b[0m\u001b[0m\n\u001b[0m\u001b[1;32m    463\u001b[0m \u001b[0;34m\u001b[0m\u001b[0m\n\u001b[1;32m    464\u001b[0m     \u001b[0;32mif\u001b[0m \u001b[0mchunksize\u001b[0m \u001b[0;32mor\u001b[0m \u001b[0miterator\u001b[0m\u001b[0;34m:\u001b[0m\u001b[0;34m\u001b[0m\u001b[0;34m\u001b[0m\u001b[0m\n",
      "\u001b[0;32m/opt/anaconda3/lib/python3.8/site-packages/pandas/io/parsers.py\u001b[0m in \u001b[0;36m__init__\u001b[0;34m(self, f, engine, **kwds)\u001b[0m\n\u001b[1;32m    817\u001b[0m             \u001b[0mself\u001b[0m\u001b[0;34m.\u001b[0m\u001b[0moptions\u001b[0m\u001b[0;34m[\u001b[0m\u001b[0;34m\"has_index_names\"\u001b[0m\u001b[0;34m]\u001b[0m \u001b[0;34m=\u001b[0m \u001b[0mkwds\u001b[0m\u001b[0;34m[\u001b[0m\u001b[0;34m\"has_index_names\"\u001b[0m\u001b[0;34m]\u001b[0m\u001b[0;34m\u001b[0m\u001b[0;34m\u001b[0m\u001b[0m\n\u001b[1;32m    818\u001b[0m \u001b[0;34m\u001b[0m\u001b[0m\n\u001b[0;32m--> 819\u001b[0;31m         \u001b[0mself\u001b[0m\u001b[0;34m.\u001b[0m\u001b[0m_engine\u001b[0m \u001b[0;34m=\u001b[0m \u001b[0mself\u001b[0m\u001b[0;34m.\u001b[0m\u001b[0m_make_engine\u001b[0m\u001b[0;34m(\u001b[0m\u001b[0mself\u001b[0m\u001b[0;34m.\u001b[0m\u001b[0mengine\u001b[0m\u001b[0;34m)\u001b[0m\u001b[0;34m\u001b[0m\u001b[0;34m\u001b[0m\u001b[0m\n\u001b[0m\u001b[1;32m    820\u001b[0m \u001b[0;34m\u001b[0m\u001b[0m\n\u001b[1;32m    821\u001b[0m     \u001b[0;32mdef\u001b[0m \u001b[0mclose\u001b[0m\u001b[0;34m(\u001b[0m\u001b[0mself\u001b[0m\u001b[0;34m)\u001b[0m\u001b[0;34m:\u001b[0m\u001b[0;34m\u001b[0m\u001b[0;34m\u001b[0m\u001b[0m\n",
      "\u001b[0;32m/opt/anaconda3/lib/python3.8/site-packages/pandas/io/parsers.py\u001b[0m in \u001b[0;36m_make_engine\u001b[0;34m(self, engine)\u001b[0m\n\u001b[1;32m   1048\u001b[0m             )\n\u001b[1;32m   1049\u001b[0m         \u001b[0;31m# error: Too many arguments for \"ParserBase\"\u001b[0m\u001b[0;34m\u001b[0m\u001b[0;34m\u001b[0m\u001b[0;34m\u001b[0m\u001b[0m\n\u001b[0;32m-> 1050\u001b[0;31m         \u001b[0;32mreturn\u001b[0m \u001b[0mmapping\u001b[0m\u001b[0;34m[\u001b[0m\u001b[0mengine\u001b[0m\u001b[0;34m]\u001b[0m\u001b[0;34m(\u001b[0m\u001b[0mself\u001b[0m\u001b[0;34m.\u001b[0m\u001b[0mf\u001b[0m\u001b[0;34m,\u001b[0m \u001b[0;34m**\u001b[0m\u001b[0mself\u001b[0m\u001b[0;34m.\u001b[0m\u001b[0moptions\u001b[0m\u001b[0;34m)\u001b[0m  \u001b[0;31m# type: ignore[call-arg]\u001b[0m\u001b[0;34m\u001b[0m\u001b[0;34m\u001b[0m\u001b[0m\n\u001b[0m\u001b[1;32m   1051\u001b[0m \u001b[0;34m\u001b[0m\u001b[0m\n\u001b[1;32m   1052\u001b[0m     \u001b[0;32mdef\u001b[0m \u001b[0m_failover_to_python\u001b[0m\u001b[0;34m(\u001b[0m\u001b[0mself\u001b[0m\u001b[0;34m)\u001b[0m\u001b[0;34m:\u001b[0m\u001b[0;34m\u001b[0m\u001b[0;34m\u001b[0m\u001b[0m\n",
      "\u001b[0;32m/opt/anaconda3/lib/python3.8/site-packages/pandas/io/parsers.py\u001b[0m in \u001b[0;36m__init__\u001b[0;34m(self, src, **kwds)\u001b[0m\n\u001b[1;32m   1865\u001b[0m \u001b[0;34m\u001b[0m\u001b[0m\n\u001b[1;32m   1866\u001b[0m         \u001b[0;31m# open handles\u001b[0m\u001b[0;34m\u001b[0m\u001b[0;34m\u001b[0m\u001b[0;34m\u001b[0m\u001b[0m\n\u001b[0;32m-> 1867\u001b[0;31m         \u001b[0mself\u001b[0m\u001b[0;34m.\u001b[0m\u001b[0m_open_handles\u001b[0m\u001b[0;34m(\u001b[0m\u001b[0msrc\u001b[0m\u001b[0;34m,\u001b[0m \u001b[0mkwds\u001b[0m\u001b[0;34m)\u001b[0m\u001b[0;34m\u001b[0m\u001b[0;34m\u001b[0m\u001b[0m\n\u001b[0m\u001b[1;32m   1868\u001b[0m         \u001b[0;32massert\u001b[0m \u001b[0mself\u001b[0m\u001b[0;34m.\u001b[0m\u001b[0mhandles\u001b[0m \u001b[0;32mis\u001b[0m \u001b[0;32mnot\u001b[0m \u001b[0;32mNone\u001b[0m\u001b[0;34m\u001b[0m\u001b[0;34m\u001b[0m\u001b[0m\n\u001b[1;32m   1869\u001b[0m         \u001b[0;32mfor\u001b[0m \u001b[0mkey\u001b[0m \u001b[0;32min\u001b[0m \u001b[0;34m(\u001b[0m\u001b[0;34m\"storage_options\"\u001b[0m\u001b[0;34m,\u001b[0m \u001b[0;34m\"encoding\"\u001b[0m\u001b[0;34m,\u001b[0m \u001b[0;34m\"memory_map\"\u001b[0m\u001b[0;34m,\u001b[0m \u001b[0;34m\"compression\"\u001b[0m\u001b[0;34m)\u001b[0m\u001b[0;34m:\u001b[0m\u001b[0;34m\u001b[0m\u001b[0;34m\u001b[0m\u001b[0m\n",
      "\u001b[0;32m/opt/anaconda3/lib/python3.8/site-packages/pandas/io/parsers.py\u001b[0m in \u001b[0;36m_open_handles\u001b[0;34m(self, src, kwds)\u001b[0m\n\u001b[1;32m   1360\u001b[0m         \u001b[0mLet\u001b[0m \u001b[0mthe\u001b[0m \u001b[0mreaders\u001b[0m \u001b[0mopen\u001b[0m \u001b[0mIOHanldes\u001b[0m \u001b[0mafter\u001b[0m \u001b[0mthey\u001b[0m \u001b[0mare\u001b[0m \u001b[0mdone\u001b[0m \u001b[0;32mwith\u001b[0m \u001b[0mtheir\u001b[0m \u001b[0mpotential\u001b[0m \u001b[0mraises\u001b[0m\u001b[0;34m.\u001b[0m\u001b[0;34m\u001b[0m\u001b[0;34m\u001b[0m\u001b[0m\n\u001b[1;32m   1361\u001b[0m         \"\"\"\n\u001b[0;32m-> 1362\u001b[0;31m         self.handles = get_handle(\n\u001b[0m\u001b[1;32m   1363\u001b[0m             \u001b[0msrc\u001b[0m\u001b[0;34m,\u001b[0m\u001b[0;34m\u001b[0m\u001b[0;34m\u001b[0m\u001b[0m\n\u001b[1;32m   1364\u001b[0m             \u001b[0;34m\"r\"\u001b[0m\u001b[0;34m,\u001b[0m\u001b[0;34m\u001b[0m\u001b[0;34m\u001b[0m\u001b[0m\n",
      "\u001b[0;32m/opt/anaconda3/lib/python3.8/site-packages/pandas/io/common.py\u001b[0m in \u001b[0;36mget_handle\u001b[0;34m(path_or_buf, mode, encoding, compression, memory_map, is_text, errors, storage_options)\u001b[0m\n\u001b[1;32m    640\u001b[0m                 \u001b[0merrors\u001b[0m \u001b[0;34m=\u001b[0m \u001b[0;34m\"replace\"\u001b[0m\u001b[0;34m\u001b[0m\u001b[0;34m\u001b[0m\u001b[0m\n\u001b[1;32m    641\u001b[0m             \u001b[0;31m# Encoding\u001b[0m\u001b[0;34m\u001b[0m\u001b[0;34m\u001b[0m\u001b[0;34m\u001b[0m\u001b[0m\n\u001b[0;32m--> 642\u001b[0;31m             handle = open(\n\u001b[0m\u001b[1;32m    643\u001b[0m                 \u001b[0mhandle\u001b[0m\u001b[0;34m,\u001b[0m\u001b[0;34m\u001b[0m\u001b[0;34m\u001b[0m\u001b[0m\n\u001b[1;32m    644\u001b[0m                 \u001b[0mioargs\u001b[0m\u001b[0;34m.\u001b[0m\u001b[0mmode\u001b[0m\u001b[0;34m,\u001b[0m\u001b[0;34m\u001b[0m\u001b[0;34m\u001b[0m\u001b[0m\n",
      "\u001b[0;31mFileNotFoundError\u001b[0m: [Errno 2] No such file or directory: '/Users/evgeniyburovik/Documents/Courses/les_6/ads/ads_data.csv'"
     ]
    }
   ],
   "source": [
    "ads = pd.read_csv('/Users/evgeniyburovik/Documents/Courses/les_6/ads/ads_data.csv')"
   ]
  },
  {
   "cell_type": "code",
   "execution_count": 17,
   "id": "3c25e81a",
   "metadata": {},
   "outputs": [
    {
     "ename": "NameError",
     "evalue": "name 'ads' is not defined",
     "output_type": "error",
     "traceback": [
      "\u001b[0;31m---------------------------------------------------------------------------\u001b[0m",
      "\u001b[0;31mNameError\u001b[0m                                 Traceback (most recent call last)",
      "\u001b[0;32m<ipython-input-17-b514d69c2317>\u001b[0m in \u001b[0;36m<module>\u001b[0;34m\u001b[0m\n\u001b[0;32m----> 1\u001b[0;31m \u001b[0mads\u001b[0m\u001b[0;34m.\u001b[0m\u001b[0mhead\u001b[0m\u001b[0;34m(\u001b[0m\u001b[0;34m)\u001b[0m\u001b[0;34m\u001b[0m\u001b[0;34m\u001b[0m\u001b[0m\n\u001b[0m",
      "\u001b[0;31mNameError\u001b[0m: name 'ads' is not defined"
     ]
    }
   ],
   "source": [
    "ads.head()"
   ]
  },
  {
   "cell_type": "code",
   "execution_count": 18,
   "id": "64c3bb73",
   "metadata": {},
   "outputs": [
    {
     "ename": "NameError",
     "evalue": "name 'ads' is not defined",
     "output_type": "error",
     "traceback": [
      "\u001b[0;31m---------------------------------------------------------------------------\u001b[0m",
      "\u001b[0;31mNameError\u001b[0m                                 Traceback (most recent call last)",
      "\u001b[0;32m<ipython-input-18-349195dbc3eb>\u001b[0m in \u001b[0;36m<module>\u001b[0;34m\u001b[0m\n\u001b[0;32m----> 1\u001b[0;31m \u001b[0mads\u001b[0m\u001b[0;34m.\u001b[0m\u001b[0minfo\u001b[0m\u001b[0;34m(\u001b[0m\u001b[0;34m)\u001b[0m\u001b[0;34m\u001b[0m\u001b[0;34m\u001b[0m\u001b[0m\n\u001b[0m",
      "\u001b[0;31mNameError\u001b[0m: name 'ads' is not defined"
     ]
    }
   ],
   "source": [
    "ads.info()"
   ]
  },
  {
   "cell_type": "code",
   "execution_count": 19,
   "id": "af1622ff",
   "metadata": {},
   "outputs": [
    {
     "ename": "NameError",
     "evalue": "name 'ads' is not defined",
     "output_type": "error",
     "traceback": [
      "\u001b[0;31m---------------------------------------------------------------------------\u001b[0m",
      "\u001b[0;31mNameError\u001b[0m                                 Traceback (most recent call last)",
      "\u001b[0;32m<ipython-input-19-501abe913f20>\u001b[0m in \u001b[0;36m<module>\u001b[0;34m\u001b[0m\n\u001b[0;32m----> 1\u001b[0;31m \u001b[0mevents_count\u001b[0m \u001b[0;34m=\u001b[0m \u001b[0mads\u001b[0m\u001b[0;34m.\u001b[0m\u001b[0mgroupby\u001b[0m\u001b[0;34m(\u001b[0m\u001b[0;34m[\u001b[0m\u001b[0;34m'ad_id'\u001b[0m\u001b[0;34m,\u001b[0m \u001b[0;34m'event'\u001b[0m\u001b[0;34m]\u001b[0m\u001b[0;34m,\u001b[0m \u001b[0mas_index\u001b[0m\u001b[0;34m=\u001b[0m\u001b[0;32mFalse\u001b[0m\u001b[0;34m)\u001b[0m\u001b[0;34m.\u001b[0m\u001b[0magg\u001b[0m\u001b[0;34m(\u001b[0m\u001b[0;34m{\u001b[0m\u001b[0;34m'date'\u001b[0m\u001b[0;34m:\u001b[0m\u001b[0;34m'count'\u001b[0m\u001b[0;34m}\u001b[0m\u001b[0;34m)\u001b[0m\u001b[0;34m\u001b[0m\u001b[0;34m\u001b[0m\u001b[0m\n\u001b[0m\u001b[1;32m      2\u001b[0m \u001b[0mevents_count\u001b[0m\u001b[0;34m.\u001b[0m\u001b[0mhead\u001b[0m\u001b[0;34m(\u001b[0m\u001b[0;34m)\u001b[0m\u001b[0;34m\u001b[0m\u001b[0;34m\u001b[0m\u001b[0m\n",
      "\u001b[0;31mNameError\u001b[0m: name 'ads' is not defined"
     ]
    }
   ],
   "source": [
    "events_count = ads.groupby(['ad_id', 'event'], as_index=False).agg({'date':'count'})\n",
    "events_count.head()"
   ]
  },
  {
   "cell_type": "code",
   "execution_count": 20,
   "id": "c099bc38",
   "metadata": {},
   "outputs": [
    {
     "ename": "NameError",
     "evalue": "name 'events_count' is not defined",
     "output_type": "error",
     "traceback": [
      "\u001b[0;31m---------------------------------------------------------------------------\u001b[0m",
      "\u001b[0;31mNameError\u001b[0m                                 Traceback (most recent call last)",
      "\u001b[0;32m<ipython-input-20-8280932028c4>\u001b[0m in \u001b[0;36m<module>\u001b[0;34m\u001b[0m\n\u001b[0;32m----> 1\u001b[0;31m \u001b[0mevents_counts\u001b[0m \u001b[0;34m=\u001b[0m \u001b[0mevents_count\u001b[0m\u001b[0;34m.\u001b[0m\u001b[0mpivot\u001b[0m\u001b[0;34m(\u001b[0m\u001b[0mindex\u001b[0m\u001b[0;34m=\u001b[0m \u001b[0;34m'ad_id'\u001b[0m\u001b[0;34m,\u001b[0m \u001b[0mcolumns\u001b[0m\u001b[0;34m=\u001b[0m\u001b[0;34m'event'\u001b[0m\u001b[0;34m,\u001b[0m \u001b[0mvalues\u001b[0m\u001b[0;34m=\u001b[0m \u001b[0;34m'date'\u001b[0m\u001b[0;34m)\u001b[0m\u001b[0;34m.\u001b[0m\u001b[0mreset_index\u001b[0m\u001b[0;34m(\u001b[0m\u001b[0;34m)\u001b[0m\u001b[0;34m\u001b[0m\u001b[0;34m\u001b[0m\u001b[0m\n\u001b[0m",
      "\u001b[0;31mNameError\u001b[0m: name 'events_count' is not defined"
     ]
    }
   ],
   "source": [
    "events_counts = events_count.pivot(index= 'ad_id', columns='event', values= 'date').reset_index()"
   ]
  },
  {
   "cell_type": "code",
   "execution_count": 21,
   "id": "5543c27c",
   "metadata": {},
   "outputs": [
    {
     "ename": "NameError",
     "evalue": "name 'events_counts' is not defined",
     "output_type": "error",
     "traceback": [
      "\u001b[0;31m---------------------------------------------------------------------------\u001b[0m",
      "\u001b[0;31mNameError\u001b[0m                                 Traceback (most recent call last)",
      "\u001b[0;32m<ipython-input-21-012cc2440f10>\u001b[0m in \u001b[0;36m<module>\u001b[0;34m\u001b[0m\n\u001b[0;32m----> 1\u001b[0;31m \u001b[0mevents_counts\u001b[0m \u001b[0;34m=\u001b[0m \u001b[0mevents_counts\u001b[0m\u001b[0;34m.\u001b[0m\u001b[0mfillna\u001b[0m\u001b[0;34m(\u001b[0m\u001b[0;36m0\u001b[0m\u001b[0;34m)\u001b[0m\u001b[0;34m\u001b[0m\u001b[0;34m\u001b[0m\u001b[0m\n\u001b[0m",
      "\u001b[0;31mNameError\u001b[0m: name 'events_counts' is not defined"
     ]
    }
   ],
   "source": [
    "events_counts = events_counts.fillna(0)"
   ]
  },
  {
   "cell_type": "code",
   "execution_count": 22,
   "id": "1cc3b488",
   "metadata": {},
   "outputs": [
    {
     "ename": "NameError",
     "evalue": "name 'events_counts' is not defined",
     "output_type": "error",
     "traceback": [
      "\u001b[0;31m---------------------------------------------------------------------------\u001b[0m",
      "\u001b[0;31mNameError\u001b[0m                                 Traceback (most recent call last)",
      "\u001b[0;32m<ipython-input-22-22094e422928>\u001b[0m in \u001b[0;36m<module>\u001b[0;34m\u001b[0m\n\u001b[0;32m----> 1\u001b[0;31m \u001b[0mevents_counts\u001b[0m\u001b[0;34m\u001b[0m\u001b[0;34m\u001b[0m\u001b[0m\n\u001b[0m",
      "\u001b[0;31mNameError\u001b[0m: name 'events_counts' is not defined"
     ]
    }
   ],
   "source": [
    "events_counts"
   ]
  },
  {
   "cell_type": "code",
   "execution_count": null,
   "id": "280a5eab",
   "metadata": {
    "scrolled": false
   },
   "outputs": [],
   "source": [
    "events_counts['view_log'] = np.log(events_counts.view)\n",
    "events_counts['view_log'] = events_counts['view_log'].astype('str')\n",
    "events_counts['view_log'] = events_counts['view_log'].replace('-inf', '0')\n",
    "events_counts.drop(events_counts[events_counts.view_log == '0'].index, inplace=True)\n",
    "#df.drop(df[df.score < 50].index, inplace=True)\n",
    "events_counts['view_log'] = events_counts['view_log'].dropna('')\n",
    "events_counts['view_log'] = events_counts['view_log'].astype('float')\n",
    "events_counts"
   ]
  },
  {
   "cell_type": "code",
   "execution_count": null,
   "id": "f7958ea7",
   "metadata": {
    "scrolled": false
   },
   "outputs": [],
   "source": [
    "sns.histplot(events_counts.view_log, kde=True)"
   ]
  },
  {
   "cell_type": "code",
   "execution_count": null,
   "id": "b831763d",
   "metadata": {},
   "outputs": [],
   "source": [
    "ads.head()"
   ]
  },
  {
   "cell_type": "code",
   "execution_count": null,
   "id": "7354aa15",
   "metadata": {},
   "outputs": [],
   "source": [
    "for_day = ads.groupby(['date', 'ad_id','event'], as_index=False)\\\n",
    "             .agg({'time':'count'})"
   ]
  },
  {
   "cell_type": "code",
   "execution_count": null,
   "id": "b1fa6536",
   "metadata": {},
   "outputs": [],
   "source": [
    "for_day = for_day.pivot_table(index=['date','ad_id'], columns='event', values= 'time').reset_index()"
   ]
  },
  {
   "cell_type": "code",
   "execution_count": null,
   "id": "2b1fdfd4",
   "metadata": {},
   "outputs": [],
   "source": [
    "day_mean = for_day.groupby('date', as_index=False).agg({'view':np.mean})"
   ]
  },
  {
   "cell_type": "code",
   "execution_count": null,
   "id": "c421737b",
   "metadata": {},
   "outputs": [],
   "source": [
    "day_mean.date = pd.to_datetime(day_mean.date)"
   ]
  },
  {
   "cell_type": "code",
   "execution_count": null,
   "id": "8bf7ee40",
   "metadata": {},
   "outputs": [],
   "source": [
    "day_mean.dtypes"
   ]
  },
  {
   "cell_type": "code",
   "execution_count": null,
   "id": "72e0e5be",
   "metadata": {},
   "outputs": [],
   "source": [
    "day_mean['roll_mean'] = day_mean.rolling(2).mean().round(0)"
   ]
  },
  {
   "cell_type": "code",
   "execution_count": null,
   "id": "f42aa652",
   "metadata": {},
   "outputs": [],
   "source": [
    "day_mean[day_mean['date'] == '2019-04-06']"
   ]
  },
  {
   "cell_type": "code",
   "execution_count": null,
   "id": "2f07c37a",
   "metadata": {},
   "outputs": [],
   "source": [
    "day_mean = day_mean.dropna()\n",
    "day_mean"
   ]
  },
  {
   "cell_type": "code",
   "execution_count": null,
   "id": "597752fe",
   "metadata": {},
   "outputs": [],
   "source": [
    "day_mean['mod'] = abs(day_mean.view - day_mean.roll_mean)\n",
    "for_day"
   ]
  },
  {
   "cell_type": "code",
   "execution_count": null,
   "id": "51f798c6",
   "metadata": {},
   "outputs": [],
   "source": [
    "\n",
    "fig = px.line(day_mean, x=\"date\", y=day_mean.columns,\n",
    "              hover_data={\"date\": \"|%B %d, %Y\"})\n",
    "fig.update_xaxes(\n",
    "    dtick=\"D1\",\n",
    "    tickformat=\"%d %b\\n%Y\",\n",
    "    ticklabelmode=\"period\")\n",
    "fig.show()"
   ]
  },
  {
   "cell_type": "code",
   "execution_count": null,
   "id": "d874ae64",
   "metadata": {},
   "outputs": [],
   "source": [
    "day_mean[day_mean['mod'] == day_mean['mod'].max()]"
   ]
  },
  {
   "cell_type": "code",
   "execution_count": null,
   "id": "697da480",
   "metadata": {},
   "outputs": [],
   "source": [
    "problem_day = for_day.query('date == \"2019-04-06\"')"
   ]
  },
  {
   "cell_type": "code",
   "execution_count": null,
   "id": "92a25f3e",
   "metadata": {},
   "outputs": [],
   "source": [
    "find_problem_ads(problem_day)"
   ]
  },
  {
   "cell_type": "code",
   "execution_count": null,
   "id": "0110b8ce",
   "metadata": {},
   "outputs": [],
   "source": [
    "ads.info()\n",
    "ads_clients.info()"
   ]
  },
  {
   "cell_type": "code",
   "execution_count": null,
   "id": "439b5fb9",
   "metadata": {},
   "outputs": [],
   "source": [
    "ads_clients_full = ads.merge(ads_clients, on ='client_union_id', how = 'outer')\n",
    "ads_clients_full.info()"
   ]
  },
  {
   "cell_type": "code",
   "execution_count": null,
   "id": "8ee3cda1",
   "metadata": {},
   "outputs": [],
   "source": [
    "ads_clients_full['date_x'] = pd.to_datetime(ads_clients_full['date_x'])\n",
    "ads_clients_full['create_date'] = pd.to_datetime(ads_clients_full['create_date'])"
   ]
  },
  {
   "cell_type": "code",
   "execution_count": null,
   "id": "b7630db3",
   "metadata": {},
   "outputs": [],
   "source": [
    "ads_clients_full['creation_launch'] = ads_clients_full['date_x'] - ads_clients_full['create_date']\n",
    "ads_clients_full['creation_launch_int'] = ads_clients_full.creation_launch.dt.days\n"
   ]
  },
  {
   "cell_type": "code",
   "execution_count": null,
   "id": "a51779ed",
   "metadata": {},
   "outputs": [],
   "source": [
    "round(ads_clients_full.dropna()\\\n",
    "                .groupby('client_union_id', as_index=False)\\\n",
    "                .agg({'creation_launch_int': lambda x: round(x.mean())})\\\n",
    "                .creation_launch_int.mean(), 1)"
   ]
  },
  {
   "cell_type": "markdown",
   "id": "62ba1183",
   "metadata": {},
   "source": [
    "## Задание 8"
   ]
  },
  {
   "cell_type": "code",
   "execution_count": null,
   "id": "9bd8e463",
   "metadata": {},
   "outputs": [],
   "source": [
    "print(ads_clients_full.creation_launch_int.isna().value_counts())\n",
    "sns.histplot(data=ads_clients_full, x=\"creation_launch_int\", bins=10);"
   ]
  },
  {
   "cell_type": "code",
   "execution_count": null,
   "id": "c5030854",
   "metadata": {},
   "outputs": [],
   "source": [
    "pd.Timedelta(365, unit='day')"
   ]
  },
  {
   "cell_type": "code",
   "execution_count": null,
   "id": "4e0af0cc",
   "metadata": {},
   "outputs": [],
   "source": [
    "# Находим число пользователей, запустивших объявления раньше 365 дней\n",
    "ads_clients_full[ads_clients_full['creation_launch']\\\n",
    "                 < pd.Timedelta(365, unit='day')]\\\n",
    "                .groupby('client_union_id', as_index=False)\\\n",
    "                .agg({'creation_launch_int':np.mean})\\\n",
    "                .creation_launch_int.isna().value_counts()[0]"
   ]
  },
  {
   "cell_type": "code",
   "execution_count": null,
   "id": "27697652",
   "metadata": {},
   "outputs": [],
   "source": [
    "# Проверяем сколько пользователей не стали заводить объявления\n",
    "ads_clients_full.groupby('client_union_id', as_index=False)\\\n",
    "                .agg({'creation_launch_int':np.mean})\\\n",
    "                .creation_launch_int.isna().value_counts()"
   ]
  },
  {
   "cell_type": "code",
   "execution_count": null,
   "id": "19c55a64",
   "metadata": {},
   "outputs": [],
   "source": [
    "# Находим сколько всего пользователей завели кабинет\n",
    "ads_clients_full.groupby('client_union_id', as_index=False)\\\n",
    "                .agg({'creation_launch_int':np.mean})\\\n",
    "                .shape[0]"
   ]
  },
  {
   "cell_type": "code",
   "execution_count": null,
   "id": "20722a99",
   "metadata": {},
   "outputs": [],
   "source": [
    "round(838/122078*100, 2)"
   ]
  },
  {
   "cell_type": "markdown",
   "id": "31fca3c8",
   "metadata": {},
   "source": [
    "## Задание 9"
   ]
  },
  {
   "cell_type": "code",
   "execution_count": null,
   "id": "2403ef51",
   "metadata": {},
   "outputs": [],
   "source": [
    "# Сегментируем пользователей по интервалам от того как они пришли до того как создали объявление\n",
    "ads_clients_full['how_many_months'] = pd.cut(ads_clients_full.creation_launch_int, [0, 30, 90, 180, 365])\n",
    "ads_clients_full.head()\n",
    "# Перевожу в строку, чтобы легче сделать выборку\n",
    "ads_clients_full.how_many_months = ads_clients_full.how_many_months.astype('str')"
   ]
  },
  {
   "cell_type": "code",
   "execution_count": null,
   "id": "5fe5036e",
   "metadata": {},
   "outputs": [],
   "source": [
    "# Смотрю уникальные значени\n",
    "ads_clients_full.how_many_months.unique()"
   ]
  },
  {
   "cell_type": "code",
   "execution_count": null,
   "id": "e0f7eb50",
   "metadata": {},
   "outputs": [],
   "source": [
    "# Узнаю кол-во уникальных пользователей\n",
    "ads_clients_full.query('how_many_months == \"(0, 30]\"')\\\n",
    "                .client_union_id.nunique()"
   ]
  },
  {
   "cell_type": "code",
   "execution_count": null,
   "id": "cd1ee802",
   "metadata": {},
   "outputs": [],
   "source": [
    "# Можно было сделать так\n",
    "how_many_months = ads_clients_full.groupby('how_many_months', as_index=False)\\\n",
    "                 .agg({'client_union_id': 'nunique'})\\\n",
    "                 .sort_values('client_union_id', ascending=False)"
   ]
  },
  {
   "cell_type": "code",
   "execution_count": null,
   "id": "a207e15b",
   "metadata": {},
   "outputs": [],
   "source": [
    "# Построю кравивый барплот\n",
    "\n",
    "fig = px.bar(how_many_months, x='how_many_months', y='client_union_id',\n",
    "             hover_data=['client_union_id', 'how_many_months'], color='client_union_id',\n",
    "             height=400)\n",
    "fig.show()"
   ]
  }
 ],
 "metadata": {
  "kernelspec": {
   "display_name": "Python 3",
   "language": "python",
   "name": "python3"
  },
  "language_info": {
   "codemirror_mode": {
    "name": "ipython",
    "version": 3
   },
   "file_extension": ".py",
   "mimetype": "text/x-python",
   "name": "python",
   "nbconvert_exporter": "python",
   "pygments_lexer": "ipython3",
   "version": "3.8.8"
  }
 },
 "nbformat": 4,
 "nbformat_minor": 5
}
