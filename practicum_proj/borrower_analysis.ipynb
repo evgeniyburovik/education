{
 "cells": [
  {
   "cell_type": "markdown",
   "id": "elder-drill",
   "metadata": {},
   "source": [
    "## Исследование надёжности заёмщиков\n",
    "\n",
    "Заказчик — кредитный отдел банка. Нужно разобраться, влияет ли семейное положение и количество детей клиента на факт погашения кредита в срок. Входные данные от банка — статистика о платёжеспособности клиентов.\n",
    "\n",
    "Результаты исследования будут учтены при построении модели **кредитного скоринга** — специальной системы, которая оценивает способность потенциального заёмщика вернуть кредит банку."
   ]
  },
  {
   "cell_type": "markdown",
   "id": "domestic-purse",
   "metadata": {},
   "source": [
    "### Шаг 1. Откройте файл с данными и изучите общую информацию. "
   ]
  },
  {
   "cell_type": "code",
   "execution_count": 86,
   "id": "general-breast",
   "metadata": {},
   "outputs": [
    {
     "name": "stdout",
     "output_type": "stream",
     "text": [
      "<class 'pandas.core.frame.DataFrame'>\n",
      "RangeIndex: 21525 entries, 0 to 21524\n",
      "Data columns (total 12 columns):\n",
      " #   Column            Non-Null Count  Dtype  \n",
      "---  ------            --------------  -----  \n",
      " 0   children          21525 non-null  int64  \n",
      " 1   days_employed     19351 non-null  float64\n",
      " 2   dob_years         21525 non-null  int64  \n",
      " 3   education         21525 non-null  object \n",
      " 4   education_id      21525 non-null  int64  \n",
      " 5   family_status     21525 non-null  object \n",
      " 6   family_status_id  21525 non-null  int64  \n",
      " 7   gender            21525 non-null  object \n",
      " 8   income_type       21525 non-null  object \n",
      " 9   debt              21525 non-null  int64  \n",
      " 10  total_income      19351 non-null  float64\n",
      " 11  purpose           21525 non-null  object \n",
      "dtypes: float64(2), int64(5), object(5)\n",
      "memory usage: 2.0+ MB\n"
     ]
    }
   ],
   "source": [
    "import pandas as pd\n",
    "\n",
    "import matplotlib.pyplot as plt\n",
    "import numpy as np\n",
    "import seaborn as sns\n",
    "\n",
    "%matplotlib inline\n",
    "\n",
    "# Подготавливаем общие настройки для графиков\n",
    "\n",
    "sns.set(\n",
    "    rc={\n",
    "        \"figure.figsize\": (12, 8), #размер графика - 12 дюймов в ширину, 8 в длину\n",
    "        \"axes.titlesize\": 20, #размер заголовка \n",
    "        \"axes.labelsize\": 14, #размер подписей осей\n",
    "        \"xtick.labelsize\": 13, #размер подписей чёрточек на x-оси\n",
    "        \"ytick.labelsize\": 13, #размер подписей чёрточек на y-оси\n",
    "    }\n",
    ")\n",
    "\n",
    "sns.set_style(\"whitegrid\") #тема фона, белая со штриховкой\n",
    "\n",
    "df = pd.read_csv('https://code.s3.yandex.net/datasets/data.csv')\n",
    "df.info()"
   ]
  },
  {
   "cell_type": "code",
   "execution_count": 87,
   "id": "statewide-calvin",
   "metadata": {},
   "outputs": [
    {
     "data": {
      "text/html": [
       "<div>\n",
       "<style scoped>\n",
       "    .dataframe tbody tr th:only-of-type {\n",
       "        vertical-align: middle;\n",
       "    }\n",
       "\n",
       "    .dataframe tbody tr th {\n",
       "        vertical-align: top;\n",
       "    }\n",
       "\n",
       "    .dataframe thead th {\n",
       "        text-align: right;\n",
       "    }\n",
       "</style>\n",
       "<table border=\"1\" class=\"dataframe\">\n",
       "  <thead>\n",
       "    <tr style=\"text-align: right;\">\n",
       "      <th></th>\n",
       "      <th>children</th>\n",
       "      <th>days_employed</th>\n",
       "      <th>dob_years</th>\n",
       "      <th>education_id</th>\n",
       "      <th>family_status_id</th>\n",
       "      <th>debt</th>\n",
       "      <th>total_income</th>\n",
       "    </tr>\n",
       "  </thead>\n",
       "  <tbody>\n",
       "    <tr>\n",
       "      <th>count</th>\n",
       "      <td>21525.000000</td>\n",
       "      <td>19351.000000</td>\n",
       "      <td>21525.000000</td>\n",
       "      <td>21525.000000</td>\n",
       "      <td>21525.000000</td>\n",
       "      <td>21525.000000</td>\n",
       "      <td>1.935100e+04</td>\n",
       "    </tr>\n",
       "    <tr>\n",
       "      <th>mean</th>\n",
       "      <td>0.538908</td>\n",
       "      <td>63046.497661</td>\n",
       "      <td>43.293380</td>\n",
       "      <td>0.817236</td>\n",
       "      <td>0.972544</td>\n",
       "      <td>0.080883</td>\n",
       "      <td>1.674223e+05</td>\n",
       "    </tr>\n",
       "    <tr>\n",
       "      <th>std</th>\n",
       "      <td>1.381587</td>\n",
       "      <td>140827.311974</td>\n",
       "      <td>12.574584</td>\n",
       "      <td>0.548138</td>\n",
       "      <td>1.420324</td>\n",
       "      <td>0.272661</td>\n",
       "      <td>1.029716e+05</td>\n",
       "    </tr>\n",
       "    <tr>\n",
       "      <th>min</th>\n",
       "      <td>-1.000000</td>\n",
       "      <td>-18388.949901</td>\n",
       "      <td>0.000000</td>\n",
       "      <td>0.000000</td>\n",
       "      <td>0.000000</td>\n",
       "      <td>0.000000</td>\n",
       "      <td>2.066726e+04</td>\n",
       "    </tr>\n",
       "    <tr>\n",
       "      <th>25%</th>\n",
       "      <td>0.000000</td>\n",
       "      <td>-2747.423625</td>\n",
       "      <td>33.000000</td>\n",
       "      <td>1.000000</td>\n",
       "      <td>0.000000</td>\n",
       "      <td>0.000000</td>\n",
       "      <td>1.030532e+05</td>\n",
       "    </tr>\n",
       "    <tr>\n",
       "      <th>50%</th>\n",
       "      <td>0.000000</td>\n",
       "      <td>-1203.369529</td>\n",
       "      <td>42.000000</td>\n",
       "      <td>1.000000</td>\n",
       "      <td>0.000000</td>\n",
       "      <td>0.000000</td>\n",
       "      <td>1.450179e+05</td>\n",
       "    </tr>\n",
       "    <tr>\n",
       "      <th>75%</th>\n",
       "      <td>1.000000</td>\n",
       "      <td>-291.095954</td>\n",
       "      <td>53.000000</td>\n",
       "      <td>1.000000</td>\n",
       "      <td>1.000000</td>\n",
       "      <td>0.000000</td>\n",
       "      <td>2.034351e+05</td>\n",
       "    </tr>\n",
       "    <tr>\n",
       "      <th>max</th>\n",
       "      <td>20.000000</td>\n",
       "      <td>401755.400475</td>\n",
       "      <td>75.000000</td>\n",
       "      <td>4.000000</td>\n",
       "      <td>4.000000</td>\n",
       "      <td>1.000000</td>\n",
       "      <td>2.265604e+06</td>\n",
       "    </tr>\n",
       "  </tbody>\n",
       "</table>\n",
       "</div>"
      ],
      "text/plain": [
       "           children  days_employed     dob_years  education_id  \\\n",
       "count  21525.000000   19351.000000  21525.000000  21525.000000   \n",
       "mean       0.538908   63046.497661     43.293380      0.817236   \n",
       "std        1.381587  140827.311974     12.574584      0.548138   \n",
       "min       -1.000000  -18388.949901      0.000000      0.000000   \n",
       "25%        0.000000   -2747.423625     33.000000      1.000000   \n",
       "50%        0.000000   -1203.369529     42.000000      1.000000   \n",
       "75%        1.000000    -291.095954     53.000000      1.000000   \n",
       "max       20.000000  401755.400475     75.000000      4.000000   \n",
       "\n",
       "       family_status_id          debt  total_income  \n",
       "count      21525.000000  21525.000000  1.935100e+04  \n",
       "mean           0.972544      0.080883  1.674223e+05  \n",
       "std            1.420324      0.272661  1.029716e+05  \n",
       "min            0.000000      0.000000  2.066726e+04  \n",
       "25%            0.000000      0.000000  1.030532e+05  \n",
       "50%            0.000000      0.000000  1.450179e+05  \n",
       "75%            1.000000      0.000000  2.034351e+05  \n",
       "max            4.000000      1.000000  2.265604e+06  "
      ]
     },
     "execution_count": 87,
     "metadata": {},
     "output_type": "execute_result"
    }
   ],
   "source": [
    "df.describe()"
   ]
  },
  {
   "cell_type": "code",
   "execution_count": 88,
   "id": "pretty-assignment",
   "metadata": {},
   "outputs": [
    {
     "data": {
      "text/html": [
       "<div>\n",
       "<style scoped>\n",
       "    .dataframe tbody tr th:only-of-type {\n",
       "        vertical-align: middle;\n",
       "    }\n",
       "\n",
       "    .dataframe tbody tr th {\n",
       "        vertical-align: top;\n",
       "    }\n",
       "\n",
       "    .dataframe thead th {\n",
       "        text-align: right;\n",
       "    }\n",
       "</style>\n",
       "<table border=\"1\" class=\"dataframe\">\n",
       "  <thead>\n",
       "    <tr style=\"text-align: right;\">\n",
       "      <th></th>\n",
       "      <th>children</th>\n",
       "      <th>days_employed</th>\n",
       "      <th>dob_years</th>\n",
       "      <th>education</th>\n",
       "      <th>education_id</th>\n",
       "      <th>family_status</th>\n",
       "      <th>family_status_id</th>\n",
       "      <th>gender</th>\n",
       "      <th>income_type</th>\n",
       "      <th>debt</th>\n",
       "      <th>total_income</th>\n",
       "      <th>purpose</th>\n",
       "    </tr>\n",
       "  </thead>\n",
       "  <tbody>\n",
       "    <tr>\n",
       "      <th>0</th>\n",
       "      <td>1</td>\n",
       "      <td>-8437.673028</td>\n",
       "      <td>42</td>\n",
       "      <td>высшее</td>\n",
       "      <td>0</td>\n",
       "      <td>женат / замужем</td>\n",
       "      <td>0</td>\n",
       "      <td>F</td>\n",
       "      <td>сотрудник</td>\n",
       "      <td>0</td>\n",
       "      <td>253875.639453</td>\n",
       "      <td>покупка жилья</td>\n",
       "    </tr>\n",
       "    <tr>\n",
       "      <th>1</th>\n",
       "      <td>1</td>\n",
       "      <td>-4024.803754</td>\n",
       "      <td>36</td>\n",
       "      <td>среднее</td>\n",
       "      <td>1</td>\n",
       "      <td>женат / замужем</td>\n",
       "      <td>0</td>\n",
       "      <td>F</td>\n",
       "      <td>сотрудник</td>\n",
       "      <td>0</td>\n",
       "      <td>112080.014102</td>\n",
       "      <td>приобретение автомобиля</td>\n",
       "    </tr>\n",
       "    <tr>\n",
       "      <th>2</th>\n",
       "      <td>0</td>\n",
       "      <td>-5623.422610</td>\n",
       "      <td>33</td>\n",
       "      <td>Среднее</td>\n",
       "      <td>1</td>\n",
       "      <td>женат / замужем</td>\n",
       "      <td>0</td>\n",
       "      <td>M</td>\n",
       "      <td>сотрудник</td>\n",
       "      <td>0</td>\n",
       "      <td>145885.952297</td>\n",
       "      <td>покупка жилья</td>\n",
       "    </tr>\n",
       "    <tr>\n",
       "      <th>3</th>\n",
       "      <td>3</td>\n",
       "      <td>-4124.747207</td>\n",
       "      <td>32</td>\n",
       "      <td>среднее</td>\n",
       "      <td>1</td>\n",
       "      <td>женат / замужем</td>\n",
       "      <td>0</td>\n",
       "      <td>M</td>\n",
       "      <td>сотрудник</td>\n",
       "      <td>0</td>\n",
       "      <td>267628.550329</td>\n",
       "      <td>дополнительное образование</td>\n",
       "    </tr>\n",
       "    <tr>\n",
       "      <th>4</th>\n",
       "      <td>0</td>\n",
       "      <td>340266.072047</td>\n",
       "      <td>53</td>\n",
       "      <td>среднее</td>\n",
       "      <td>1</td>\n",
       "      <td>гражданский брак</td>\n",
       "      <td>1</td>\n",
       "      <td>F</td>\n",
       "      <td>пенсионер</td>\n",
       "      <td>0</td>\n",
       "      <td>158616.077870</td>\n",
       "      <td>сыграть свадьбу</td>\n",
       "    </tr>\n",
       "    <tr>\n",
       "      <th>5</th>\n",
       "      <td>0</td>\n",
       "      <td>-926.185831</td>\n",
       "      <td>27</td>\n",
       "      <td>высшее</td>\n",
       "      <td>0</td>\n",
       "      <td>гражданский брак</td>\n",
       "      <td>1</td>\n",
       "      <td>M</td>\n",
       "      <td>компаньон</td>\n",
       "      <td>0</td>\n",
       "      <td>255763.565419</td>\n",
       "      <td>покупка жилья</td>\n",
       "    </tr>\n",
       "    <tr>\n",
       "      <th>6</th>\n",
       "      <td>0</td>\n",
       "      <td>-2879.202052</td>\n",
       "      <td>43</td>\n",
       "      <td>высшее</td>\n",
       "      <td>0</td>\n",
       "      <td>женат / замужем</td>\n",
       "      <td>0</td>\n",
       "      <td>F</td>\n",
       "      <td>компаньон</td>\n",
       "      <td>0</td>\n",
       "      <td>240525.971920</td>\n",
       "      <td>операции с жильем</td>\n",
       "    </tr>\n",
       "    <tr>\n",
       "      <th>7</th>\n",
       "      <td>0</td>\n",
       "      <td>-152.779569</td>\n",
       "      <td>50</td>\n",
       "      <td>СРЕДНЕЕ</td>\n",
       "      <td>1</td>\n",
       "      <td>женат / замужем</td>\n",
       "      <td>0</td>\n",
       "      <td>M</td>\n",
       "      <td>сотрудник</td>\n",
       "      <td>0</td>\n",
       "      <td>135823.934197</td>\n",
       "      <td>образование</td>\n",
       "    </tr>\n",
       "    <tr>\n",
       "      <th>8</th>\n",
       "      <td>2</td>\n",
       "      <td>-6929.865299</td>\n",
       "      <td>35</td>\n",
       "      <td>ВЫСШЕЕ</td>\n",
       "      <td>0</td>\n",
       "      <td>гражданский брак</td>\n",
       "      <td>1</td>\n",
       "      <td>F</td>\n",
       "      <td>сотрудник</td>\n",
       "      <td>0</td>\n",
       "      <td>95856.832424</td>\n",
       "      <td>на проведение свадьбы</td>\n",
       "    </tr>\n",
       "    <tr>\n",
       "      <th>9</th>\n",
       "      <td>0</td>\n",
       "      <td>-2188.756445</td>\n",
       "      <td>41</td>\n",
       "      <td>среднее</td>\n",
       "      <td>1</td>\n",
       "      <td>женат / замужем</td>\n",
       "      <td>0</td>\n",
       "      <td>M</td>\n",
       "      <td>сотрудник</td>\n",
       "      <td>0</td>\n",
       "      <td>144425.938277</td>\n",
       "      <td>покупка жилья для семьи</td>\n",
       "    </tr>\n",
       "  </tbody>\n",
       "</table>\n",
       "</div>"
      ],
      "text/plain": [
       "   children  days_employed  dob_years education  education_id  \\\n",
       "0         1   -8437.673028         42    высшее             0   \n",
       "1         1   -4024.803754         36   среднее             1   \n",
       "2         0   -5623.422610         33   Среднее             1   \n",
       "3         3   -4124.747207         32   среднее             1   \n",
       "4         0  340266.072047         53   среднее             1   \n",
       "5         0    -926.185831         27    высшее             0   \n",
       "6         0   -2879.202052         43    высшее             0   \n",
       "7         0    -152.779569         50   СРЕДНЕЕ             1   \n",
       "8         2   -6929.865299         35    ВЫСШЕЕ             0   \n",
       "9         0   -2188.756445         41   среднее             1   \n",
       "\n",
       "      family_status  family_status_id gender income_type  debt   total_income  \\\n",
       "0   женат / замужем                 0      F   сотрудник     0  253875.639453   \n",
       "1   женат / замужем                 0      F   сотрудник     0  112080.014102   \n",
       "2   женат / замужем                 0      M   сотрудник     0  145885.952297   \n",
       "3   женат / замужем                 0      M   сотрудник     0  267628.550329   \n",
       "4  гражданский брак                 1      F   пенсионер     0  158616.077870   \n",
       "5  гражданский брак                 1      M   компаньон     0  255763.565419   \n",
       "6   женат / замужем                 0      F   компаньон     0  240525.971920   \n",
       "7   женат / замужем                 0      M   сотрудник     0  135823.934197   \n",
       "8  гражданский брак                 1      F   сотрудник     0   95856.832424   \n",
       "9   женат / замужем                 0      M   сотрудник     0  144425.938277   \n",
       "\n",
       "                      purpose  \n",
       "0               покупка жилья  \n",
       "1     приобретение автомобиля  \n",
       "2               покупка жилья  \n",
       "3  дополнительное образование  \n",
       "4             сыграть свадьбу  \n",
       "5               покупка жилья  \n",
       "6           операции с жильем  \n",
       "7                 образование  \n",
       "8       на проведение свадьбы  \n",
       "9     покупка жилья для семьи  "
      ]
     },
     "execution_count": 88,
     "metadata": {},
     "output_type": "execute_result"
    }
   ],
   "source": [
    "df.head(10)"
   ]
  },
  {
   "cell_type": "markdown",
   "id": "capable-mirror",
   "metadata": {},
   "source": [
    "**Проверим значения нашего дата сета на уникальность**"
   ]
  },
  {
   "cell_type": "code",
   "execution_count": 89,
   "id": "boring-insert",
   "metadata": {},
   "outputs": [
    {
     "name": "stdout",
     "output_type": "stream",
     "text": [
      "-----------\n",
      "children\n",
      "-----------\n",
      "[ 1  0  3  2 -1  4 20  5]\n",
      "-----------\n",
      "days_employed\n",
      "-----------\n",
      "[-8437.67302776 -4024.80375385 -5623.42261023 ... -2113.3468877\n",
      " -3112.4817052  -1984.50758853]\n",
      "-----------\n",
      "dob_years\n",
      "-----------\n",
      "[42 36 33 32 53 27 43 50 35 41 40 65 54 56 26 48 24 21 57 67 28 63 62 47\n",
      " 34 68 25 31 30 20 49 37 45 61 64 44 52 46 23 38 39 51  0 59 29 60 55 58\n",
      " 71 22 73 66 69 19 72 70 74 75]\n",
      "-----------\n",
      "education\n",
      "-----------\n",
      "['высшее' 'среднее' 'Среднее' 'СРЕДНЕЕ' 'ВЫСШЕЕ' 'неоконченное высшее'\n",
      " 'начальное' 'Высшее' 'НЕОКОНЧЕННОЕ ВЫСШЕЕ' 'Неоконченное высшее'\n",
      " 'НАЧАЛЬНОЕ' 'Начальное' 'Ученая степень' 'УЧЕНАЯ СТЕПЕНЬ'\n",
      " 'ученая степень']\n",
      "-----------\n",
      "education_id\n",
      "-----------\n",
      "[0 1 2 3 4]\n",
      "-----------\n",
      "family_status\n",
      "-----------\n",
      "['женат / замужем' 'гражданский брак' 'вдовец / вдова' 'в разводе'\n",
      " 'Не женат / не замужем']\n",
      "-----------\n",
      "family_status_id\n",
      "-----------\n",
      "[0 1 2 3 4]\n",
      "-----------\n",
      "gender\n",
      "-----------\n",
      "['F' 'M' 'XNA']\n",
      "-----------\n",
      "income_type\n",
      "-----------\n",
      "['сотрудник' 'пенсионер' 'компаньон' 'госслужащий' 'безработный'\n",
      " 'предприниматель' 'студент' 'в декрете']\n",
      "-----------\n",
      "debt\n",
      "-----------\n",
      "[0 1]\n",
      "-----------\n",
      "total_income\n",
      "-----------\n",
      "[253875.6394526  112080.01410244 145885.95229686 ...  89672.56115303\n",
      " 244093.05050043  82047.41889948]\n",
      "-----------\n",
      "purpose\n",
      "-----------\n",
      "['покупка жилья' 'приобретение автомобиля' 'дополнительное образование'\n",
      " 'сыграть свадьбу' 'операции с жильем' 'образование'\n",
      " 'на проведение свадьбы' 'покупка жилья для семьи' 'покупка недвижимости'\n",
      " 'покупка коммерческой недвижимости' 'покупка жилой недвижимости'\n",
      " 'строительство собственной недвижимости' 'недвижимость'\n",
      " 'строительство недвижимости' 'на покупку подержанного автомобиля'\n",
      " 'на покупку своего автомобиля' 'операции с коммерческой недвижимостью'\n",
      " 'строительство жилой недвижимости' 'жилье'\n",
      " 'операции со своей недвижимостью' 'автомобили' 'заняться образованием'\n",
      " 'сделка с подержанным автомобилем' 'получение образования' 'автомобиль'\n",
      " 'свадьба' 'получение дополнительного образования' 'покупка своего жилья'\n",
      " 'операции с недвижимостью' 'получение высшего образования'\n",
      " 'свой автомобиль' 'сделка с автомобилем' 'профильное образование'\n",
      " 'высшее образование' 'покупка жилья для сдачи' 'на покупку автомобиля'\n",
      " 'ремонт жилью' 'заняться высшим образованием']\n"
     ]
    }
   ],
   "source": [
    "for column in list(df):\n",
    "    print('-----------')\n",
    "    print(column)\n",
    "    print('-----------')\n",
    "    print(df[column].unique())"
   ]
  },
  {
   "cell_type": "markdown",
   "id": "conditional-vatican",
   "metadata": {},
   "source": [
    "### Выводы\n",
    "**В данныйх заметны некоторые странности, накидаем список:**\n",
    "- [x] В стролбце дети есть минусовые дети, а одно из значений подозрительно велико. Надо исследовать сколько таких значения;\n",
    "- [x] в days_employed видно, что есть пропуски + значения минусовые;\n",
    "- [x] dob_years есть нулевые значения в данных о возрасте;\n",
    "- [x] education нужно привечти все данные в нижний регистр, колличество уников должно совпадать с кол-вом education_id;\n",
    "- [x] family_status привести в нижний регистр;\n",
    "- [x] total_income похоже, что есть пропуски и минусовые значения;\n",
    "- [x] purpose надо выделить категории, сейчас все в одну кучу\n",
    "- [x] total_income надо выделить категории, будет полезно для ответа на вопрос по зависимости"
   ]
  },
  {
   "cell_type": "markdown",
   "id": "round-summer",
   "metadata": {},
   "source": [
    "### Шаг 2. Предобработка данных\n",
    "### Обработка дубликатов\n",
    "**Приведем данные к нижнему регистру**"
   ]
  },
  {
   "cell_type": "code",
   "execution_count": 90,
   "id": "excess-magnitude",
   "metadata": {},
   "outputs": [
    {
     "data": {
      "text/plain": [
       "array(['высшее', 'среднее', 'неоконченное высшее', 'начальное',\n",
       "       'ученая степень'], dtype=object)"
      ]
     },
     "execution_count": 90,
     "metadata": {},
     "output_type": "execute_result"
    }
   ],
   "source": [
    "df['education'] = df['education'].str.lower()\n",
    "df['education'].unique()"
   ]
  },
  {
   "cell_type": "code",
   "execution_count": 91,
   "id": "informal-operations",
   "metadata": {},
   "outputs": [
    {
     "data": {
      "text/plain": [
       "array(['женат / замужем', 'гражданский брак', 'вдовец / вдова',\n",
       "       'в разводе', 'не женат / не замужем'], dtype=object)"
      ]
     },
     "execution_count": 91,
     "metadata": {},
     "output_type": "execute_result"
    }
   ],
   "source": [
    "df['family_status'] = df['family_status'].str.lower()\n",
    "df['family_status'].unique()"
   ]
  },
  {
   "cell_type": "markdown",
   "id": "assumed-lunch",
   "metadata": {},
   "source": [
    "**Исследуем столбец с информацией о детях**"
   ]
  },
  {
   "cell_type": "code",
   "execution_count": 92,
   "id": "combined-handy",
   "metadata": {},
   "outputs": [
    {
     "data": {
      "text/plain": [
       " 0     14149\n",
       " 1      4818\n",
       " 2      2055\n",
       " 3       330\n",
       " 20       76\n",
       "-1        47\n",
       " 4        41\n",
       " 5         9\n",
       "Name: children, dtype: int64"
      ]
     },
     "execution_count": 92,
     "metadata": {},
     "output_type": "execute_result"
    }
   ],
   "source": [
    "df['children'].value_counts()"
   ]
  },
  {
   "cell_type": "markdown",
   "id": "moral-category",
   "metadata": {},
   "source": [
    "**Поправим 2 ошибки в данных**\n",
    "- 20 детей это большая редкость. Скорее всего это ошибка данных. Заменим средним по выборке\n",
    "- (-1) не бывает, поправим"
   ]
  },
  {
   "cell_type": "code",
   "execution_count": 93,
   "id": "pleasant-eligibility",
   "metadata": {},
   "outputs": [],
   "source": [
    "df.loc[df['children'] == -1, 'children'] = 1"
   ]
  },
  {
   "cell_type": "code",
   "execution_count": 94,
   "id": "initial-collapse",
   "metadata": {},
   "outputs": [
    {
     "data": {
      "text/plain": [
       "0.474"
      ]
     },
     "execution_count": 94,
     "metadata": {},
     "output_type": "execute_result"
    }
   ],
   "source": [
    "round(df[df['children'] <=5]['children'].mean(), 3)"
   ]
  },
  {
   "cell_type": "code",
   "execution_count": 95,
   "id": "absolute-stationery",
   "metadata": {},
   "outputs": [],
   "source": [
    "df.loc[df['children'] == 20, 'children'] = 2"
   ]
  },
  {
   "cell_type": "code",
   "execution_count": 96,
   "id": "conditional-yellow",
   "metadata": {},
   "outputs": [
    {
     "data": {
      "text/plain": [
       "0    14149\n",
       "1     4865\n",
       "2     2131\n",
       "3      330\n",
       "4       41\n",
       "5        9\n",
       "Name: children, dtype: int64"
      ]
     },
     "execution_count": 96,
     "metadata": {},
     "output_type": "execute_result"
    }
   ],
   "source": [
    "df['children'].value_counts()"
   ]
  },
  {
   "cell_type": "markdown",
   "id": "painted-infrared",
   "metadata": {},
   "source": [
    "**Исследуем возраст заемщиков**"
   ]
  },
  {
   "cell_type": "code",
   "execution_count": 97,
   "id": "liberal-blackjack",
   "metadata": {},
   "outputs": [
    {
     "data": {
      "text/plain": [
       "35    617\n",
       "40    609\n",
       "41    607\n",
       "34    603\n",
       "38    598\n",
       "42    597\n",
       "33    581\n",
       "39    573\n",
       "31    560\n",
       "36    555\n",
       "44    547\n",
       "29    545\n",
       "30    540\n",
       "48    538\n",
       "37    537\n",
       "50    514\n",
       "43    513\n",
       "32    510\n",
       "49    508\n",
       "28    503\n",
       "45    497\n",
       "27    493\n",
       "56    487\n",
       "52    484\n",
       "47    480\n",
       "54    479\n",
       "46    475\n",
       "58    461\n",
       "57    460\n",
       "53    459\n",
       "51    448\n",
       "59    444\n",
       "55    443\n",
       "26    408\n",
       "60    377\n",
       "25    357\n",
       "61    355\n",
       "62    352\n",
       "63    269\n",
       "64    265\n",
       "24    264\n",
       "23    254\n",
       "65    194\n",
       "66    183\n",
       "22    183\n",
       "67    167\n",
       "21    111\n",
       "0     101\n",
       "68     99\n",
       "69     85\n",
       "70     65\n",
       "71     58\n",
       "20     51\n",
       "72     33\n",
       "19     14\n",
       "73      8\n",
       "74      6\n",
       "75      1\n",
       "Name: dob_years, dtype: int64"
      ]
     },
     "execution_count": 97,
     "metadata": {},
     "output_type": "execute_result"
    }
   ],
   "source": [
    "df['dob_years'].value_counts()"
   ]
  },
  {
   "cell_type": "code",
   "execution_count": 98,
   "id": "intellectual-public",
   "metadata": {},
   "outputs": [
    {
     "data": {
      "text/plain": [
       "<AxesSubplot:>"
      ]
     },
     "execution_count": 98,
     "metadata": {},
     "output_type": "execute_result"
    },
    {
     "data": {
      "image/png": "[encoded data removed]",
      "text/plain": [
       "<Figure size 864x576 with 1 Axes>"
      ]
     },
     "metadata": {},
     "output_type": "display_data"
    }
   ],
   "source": [
    "df['dob_years'].hist()"
   ]
  },
  {
   "cell_type": "markdown",
   "id": "yellow-strand",
   "metadata": {},
   "source": [
    "101 значение c нулевым возрастом, похоже на ошибку выгрузки.   \n",
    "Странно, если в банке выдают кредит не понимая сколько человеку лет"
   ]
  },
  {
   "cell_type": "code",
   "execution_count": 99,
   "id": "complete-passion",
   "metadata": {},
   "outputs": [
    {
     "name": "stdout",
     "output_type": "stream",
     "text": [
      "Средний возраст заемщика: 43\n"
     ]
    }
   ],
   "source": [
    "print('Средний возраст заемщика: {:.0f}'.format(df['dob_years'].mean()))"
   ]
  },
  {
   "cell_type": "code",
   "execution_count": 100,
   "id": "lovely-contrast",
   "metadata": {},
   "outputs": [],
   "source": [
    "df.loc[df['dob_years'] == 0, 'dob_years'] = 43"
   ]
  },
  {
   "cell_type": "code",
   "execution_count": 101,
   "id": "extreme-hours",
   "metadata": {},
   "outputs": [
    {
     "data": {
      "text/plain": [
       "<AxesSubplot:>"
      ]
     },
     "execution_count": 101,
     "metadata": {},
     "output_type": "execute_result"
    },
    {
     "data": {
      "image/png": "[encoded data removed]",
      "text/plain": [
       "<Figure size 864x576 with 1 Axes>"
      ]
     },
     "metadata": {},
     "output_type": "display_data"
    }
   ],
   "source": [
    "df['dob_years'].hist()"
   ]
  },
  {
   "cell_type": "markdown",
   "id": "swiss-defendant",
   "metadata": {},
   "source": [
    "### Обработка пропусков"
   ]
  },
  {
   "cell_type": "code",
   "execution_count": 102,
   "id": "duplicate-recommendation",
   "metadata": {},
   "outputs": [
    {
     "data": {
      "text/plain": [
       "children               0\n",
       "days_employed       2174\n",
       "dob_years              0\n",
       "education              0\n",
       "education_id           0\n",
       "family_status          0\n",
       "family_status_id       0\n",
       "gender                 0\n",
       "income_type            0\n",
       "debt                   0\n",
       "total_income        2174\n",
       "purpose                0\n",
       "dtype: int64"
      ]
     },
     "execution_count": 102,
     "metadata": {},
     "output_type": "execute_result"
    }
   ],
   "source": [
    "df.isnull().sum()"
   ]
  },
  {
   "cell_type": "code",
   "execution_count": 103,
   "id": "indirect-worker",
   "metadata": {},
   "outputs": [
    {
     "data": {
      "text/html": [
       "<div>\n",
       "<style scoped>\n",
       "    .dataframe tbody tr th:only-of-type {\n",
       "        vertical-align: middle;\n",
       "    }\n",
       "\n",
       "    .dataframe tbody tr th {\n",
       "        vertical-align: top;\n",
       "    }\n",
       "\n",
       "    .dataframe thead th {\n",
       "        text-align: right;\n",
       "    }\n",
       "</style>\n",
       "<table border=\"1\" class=\"dataframe\">\n",
       "  <thead>\n",
       "    <tr style=\"text-align: right;\">\n",
       "      <th></th>\n",
       "      <th>children</th>\n",
       "      <th>days_employed</th>\n",
       "      <th>dob_years</th>\n",
       "      <th>education</th>\n",
       "      <th>education_id</th>\n",
       "      <th>family_status</th>\n",
       "      <th>family_status_id</th>\n",
       "      <th>gender</th>\n",
       "      <th>income_type</th>\n",
       "      <th>debt</th>\n",
       "      <th>total_income</th>\n",
       "      <th>purpose</th>\n",
       "    </tr>\n",
       "  </thead>\n",
       "  <tbody>\n",
       "    <tr>\n",
       "      <th>12</th>\n",
       "      <td>0</td>\n",
       "      <td>NaN</td>\n",
       "      <td>65</td>\n",
       "      <td>среднее</td>\n",
       "      <td>1</td>\n",
       "      <td>гражданский брак</td>\n",
       "      <td>1</td>\n",
       "      <td>M</td>\n",
       "      <td>пенсионер</td>\n",
       "      <td>0</td>\n",
       "      <td>NaN</td>\n",
       "      <td>сыграть свадьбу</td>\n",
       "    </tr>\n",
       "    <tr>\n",
       "      <th>26</th>\n",
       "      <td>0</td>\n",
       "      <td>NaN</td>\n",
       "      <td>41</td>\n",
       "      <td>среднее</td>\n",
       "      <td>1</td>\n",
       "      <td>женат / замужем</td>\n",
       "      <td>0</td>\n",
       "      <td>M</td>\n",
       "      <td>госслужащий</td>\n",
       "      <td>0</td>\n",
       "      <td>NaN</td>\n",
       "      <td>образование</td>\n",
       "    </tr>\n",
       "    <tr>\n",
       "      <th>29</th>\n",
       "      <td>0</td>\n",
       "      <td>NaN</td>\n",
       "      <td>63</td>\n",
       "      <td>среднее</td>\n",
       "      <td>1</td>\n",
       "      <td>не женат / не замужем</td>\n",
       "      <td>4</td>\n",
       "      <td>F</td>\n",
       "      <td>пенсионер</td>\n",
       "      <td>0</td>\n",
       "      <td>NaN</td>\n",
       "      <td>строительство жилой недвижимости</td>\n",
       "    </tr>\n",
       "    <tr>\n",
       "      <th>41</th>\n",
       "      <td>0</td>\n",
       "      <td>NaN</td>\n",
       "      <td>50</td>\n",
       "      <td>среднее</td>\n",
       "      <td>1</td>\n",
       "      <td>женат / замужем</td>\n",
       "      <td>0</td>\n",
       "      <td>F</td>\n",
       "      <td>госслужащий</td>\n",
       "      <td>0</td>\n",
       "      <td>NaN</td>\n",
       "      <td>сделка с подержанным автомобилем</td>\n",
       "    </tr>\n",
       "    <tr>\n",
       "      <th>55</th>\n",
       "      <td>0</td>\n",
       "      <td>NaN</td>\n",
       "      <td>54</td>\n",
       "      <td>среднее</td>\n",
       "      <td>1</td>\n",
       "      <td>гражданский брак</td>\n",
       "      <td>1</td>\n",
       "      <td>F</td>\n",
       "      <td>пенсионер</td>\n",
       "      <td>1</td>\n",
       "      <td>NaN</td>\n",
       "      <td>сыграть свадьбу</td>\n",
       "    </tr>\n",
       "  </tbody>\n",
       "</table>\n",
       "</div>"
      ],
      "text/plain": [
       "    children  days_employed  dob_years education  education_id  \\\n",
       "12         0            NaN         65   среднее             1   \n",
       "26         0            NaN         41   среднее             1   \n",
       "29         0            NaN         63   среднее             1   \n",
       "41         0            NaN         50   среднее             1   \n",
       "55         0            NaN         54   среднее             1   \n",
       "\n",
       "            family_status  family_status_id gender  income_type  debt  \\\n",
       "12       гражданский брак                 1      M    пенсионер     0   \n",
       "26        женат / замужем                 0      M  госслужащий     0   \n",
       "29  не женат / не замужем                 4      F    пенсионер     0   \n",
       "41        женат / замужем                 0      F  госслужащий     0   \n",
       "55       гражданский брак                 1      F    пенсионер     1   \n",
       "\n",
       "    total_income                           purpose  \n",
       "12           NaN                   сыграть свадьбу  \n",
       "26           NaN                       образование  \n",
       "29           NaN  строительство жилой недвижимости  \n",
       "41           NaN  сделка с подержанным автомобилем  \n",
       "55           NaN                   сыграть свадьбу  "
      ]
     },
     "execution_count": 103,
     "metadata": {},
     "output_type": "execute_result"
    }
   ],
   "source": [
    "df[df['days_employed'].isna()].head()"
   ]
  },
  {
   "cell_type": "code",
   "execution_count": 104,
   "id": "massive-sending",
   "metadata": {},
   "outputs": [
    {
     "name": "stdout",
     "output_type": "stream",
     "text": [
      "Процент прпущеных значение от общей выборки: 10%\n"
     ]
    }
   ],
   "source": [
    "total_data = len(df)\n",
    "nan_data = 2174\n",
    "print('Процент прпущеных значение от общей выборки: {:.0%}'.format(nan_data/total_data))"
   ]
  },
  {
   "cell_type": "markdown",
   "id": "natural-photography",
   "metadata": {},
   "source": [
    "Можно убрать значения, но кажется что 10% достаточно много.  \n",
    "Лучше заполнить средним по группе. Сгруппируем по типу работы и и каждому классу присвоим свои средние."
   ]
  },
  {
   "cell_type": "code",
   "execution_count": 105,
   "id": "metallic-yacht",
   "metadata": {},
   "outputs": [
    {
     "data": {
      "text/html": [
       "<div>\n",
       "<style scoped>\n",
       "    .dataframe tbody tr th:only-of-type {\n",
       "        vertical-align: middle;\n",
       "    }\n",
       "\n",
       "    .dataframe tbody tr th {\n",
       "        vertical-align: top;\n",
       "    }\n",
       "\n",
       "    .dataframe thead th {\n",
       "        text-align: right;\n",
       "    }\n",
       "</style>\n",
       "<table border=\"1\" class=\"dataframe\">\n",
       "  <thead>\n",
       "    <tr style=\"text-align: right;\">\n",
       "      <th></th>\n",
       "      <th>children</th>\n",
       "      <th>days_employed</th>\n",
       "      <th>dob_years</th>\n",
       "      <th>education</th>\n",
       "      <th>education_id</th>\n",
       "      <th>family_status</th>\n",
       "      <th>family_status_id</th>\n",
       "      <th>gender</th>\n",
       "      <th>income_type</th>\n",
       "      <th>debt</th>\n",
       "      <th>total_income</th>\n",
       "      <th>purpose</th>\n",
       "    </tr>\n",
       "  </thead>\n",
       "  <tbody>\n",
       "    <tr>\n",
       "      <th>12</th>\n",
       "      <td>0</td>\n",
       "      <td>0.0</td>\n",
       "      <td>65</td>\n",
       "      <td>среднее</td>\n",
       "      <td>1</td>\n",
       "      <td>гражданский брак</td>\n",
       "      <td>1</td>\n",
       "      <td>M</td>\n",
       "      <td>пенсионер</td>\n",
       "      <td>0</td>\n",
       "      <td>0.0</td>\n",
       "      <td>сыграть свадьбу</td>\n",
       "    </tr>\n",
       "    <tr>\n",
       "      <th>26</th>\n",
       "      <td>0</td>\n",
       "      <td>0.0</td>\n",
       "      <td>41</td>\n",
       "      <td>среднее</td>\n",
       "      <td>1</td>\n",
       "      <td>женат / замужем</td>\n",
       "      <td>0</td>\n",
       "      <td>M</td>\n",
       "      <td>госслужащий</td>\n",
       "      <td>0</td>\n",
       "      <td>0.0</td>\n",
       "      <td>образование</td>\n",
       "    </tr>\n",
       "    <tr>\n",
       "      <th>29</th>\n",
       "      <td>0</td>\n",
       "      <td>0.0</td>\n",
       "      <td>63</td>\n",
       "      <td>среднее</td>\n",
       "      <td>1</td>\n",
       "      <td>не женат / не замужем</td>\n",
       "      <td>4</td>\n",
       "      <td>F</td>\n",
       "      <td>пенсионер</td>\n",
       "      <td>0</td>\n",
       "      <td>0.0</td>\n",
       "      <td>строительство жилой недвижимости</td>\n",
       "    </tr>\n",
       "    <tr>\n",
       "      <th>41</th>\n",
       "      <td>0</td>\n",
       "      <td>0.0</td>\n",
       "      <td>50</td>\n",
       "      <td>среднее</td>\n",
       "      <td>1</td>\n",
       "      <td>женат / замужем</td>\n",
       "      <td>0</td>\n",
       "      <td>F</td>\n",
       "      <td>госслужащий</td>\n",
       "      <td>0</td>\n",
       "      <td>0.0</td>\n",
       "      <td>сделка с подержанным автомобилем</td>\n",
       "    </tr>\n",
       "    <tr>\n",
       "      <th>55</th>\n",
       "      <td>0</td>\n",
       "      <td>0.0</td>\n",
       "      <td>54</td>\n",
       "      <td>среднее</td>\n",
       "      <td>1</td>\n",
       "      <td>гражданский брак</td>\n",
       "      <td>1</td>\n",
       "      <td>F</td>\n",
       "      <td>пенсионер</td>\n",
       "      <td>1</td>\n",
       "      <td>0.0</td>\n",
       "      <td>сыграть свадьбу</td>\n",
       "    </tr>\n",
       "  </tbody>\n",
       "</table>\n",
       "</div>"
      ],
      "text/plain": [
       "    children  days_employed  dob_years education  education_id  \\\n",
       "12         0            0.0         65   среднее             1   \n",
       "26         0            0.0         41   среднее             1   \n",
       "29         0            0.0         63   среднее             1   \n",
       "41         0            0.0         50   среднее             1   \n",
       "55         0            0.0         54   среднее             1   \n",
       "\n",
       "            family_status  family_status_id gender  income_type  debt  \\\n",
       "12       гражданский брак                 1      M    пенсионер     0   \n",
       "26        женат / замужем                 0      M  госслужащий     0   \n",
       "29  не женат / не замужем                 4      F    пенсионер     0   \n",
       "41        женат / замужем                 0      F  госслужащий     0   \n",
       "55       гражданский брак                 1      F    пенсионер     1   \n",
       "\n",
       "    total_income                           purpose  \n",
       "12           0.0                   сыграть свадьбу  \n",
       "26           0.0                       образование  \n",
       "29           0.0  строительство жилой недвижимости  \n",
       "41           0.0  сделка с подержанным автомобилем  \n",
       "55           0.0                   сыграть свадьбу  "
      ]
     },
     "execution_count": 105,
     "metadata": {},
     "output_type": "execute_result"
    }
   ],
   "source": [
    "# Меняем NaN на нули\n",
    "df = df.fillna(0)\n",
    "df[df['days_employed'] == 0].head()"
   ]
  },
  {
   "cell_type": "markdown",
   "id": "another-drink",
   "metadata": {},
   "source": [
    "**Работа со столбцом total_income**"
   ]
  },
  {
   "cell_type": "code",
   "execution_count": 106,
   "id": "alive-seeking",
   "metadata": {},
   "outputs": [
    {
     "data": {
      "text/plain": [
       "<AxesSubplot:>"
      ]
     },
     "execution_count": 106,
     "metadata": {},
     "output_type": "execute_result"
    },
    {
     "data": {
      "image/png": "[encoded data removed]",
      "text/plain": [
       "<Figure size 864x576 with 1 Axes>"
      ]
     },
     "metadata": {},
     "output_type": "display_data"
    }
   ],
   "source": [
    "df['total_income'].hist()"
   ]
  },
  {
   "cell_type": "code",
   "execution_count": 107,
   "id": "dangerous-singles",
   "metadata": {},
   "outputs": [
    {
     "data": {
      "text/html": [
       "<div>\n",
       "<style scoped>\n",
       "    .dataframe tbody tr th:only-of-type {\n",
       "        vertical-align: middle;\n",
       "    }\n",
       "\n",
       "    .dataframe tbody tr th {\n",
       "        vertical-align: top;\n",
       "    }\n",
       "\n",
       "    .dataframe thead th {\n",
       "        text-align: right;\n",
       "    }\n",
       "</style>\n",
       "<table border=\"1\" class=\"dataframe\">\n",
       "  <thead>\n",
       "    <tr style=\"text-align: right;\">\n",
       "      <th></th>\n",
       "      <th>total_income</th>\n",
       "    </tr>\n",
       "    <tr>\n",
       "      <th>income_type</th>\n",
       "      <th></th>\n",
       "    </tr>\n",
       "  </thead>\n",
       "  <tbody>\n",
       "    <tr>\n",
       "      <th>безработный</th>\n",
       "      <td>131340.0</td>\n",
       "    </tr>\n",
       "    <tr>\n",
       "      <th>в декрете</th>\n",
       "      <td>53829.0</td>\n",
       "    </tr>\n",
       "    <tr>\n",
       "      <th>госслужащий</th>\n",
       "      <td>139034.0</td>\n",
       "    </tr>\n",
       "    <tr>\n",
       "      <th>компаньон</th>\n",
       "      <td>162401.0</td>\n",
       "    </tr>\n",
       "    <tr>\n",
       "      <th>пенсионер</th>\n",
       "      <td>110180.0</td>\n",
       "    </tr>\n",
       "    <tr>\n",
       "      <th>предприниматель</th>\n",
       "      <td>249582.0</td>\n",
       "    </tr>\n",
       "    <tr>\n",
       "      <th>сотрудник</th>\n",
       "      <td>133546.0</td>\n",
       "    </tr>\n",
       "    <tr>\n",
       "      <th>студент</th>\n",
       "      <td>98202.0</td>\n",
       "    </tr>\n",
       "  </tbody>\n",
       "</table>\n",
       "</div>"
      ],
      "text/plain": [
       "                 total_income\n",
       "income_type                  \n",
       "безработный          131340.0\n",
       "в декрете             53829.0\n",
       "госслужащий          139034.0\n",
       "компаньон            162401.0\n",
       "пенсионер            110180.0\n",
       "предприниматель      249582.0\n",
       "сотрудник            133546.0\n",
       "студент               98202.0"
      ]
     },
     "execution_count": 107,
     "metadata": {},
     "output_type": "execute_result"
    }
   ],
   "source": [
    "total_income_mean = round(df.groupby('income_type').agg({'total_income': 'median'}))\n",
    "total_income_mean"
   ]
  },
  {
   "cell_type": "code",
   "execution_count": 108,
   "id": "private-squad",
   "metadata": {},
   "outputs": [
    {
     "data": {
      "text/plain": [
       "131340.0"
      ]
     },
     "execution_count": 108,
     "metadata": {},
     "output_type": "execute_result"
    }
   ],
   "source": [
    "total_income_mean.loc['безработный', 'total_income']"
   ]
  },
  {
   "cell_type": "code",
   "execution_count": 109,
   "id": "impressive-favorite",
   "metadata": {},
   "outputs": [],
   "source": [
    "def distribute_salaries_by_groups(row):\n",
    "    '''\n",
    "    Функция проверяет значение столбца total_income, елси в нем 0,\n",
    "    заменяет средним по группе типа занятости клиента банка.\n",
    "    '''\n",
    "    income_type = row['income_type']\n",
    "    total_income = row['total_income']\n",
    "    if total_income == 0:\n",
    "        if income_type == 'безработный':\n",
    "            return total_income_mean.loc['безработный', 'total_income']\n",
    "    if total_income == 0:\n",
    "        if income_type == 'в декрете':\n",
    "            return total_income_mean.loc['в декрете', 'total_income']\n",
    "    if total_income == 0:\n",
    "        if income_type == 'госслужащий':\n",
    "            return total_income_mean.loc['госслужащий', 'total_income']\n",
    "    if total_income == 0:\n",
    "        if income_type == 'компаньон':\n",
    "            return total_income_mean.loc['компаньон', 'total_income']\n",
    "    if total_income == 0:\n",
    "        if income_type == 'пенсионер':\n",
    "            return total_income_mean.loc['пенсионер', 'total_income']\n",
    "    if total_income == 0:\n",
    "        if income_type == 'предприниматель':\n",
    "            return total_income_mean.loc['предприниматель', 'total_income']\n",
    "    if total_income == 0:\n",
    "        if income_type == 'сотрудник':\n",
    "            return total_income_mean.loc['сотрудник', 'total_income']  \n",
    "    if total_income == 0:\n",
    "        if income_type == 'студент':\n",
    "            return total_income_mean.loc['студент', 'total_income']     \n",
    "    return total_income"
   ]
  },
  {
   "cell_type": "code",
   "execution_count": 110,
   "id": "earlier-separate",
   "metadata": {},
   "outputs": [
    {
     "name": "stdout",
     "output_type": "stream",
     "text": [
      "54321\n"
     ]
    }
   ],
   "source": [
    "# Проверяем функцию\n",
    "row_values = [54321, 'компаньон']\n",
    "row_columns = ['total_income', 'income_type']\n",
    "row = pd.Series(data=row_values, index=row_columns)  \n",
    "print(distribute_salaries_by_groups(row))"
   ]
  },
  {
   "cell_type": "code",
   "execution_count": 111,
   "id": "earlier-broadcast",
   "metadata": {},
   "outputs": [],
   "source": [
    "# Замена значений столбца по функции. Применяем к дата фрейму, т.к в функции есть условия по значению из другого столбца.\n",
    "# По умолчанию Pandas передаёт в функцию distribute_salaries_by_groups() столбец. Чтобы на вход в функцию отправлялись строки, нужно указать параметр axis = 1 метода apply().\n",
    "df['total_income'] = df.apply(distribute_salaries_by_groups, axis=1)"
   ]
  },
  {
   "cell_type": "code",
   "execution_count": 112,
   "id": "operating-criterion",
   "metadata": {},
   "outputs": [
    {
     "data": {
      "text/html": [
       "<div>\n",
       "<style scoped>\n",
       "    .dataframe tbody tr th:only-of-type {\n",
       "        vertical-align: middle;\n",
       "    }\n",
       "\n",
       "    .dataframe tbody tr th {\n",
       "        vertical-align: top;\n",
       "    }\n",
       "\n",
       "    .dataframe thead th {\n",
       "        text-align: right;\n",
       "    }\n",
       "</style>\n",
       "<table border=\"1\" class=\"dataframe\">\n",
       "  <thead>\n",
       "    <tr style=\"text-align: right;\">\n",
       "      <th></th>\n",
       "      <th>children</th>\n",
       "      <th>days_employed</th>\n",
       "      <th>dob_years</th>\n",
       "      <th>education</th>\n",
       "      <th>education_id</th>\n",
       "      <th>family_status</th>\n",
       "      <th>family_status_id</th>\n",
       "      <th>gender</th>\n",
       "      <th>income_type</th>\n",
       "      <th>debt</th>\n",
       "      <th>total_income</th>\n",
       "      <th>purpose</th>\n",
       "    </tr>\n",
       "  </thead>\n",
       "  <tbody>\n",
       "    <tr>\n",
       "      <th>12</th>\n",
       "      <td>0</td>\n",
       "      <td>0.0</td>\n",
       "      <td>65</td>\n",
       "      <td>среднее</td>\n",
       "      <td>1</td>\n",
       "      <td>гражданский брак</td>\n",
       "      <td>1</td>\n",
       "      <td>M</td>\n",
       "      <td>пенсионер</td>\n",
       "      <td>0</td>\n",
       "      <td>110180.0</td>\n",
       "      <td>сыграть свадьбу</td>\n",
       "    </tr>\n",
       "    <tr>\n",
       "      <th>26</th>\n",
       "      <td>0</td>\n",
       "      <td>0.0</td>\n",
       "      <td>41</td>\n",
       "      <td>среднее</td>\n",
       "      <td>1</td>\n",
       "      <td>женат / замужем</td>\n",
       "      <td>0</td>\n",
       "      <td>M</td>\n",
       "      <td>госслужащий</td>\n",
       "      <td>0</td>\n",
       "      <td>139034.0</td>\n",
       "      <td>образование</td>\n",
       "    </tr>\n",
       "    <tr>\n",
       "      <th>29</th>\n",
       "      <td>0</td>\n",
       "      <td>0.0</td>\n",
       "      <td>63</td>\n",
       "      <td>среднее</td>\n",
       "      <td>1</td>\n",
       "      <td>не женат / не замужем</td>\n",
       "      <td>4</td>\n",
       "      <td>F</td>\n",
       "      <td>пенсионер</td>\n",
       "      <td>0</td>\n",
       "      <td>110180.0</td>\n",
       "      <td>строительство жилой недвижимости</td>\n",
       "    </tr>\n",
       "    <tr>\n",
       "      <th>41</th>\n",
       "      <td>0</td>\n",
       "      <td>0.0</td>\n",
       "      <td>50</td>\n",
       "      <td>среднее</td>\n",
       "      <td>1</td>\n",
       "      <td>женат / замужем</td>\n",
       "      <td>0</td>\n",
       "      <td>F</td>\n",
       "      <td>госслужащий</td>\n",
       "      <td>0</td>\n",
       "      <td>139034.0</td>\n",
       "      <td>сделка с подержанным автомобилем</td>\n",
       "    </tr>\n",
       "    <tr>\n",
       "      <th>55</th>\n",
       "      <td>0</td>\n",
       "      <td>0.0</td>\n",
       "      <td>54</td>\n",
       "      <td>среднее</td>\n",
       "      <td>1</td>\n",
       "      <td>гражданский брак</td>\n",
       "      <td>1</td>\n",
       "      <td>F</td>\n",
       "      <td>пенсионер</td>\n",
       "      <td>1</td>\n",
       "      <td>110180.0</td>\n",
       "      <td>сыграть свадьбу</td>\n",
       "    </tr>\n",
       "  </tbody>\n",
       "</table>\n",
       "</div>"
      ],
      "text/plain": [
       "    children  days_employed  dob_years education  education_id  \\\n",
       "12         0            0.0         65   среднее             1   \n",
       "26         0            0.0         41   среднее             1   \n",
       "29         0            0.0         63   среднее             1   \n",
       "41         0            0.0         50   среднее             1   \n",
       "55         0            0.0         54   среднее             1   \n",
       "\n",
       "            family_status  family_status_id gender  income_type  debt  \\\n",
       "12       гражданский брак                 1      M    пенсионер     0   \n",
       "26        женат / замужем                 0      M  госслужащий     0   \n",
       "29  не женат / не замужем                 4      F    пенсионер     0   \n",
       "41        женат / замужем                 0      F  госслужащий     0   \n",
       "55       гражданский брак                 1      F    пенсионер     1   \n",
       "\n",
       "    total_income                           purpose  \n",
       "12      110180.0                   сыграть свадьбу  \n",
       "26      139034.0                       образование  \n",
       "29      110180.0  строительство жилой недвижимости  \n",
       "41      139034.0  сделка с подержанным автомобилем  \n",
       "55      110180.0                   сыграть свадьбу  "
      ]
     },
     "execution_count": 112,
     "metadata": {},
     "output_type": "execute_result"
    }
   ],
   "source": [
    "df[df['days_employed'] == 0].head()"
   ]
  },
  {
   "cell_type": "code",
   "execution_count": 113,
   "id": "electric-strength",
   "metadata": {},
   "outputs": [
    {
     "data": {
      "text/plain": [
       "<AxesSubplot:>"
      ]
     },
     "execution_count": 113,
     "metadata": {},
     "output_type": "execute_result"
    },
    {
     "data": {
      "image/png": "[encoded data removed]",
      "text/plain": [
       "<Figure size 864x576 with 1 Axes>"
      ]
     },
     "metadata": {},
     "output_type": "display_data"
    }
   ],
   "source": [
    "# Проверяем как изменилось респределение данных относительно 0\n",
    "df['total_income'].hist()"
   ]
  },
  {
   "cell_type": "markdown",
   "id": "cordless-liabilities",
   "metadata": {},
   "source": [
    "**Замена типа данных**"
   ]
  },
  {
   "cell_type": "code",
   "execution_count": 114,
   "id": "reduced-madagascar",
   "metadata": {},
   "outputs": [
    {
     "data": {
      "text/html": [
       "<div>\n",
       "<style scoped>\n",
       "    .dataframe tbody tr th:only-of-type {\n",
       "        vertical-align: middle;\n",
       "    }\n",
       "\n",
       "    .dataframe tbody tr th {\n",
       "        vertical-align: top;\n",
       "    }\n",
       "\n",
       "    .dataframe thead th {\n",
       "        text-align: right;\n",
       "    }\n",
       "</style>\n",
       "<table border=\"1\" class=\"dataframe\">\n",
       "  <thead>\n",
       "    <tr style=\"text-align: right;\">\n",
       "      <th></th>\n",
       "      <th>children</th>\n",
       "      <th>days_employed</th>\n",
       "      <th>dob_years</th>\n",
       "      <th>education</th>\n",
       "      <th>education_id</th>\n",
       "      <th>family_status</th>\n",
       "      <th>family_status_id</th>\n",
       "      <th>gender</th>\n",
       "      <th>income_type</th>\n",
       "      <th>debt</th>\n",
       "      <th>total_income</th>\n",
       "      <th>purpose</th>\n",
       "    </tr>\n",
       "  </thead>\n",
       "  <tbody>\n",
       "    <tr>\n",
       "      <th>0</th>\n",
       "      <td>1</td>\n",
       "      <td>-8437</td>\n",
       "      <td>42</td>\n",
       "      <td>высшее</td>\n",
       "      <td>0</td>\n",
       "      <td>женат / замужем</td>\n",
       "      <td>0</td>\n",
       "      <td>F</td>\n",
       "      <td>сотрудник</td>\n",
       "      <td>0</td>\n",
       "      <td>253875</td>\n",
       "      <td>покупка жилья</td>\n",
       "    </tr>\n",
       "    <tr>\n",
       "      <th>1</th>\n",
       "      <td>1</td>\n",
       "      <td>-4024</td>\n",
       "      <td>36</td>\n",
       "      <td>среднее</td>\n",
       "      <td>1</td>\n",
       "      <td>женат / замужем</td>\n",
       "      <td>0</td>\n",
       "      <td>F</td>\n",
       "      <td>сотрудник</td>\n",
       "      <td>0</td>\n",
       "      <td>112080</td>\n",
       "      <td>приобретение автомобиля</td>\n",
       "    </tr>\n",
       "    <tr>\n",
       "      <th>2</th>\n",
       "      <td>0</td>\n",
       "      <td>-5623</td>\n",
       "      <td>33</td>\n",
       "      <td>среднее</td>\n",
       "      <td>1</td>\n",
       "      <td>женат / замужем</td>\n",
       "      <td>0</td>\n",
       "      <td>M</td>\n",
       "      <td>сотрудник</td>\n",
       "      <td>0</td>\n",
       "      <td>145885</td>\n",
       "      <td>покупка жилья</td>\n",
       "    </tr>\n",
       "    <tr>\n",
       "      <th>3</th>\n",
       "      <td>3</td>\n",
       "      <td>-4124</td>\n",
       "      <td>32</td>\n",
       "      <td>среднее</td>\n",
       "      <td>1</td>\n",
       "      <td>женат / замужем</td>\n",
       "      <td>0</td>\n",
       "      <td>M</td>\n",
       "      <td>сотрудник</td>\n",
       "      <td>0</td>\n",
       "      <td>267628</td>\n",
       "      <td>дополнительное образование</td>\n",
       "    </tr>\n",
       "    <tr>\n",
       "      <th>4</th>\n",
       "      <td>0</td>\n",
       "      <td>340266</td>\n",
       "      <td>53</td>\n",
       "      <td>среднее</td>\n",
       "      <td>1</td>\n",
       "      <td>гражданский брак</td>\n",
       "      <td>1</td>\n",
       "      <td>F</td>\n",
       "      <td>пенсионер</td>\n",
       "      <td>0</td>\n",
       "      <td>158616</td>\n",
       "      <td>сыграть свадьбу</td>\n",
       "    </tr>\n",
       "  </tbody>\n",
       "</table>\n",
       "</div>"
      ],
      "text/plain": [
       "   children  days_employed  dob_years education  education_id  \\\n",
       "0         1          -8437         42    высшее             0   \n",
       "1         1          -4024         36   среднее             1   \n",
       "2         0          -5623         33   среднее             1   \n",
       "3         3          -4124         32   среднее             1   \n",
       "4         0         340266         53   среднее             1   \n",
       "\n",
       "      family_status  family_status_id gender income_type  debt  total_income  \\\n",
       "0   женат / замужем                 0      F   сотрудник     0        253875   \n",
       "1   женат / замужем                 0      F   сотрудник     0        112080   \n",
       "2   женат / замужем                 0      M   сотрудник     0        145885   \n",
       "3   женат / замужем                 0      M   сотрудник     0        267628   \n",
       "4  гражданский брак                 1      F   пенсионер     0        158616   \n",
       "\n",
       "                      purpose  \n",
       "0               покупка жилья  \n",
       "1     приобретение автомобиля  \n",
       "2               покупка жилья  \n",
       "3  дополнительное образование  \n",
       "4             сыграть свадьбу  "
      ]
     },
     "execution_count": 114,
     "metadata": {},
     "output_type": "execute_result"
    }
   ],
   "source": [
    "df['days_employed'] = df['days_employed'].astype('int')\n",
    "df['total_income'] = df['total_income'].astype('int')\n",
    "df.head()"
   ]
  },
  {
   "cell_type": "markdown",
   "id": "sought-score",
   "metadata": {},
   "source": [
    "Мы изменили значение колонок days_employed, total_income.  \n",
    "В рамках исследования нам вещественные значения в этих переменных не нужны.  \n",
    "Портят вид и вводят в заблуждения"
   ]
  },
  {
   "cell_type": "markdown",
   "id": "stable-update",
   "metadata": {},
   "source": [
    "**Минусовые значения в столбце days_employed**\n",
    "- Возможные причины появления\n",
    "    - Ошибка при выгрузке данных\n",
    "    - Возможно критичная и данные не верны  \n",
    "Напишем функцию которая преобразует наши значения"
   ]
  },
  {
   "cell_type": "code",
   "execution_count": 115,
   "id": "sharing-split",
   "metadata": {},
   "outputs": [],
   "source": [
    "import math\n",
    "def conversion_to_positive_values(row):\n",
    "    '''\n",
    "    Функция избавляется от отрицательного значения. Как алтернативу можно использовать встроенную функцию abc()\n",
    "    Она берет число по модулю\n",
    "    '''    \n",
    "    if row < 0:\n",
    "        values = round(float(math.sqrt(row**2)))\n",
    "        return values\n",
    "    else: return round(row)"
   ]
  },
  {
   "cell_type": "markdown",
   "id": "protective-stuff",
   "metadata": {},
   "source": [
    "Проверяем функцию"
   ]
  },
  {
   "cell_type": "code",
   "execution_count": 116,
   "id": "blocked-casting",
   "metadata": {},
   "outputs": [
    {
     "name": "stdout",
     "output_type": "stream",
     "text": [
      "8438\n"
     ]
    }
   ],
   "source": [
    "print(conversion_to_positive_values(-8437.673028))"
   ]
  },
  {
   "cell_type": "code",
   "execution_count": 117,
   "id": "finished-artwork",
   "metadata": {},
   "outputs": [
    {
     "name": "stdout",
     "output_type": "stream",
     "text": [
      "8438\n"
     ]
    }
   ],
   "source": [
    "print(conversion_to_positive_values(8437.673028))"
   ]
  },
  {
   "cell_type": "code",
   "execution_count": 118,
   "id": "macro-winning",
   "metadata": {},
   "outputs": [
    {
     "name": "stdout",
     "output_type": "stream",
     "text": [
      "0\n"
     ]
    }
   ],
   "source": [
    "print(conversion_to_positive_values(0.0))"
   ]
  },
  {
   "cell_type": "code",
   "execution_count": 119,
   "id": "korean-mountain",
   "metadata": {},
   "outputs": [],
   "source": [
    "df['days_employed'] = df['days_employed'].apply(conversion_to_positive_values)\n",
    "df['total_income'] = df['total_income'].apply(conversion_to_positive_values)"
   ]
  },
  {
   "cell_type": "code",
   "execution_count": 120,
   "id": "focal-democracy",
   "metadata": {},
   "outputs": [
    {
     "data": {
      "text/html": [
       "<div>\n",
       "<style scoped>\n",
       "    .dataframe tbody tr th:only-of-type {\n",
       "        vertical-align: middle;\n",
       "    }\n",
       "\n",
       "    .dataframe tbody tr th {\n",
       "        vertical-align: top;\n",
       "    }\n",
       "\n",
       "    .dataframe thead th {\n",
       "        text-align: right;\n",
       "    }\n",
       "</style>\n",
       "<table border=\"1\" class=\"dataframe\">\n",
       "  <thead>\n",
       "    <tr style=\"text-align: right;\">\n",
       "      <th></th>\n",
       "      <th>children</th>\n",
       "      <th>days_employed</th>\n",
       "      <th>dob_years</th>\n",
       "      <th>education</th>\n",
       "      <th>education_id</th>\n",
       "      <th>family_status</th>\n",
       "      <th>family_status_id</th>\n",
       "      <th>gender</th>\n",
       "      <th>income_type</th>\n",
       "      <th>debt</th>\n",
       "      <th>total_income</th>\n",
       "      <th>purpose</th>\n",
       "    </tr>\n",
       "  </thead>\n",
       "  <tbody>\n",
       "    <tr>\n",
       "      <th>0</th>\n",
       "      <td>1</td>\n",
       "      <td>8437</td>\n",
       "      <td>42</td>\n",
       "      <td>высшее</td>\n",
       "      <td>0</td>\n",
       "      <td>женат / замужем</td>\n",
       "      <td>0</td>\n",
       "      <td>F</td>\n",
       "      <td>сотрудник</td>\n",
       "      <td>0</td>\n",
       "      <td>253875</td>\n",
       "      <td>покупка жилья</td>\n",
       "    </tr>\n",
       "    <tr>\n",
       "      <th>1</th>\n",
       "      <td>1</td>\n",
       "      <td>4024</td>\n",
       "      <td>36</td>\n",
       "      <td>среднее</td>\n",
       "      <td>1</td>\n",
       "      <td>женат / замужем</td>\n",
       "      <td>0</td>\n",
       "      <td>F</td>\n",
       "      <td>сотрудник</td>\n",
       "      <td>0</td>\n",
       "      <td>112080</td>\n",
       "      <td>приобретение автомобиля</td>\n",
       "    </tr>\n",
       "    <tr>\n",
       "      <th>2</th>\n",
       "      <td>0</td>\n",
       "      <td>5623</td>\n",
       "      <td>33</td>\n",
       "      <td>среднее</td>\n",
       "      <td>1</td>\n",
       "      <td>женат / замужем</td>\n",
       "      <td>0</td>\n",
       "      <td>M</td>\n",
       "      <td>сотрудник</td>\n",
       "      <td>0</td>\n",
       "      <td>145885</td>\n",
       "      <td>покупка жилья</td>\n",
       "    </tr>\n",
       "    <tr>\n",
       "      <th>3</th>\n",
       "      <td>3</td>\n",
       "      <td>4124</td>\n",
       "      <td>32</td>\n",
       "      <td>среднее</td>\n",
       "      <td>1</td>\n",
       "      <td>женат / замужем</td>\n",
       "      <td>0</td>\n",
       "      <td>M</td>\n",
       "      <td>сотрудник</td>\n",
       "      <td>0</td>\n",
       "      <td>267628</td>\n",
       "      <td>дополнительное образование</td>\n",
       "    </tr>\n",
       "    <tr>\n",
       "      <th>4</th>\n",
       "      <td>0</td>\n",
       "      <td>340266</td>\n",
       "      <td>53</td>\n",
       "      <td>среднее</td>\n",
       "      <td>1</td>\n",
       "      <td>гражданский брак</td>\n",
       "      <td>1</td>\n",
       "      <td>F</td>\n",
       "      <td>пенсионер</td>\n",
       "      <td>0</td>\n",
       "      <td>158616</td>\n",
       "      <td>сыграть свадьбу</td>\n",
       "    </tr>\n",
       "  </tbody>\n",
       "</table>\n",
       "</div>"
      ],
      "text/plain": [
       "   children  days_employed  dob_years education  education_id  \\\n",
       "0         1           8437         42    высшее             0   \n",
       "1         1           4024         36   среднее             1   \n",
       "2         0           5623         33   среднее             1   \n",
       "3         3           4124         32   среднее             1   \n",
       "4         0         340266         53   среднее             1   \n",
       "\n",
       "      family_status  family_status_id gender income_type  debt  total_income  \\\n",
       "0   женат / замужем                 0      F   сотрудник     0        253875   \n",
       "1   женат / замужем                 0      F   сотрудник     0        112080   \n",
       "2   женат / замужем                 0      M   сотрудник     0        145885   \n",
       "3   женат / замужем                 0      M   сотрудник     0        267628   \n",
       "4  гражданский брак                 1      F   пенсионер     0        158616   \n",
       "\n",
       "                      purpose  \n",
       "0               покупка жилья  \n",
       "1     приобретение автомобиля  \n",
       "2               покупка жилья  \n",
       "3  дополнительное образование  \n",
       "4             сыграть свадьбу  "
      ]
     },
     "execution_count": 120,
     "metadata": {},
     "output_type": "execute_result"
    }
   ],
   "source": [
    "df.head()"
   ]
  },
  {
   "cell_type": "markdown",
   "id": "honey-typing",
   "metadata": {},
   "source": [
    "Исследуем числовые значения где были пропуски"
   ]
  },
  {
   "cell_type": "code",
   "execution_count": 121,
   "id": "strong-observation",
   "metadata": {},
   "outputs": [
    {
     "data": {
      "text/plain": [
       "<AxesSubplot:>"
      ]
     },
     "execution_count": 121,
     "metadata": {},
     "output_type": "execute_result"
    },
    {
     "data": {
      "image/png": "[encoded data removed]",
      "text/plain": [
       "<Figure size 864x576 with 1 Axes>"
      ]
     },
     "metadata": {},
     "output_type": "display_data"
    }
   ],
   "source": [
    "df['days_employed'].hist()"
   ]
  },
  {
   "cell_type": "code",
   "execution_count": 122,
   "id": "gross-slovakia",
   "metadata": {},
   "outputs": [
    {
     "data": {
      "text/plain": [
       "1808.0"
      ]
     },
     "execution_count": 122,
     "metadata": {},
     "output_type": "execute_result"
    }
   ],
   "source": [
    "df['days_employed'].median()"
   ]
  },
  {
   "cell_type": "code",
   "execution_count": 123,
   "id": "enormous-municipality",
   "metadata": {},
   "outputs": [
    {
     "data": {
      "text/plain": [
       "<AxesSubplot:>"
      ]
     },
     "execution_count": 123,
     "metadata": {},
     "output_type": "execute_result"
    },
    {
     "data": {
      "image/png": "[encoded data removed]",
      "text/plain": [
       "<Figure size 864x576 with 1 Axes>"
      ]
     },
     "metadata": {},
     "output_type": "display_data"
    }
   ],
   "source": [
    "df[df['days_employed'] > 20000 ]['days_employed'].hist()"
   ]
  },
  {
   "cell_type": "code",
   "execution_count": 124,
   "id": "bright-nurse",
   "metadata": {},
   "outputs": [
    {
     "data": {
      "text/plain": [
       "1000.010436407738"
      ]
     },
     "execution_count": 124,
     "metadata": {},
     "output_type": "execute_result"
    }
   ],
   "source": [
    "df[df['days_employed'] > 20000 ]['days_employed'].mean() / 365"
   ]
  },
  {
   "cell_type": "markdown",
   "id": "designed-origin",
   "metadata": {},
   "source": [
    "В данных есть очень большие значения рабочего стажа. Люди работают 1000 лет.  \n",
    "Особо не важно склько им лет, так просто не может быть.  \n",
    "Похоже на ошибку, найдем границу и заменим средним."
   ]
  },
  {
   "cell_type": "code",
   "execution_count": 125,
   "id": "formal-relief",
   "metadata": {},
   "outputs": [
    {
     "data": {
      "text/plain": [
       "<AxesSubplot:>"
      ]
     },
     "execution_count": 125,
     "metadata": {},
     "output_type": "execute_result"
    },
    {
     "data": {
      "image/png": "[encoded data removed]",
      "text/plain": [
       "<Figure size 864x576 with 1 Axes>"
      ]
     },
     "metadata": {},
     "output_type": "display_data"
    }
   ],
   "source": [
    "df[df['days_employed'] < 20000 ]['days_employed'].hist()"
   ]
  },
  {
   "cell_type": "code",
   "execution_count": 126,
   "id": "peripheral-constraint",
   "metadata": {},
   "outputs": [
    {
     "name": "stdout",
     "output_type": "stream",
     "text": [
      "15906\n"
     ]
    }
   ],
   "source": [
    "norml_employed = df[(df['days_employed'] < 20000) & (df['days_employed'] > 0)]['days_employed'].count()\n",
    "print(norml_employed)"
   ]
  },
  {
   "cell_type": "code",
   "execution_count": 127,
   "id": "existing-indicator",
   "metadata": {},
   "outputs": [
    {
     "name": "stdout",
     "output_type": "stream",
     "text": [
      "3445\n"
     ]
    }
   ],
   "source": [
    "anomaly_employed = df[df['days_employed'] > 20000 ]['days_employed'].count()\n",
    "print(anomaly_employed)"
   ]
  },
  {
   "cell_type": "code",
   "execution_count": 128,
   "id": "saving-garbage",
   "metadata": {},
   "outputs": [
    {
     "name": "stdout",
     "output_type": "stream",
     "text": [
      "Процент анамальных значений стажа: 22%\n"
     ]
    }
   ],
   "source": [
    "print('Процент анамальных значений стажа: {:.0%}'.format(anomaly_employed/norml_employed))"
   ]
  },
  {
   "cell_type": "markdown",
   "id": "united-intellectual",
   "metadata": {},
   "source": [
    "Много, но кроме как заменить средним, варианта нет. В реальной жизни обратился бы к тому кто выгружал данные"
   ]
  },
  {
   "cell_type": "code",
   "execution_count": 129,
   "id": "alpha-oakland",
   "metadata": {},
   "outputs": [
    {
     "name": "stdout",
     "output_type": "stream",
     "text": [
      "2353\n"
     ]
    }
   ],
   "source": [
    "mean_employed = round(df[(df['days_employed'] < 20000) & (df['days_employed'] > 0)]['days_employed'].mean())\n",
    "print(mean_employed)"
   ]
  },
  {
   "cell_type": "code",
   "execution_count": 130,
   "id": "favorite-electron",
   "metadata": {},
   "outputs": [],
   "source": [
    "df.loc[df['days_employed'] > 20000, 'days_employed'] = int(mean_employed)"
   ]
  },
  {
   "cell_type": "code",
   "execution_count": 131,
   "id": "filled-tsunami",
   "metadata": {},
   "outputs": [
    {
     "data": {
      "text/plain": [
       "<AxesSubplot:>"
      ]
     },
     "execution_count": 131,
     "metadata": {},
     "output_type": "execute_result"
    },
    {
     "data": {
      "image/png": "[encoded data removed]",
      "text/plain": [
       "<Figure size 864x576 with 1 Axes>"
      ]
     },
     "metadata": {},
     "output_type": "display_data"
    }
   ],
   "source": [
    "df['days_employed'].hist()"
   ]
  },
  {
   "cell_type": "markdown",
   "id": "suspected-season",
   "metadata": {},
   "source": [
    "Раз мы нашли среднее заполним нули, которые остались с предыдущего этапа обработки. И проверим еще раз по гистограме."
   ]
  },
  {
   "cell_type": "code",
   "execution_count": 132,
   "id": "figured-damages",
   "metadata": {},
   "outputs": [],
   "source": [
    "df.loc[df['days_employed'] == 0, 'days_employed'] = int(mean_employed)"
   ]
  },
  {
   "cell_type": "code",
   "execution_count": 133,
   "id": "adaptive-folder",
   "metadata": {},
   "outputs": [
    {
     "data": {
      "text/html": [
       "<div>\n",
       "<style scoped>\n",
       "    .dataframe tbody tr th:only-of-type {\n",
       "        vertical-align: middle;\n",
       "    }\n",
       "\n",
       "    .dataframe tbody tr th {\n",
       "        vertical-align: top;\n",
       "    }\n",
       "\n",
       "    .dataframe thead th {\n",
       "        text-align: right;\n",
       "    }\n",
       "</style>\n",
       "<table border=\"1\" class=\"dataframe\">\n",
       "  <thead>\n",
       "    <tr style=\"text-align: right;\">\n",
       "      <th></th>\n",
       "      <th>children</th>\n",
       "      <th>days_employed</th>\n",
       "      <th>dob_years</th>\n",
       "      <th>education</th>\n",
       "      <th>education_id</th>\n",
       "      <th>family_status</th>\n",
       "      <th>family_status_id</th>\n",
       "      <th>gender</th>\n",
       "      <th>income_type</th>\n",
       "      <th>debt</th>\n",
       "      <th>total_income</th>\n",
       "      <th>purpose</th>\n",
       "    </tr>\n",
       "  </thead>\n",
       "  <tbody>\n",
       "  </tbody>\n",
       "</table>\n",
       "</div>"
      ],
      "text/plain": [
       "Empty DataFrame\n",
       "Columns: [children, days_employed, dob_years, education, education_id, family_status, family_status_id, gender, income_type, debt, total_income, purpose]\n",
       "Index: []"
      ]
     },
     "execution_count": 133,
     "metadata": {},
     "output_type": "execute_result"
    }
   ],
   "source": [
    "df[df['days_employed'] == 0].head()"
   ]
  },
  {
   "cell_type": "markdown",
   "id": "unusual-banking",
   "metadata": {},
   "source": [
    "### Лемматизация"
   ]
  },
  {
   "cell_type": "markdown",
   "id": "structural-battle",
   "metadata": {},
   "source": [
    "Подробно изучим цели заемщиков"
   ]
  },
  {
   "cell_type": "code",
   "execution_count": 134,
   "id": "subsequent-kernel",
   "metadata": {},
   "outputs": [
    {
     "data": {
      "text/plain": [
       "свадьба                                   797\n",
       "на проведение свадьбы                     777\n",
       "сыграть свадьбу                           774\n",
       "операции с недвижимостью                  676\n",
       "покупка коммерческой недвижимости         664\n",
       "операции с жильем                         653\n",
       "покупка жилья для сдачи                   653\n",
       "операции с коммерческой недвижимостью     651\n",
       "покупка жилья                             647\n",
       "жилье                                     647\n",
       "покупка жилья для семьи                   641\n",
       "строительство собственной недвижимости    635\n",
       "недвижимость                              634\n",
       "операции со своей недвижимостью           630\n",
       "строительство жилой недвижимости          626\n",
       "покупка недвижимости                      624\n",
       "покупка своего жилья                      620\n",
       "строительство недвижимости                620\n",
       "ремонт жилью                              612\n",
       "покупка жилой недвижимости                607\n",
       "на покупку своего автомобиля              505\n",
       "заняться высшим образованием              496\n",
       "автомобиль                                495\n",
       "сделка с подержанным автомобилем          489\n",
       "свой автомобиль                           480\n",
       "на покупку подержанного автомобиля        479\n",
       "автомобили                                478\n",
       "на покупку автомобиля                     472\n",
       "приобретение автомобиля                   462\n",
       "дополнительное образование                462\n",
       "сделка с автомобилем                      455\n",
       "высшее образование                        453\n",
       "образование                               447\n",
       "получение дополнительного образования     447\n",
       "получение образования                     443\n",
       "профильное образование                    436\n",
       "получение высшего образования             426\n",
       "заняться образованием                     412\n",
       "Name: purpose, dtype: int64"
      ]
     },
     "execution_count": 134,
     "metadata": {},
     "output_type": "execute_result"
    }
   ],
   "source": [
    "df['purpose'].value_counts()"
   ]
  },
  {
   "cell_type": "code",
   "execution_count": 135,
   "id": "precious-galaxy",
   "metadata": {},
   "outputs": [],
   "source": [
    "from pymystem3 import Mystem\n",
    "m = Mystem()"
   ]
  },
  {
   "cell_type": "markdown",
   "id": "hawaiian-school",
   "metadata": {},
   "source": [
    "Лематизируем и изучим леммы"
   ]
  },
  {
   "cell_type": "code",
   "execution_count": 136,
   "id": "offshore-publicity",
   "metadata": {},
   "outputs": [
    {
     "name": "stdout",
     "output_type": "stream",
     "text": [
      "['покупка', ' ', 'жилье', '\\n']\n",
      "['приобретение', ' ', 'автомобиль', '\\n']\n",
      "['дополнительный', ' ', 'образование', '\\n']\n",
      "['сыграть', ' ', 'свадьба', '\\n']\n",
      "['операция', ' ', 'с', ' ', 'жилье', '\\n']\n",
      "['образование', '\\n']\n",
      "['на', ' ', 'проведение', ' ', 'свадьба', '\\n']\n",
      "['покупка', ' ', 'жилье', ' ', 'для', ' ', 'семья', '\\n']\n",
      "['покупка', ' ', 'недвижимость', '\\n']\n",
      "['покупка', ' ', 'коммерческий', ' ', 'недвижимость', '\\n']\n",
      "['покупка', ' ', 'жилой', ' ', 'недвижимость', '\\n']\n",
      "['строительство', ' ', 'собственный', ' ', 'недвижимость', '\\n']\n",
      "['недвижимость', '\\n']\n",
      "['строительство', ' ', 'недвижимость', '\\n']\n",
      "['на', ' ', 'покупка', ' ', 'подержать', ' ', 'автомобиль', '\\n']\n",
      "['на', ' ', 'покупка', ' ', 'свой', ' ', 'автомобиль', '\\n']\n",
      "['операция', ' ', 'с', ' ', 'коммерческий', ' ', 'недвижимость', '\\n']\n",
      "['строительство', ' ', 'жилой', ' ', 'недвижимость', '\\n']\n",
      "['жилье', '\\n']\n",
      "['операция', ' ', 'со', ' ', 'свой', ' ', 'недвижимость', '\\n']\n",
      "['автомобиль', '\\n']\n",
      "['заниматься', ' ', 'образование', '\\n']\n",
      "['сделка', ' ', 'с', ' ', 'подержанный', ' ', 'автомобиль', '\\n']\n",
      "['получение', ' ', 'образование', '\\n']\n",
      "['автомобиль', '\\n']\n",
      "['свадьба', '\\n']\n",
      "['получение', ' ', 'дополнительный', ' ', 'образование', '\\n']\n",
      "['покупка', ' ', 'свой', ' ', 'жилье', '\\n']\n",
      "['операция', ' ', 'с', ' ', 'недвижимость', '\\n']\n",
      "['получение', ' ', 'высокий', ' ', 'образование', '\\n']\n",
      "['свой', ' ', 'автомобиль', '\\n']\n",
      "['сделка', ' ', 'с', ' ', 'автомобиль', '\\n']\n",
      "['профильный', ' ', 'образование', '\\n']\n",
      "['высокий', ' ', 'образование', '\\n']\n",
      "['покупка', ' ', 'жилье', ' ', 'для', ' ', 'сдача', '\\n']\n",
      "['на', ' ', 'покупка', ' ', 'автомобиль', '\\n']\n",
      "['ремонт', ' ', 'жилье', '\\n']\n",
      "['заниматься', ' ', 'высокий', ' ', 'образование', '\\n']\n"
     ]
    }
   ],
   "source": [
    "for text in df['purpose'].unique():\n",
    "    lemmas = m.lemmatize(text)\n",
    "    print(lemmas)"
   ]
  },
  {
   "cell_type": "markdown",
   "id": "continental-reputation",
   "metadata": {},
   "source": [
    "Выделим основные таргеты по целям клиентов банка  \n",
    "Глобально получилось 4 таргета   \n",
    "- свадьба\n",
    "- недвижимость\n",
    "- автомобиль\n",
    "- образование"
   ]
  },
  {
   "cell_type": "markdown",
   "id": "presidential-douglas",
   "metadata": {},
   "source": [
    "Есть другой способ, но я до него пока не додумался"
   ]
  },
  {
   "cell_type": "code",
   "execution_count": 137,
   "id": "behavioral-olympus",
   "metadata": {},
   "outputs": [],
   "source": [
    "#df['lemmas'] = df['purpose'].apply(m.lemmatize)\n",
    "#df['lemmas']"
   ]
  },
  {
   "cell_type": "markdown",
   "id": "olympic-sender",
   "metadata": {},
   "source": [
    "### Категоризация данных  \n",
    "Напишем функцию для категоризации целей кредита заемщиков"
   ]
  },
  {
   "cell_type": "code",
   "execution_count": 138,
   "id": "standard-matter",
   "metadata": {},
   "outputs": [],
   "source": [
    "def goals_сategorizing (row):\n",
    "        lemmas = m.lemmatize(row)\n",
    "        if 'свадьба' in lemmas:\n",
    "            return 'свадьба'\n",
    "        if ('жилье' in lemmas)or('недвижимость' in lemmas):\n",
    "            return 'недвижимость'\n",
    "        if 'автомобиль' in lemmas:\n",
    "            return 'автомобиль'\n",
    "        if 'образование' in lemmas:\n",
    "            return 'образование'\n",
    "        return 'вне группы'"
   ]
  },
  {
   "cell_type": "markdown",
   "id": "backed-center",
   "metadata": {},
   "source": [
    "Проверка функции"
   ]
  },
  {
   "cell_type": "code",
   "execution_count": 139,
   "id": "czech-narrative",
   "metadata": {},
   "outputs": [
    {
     "name": "stdout",
     "output_type": "stream",
     "text": [
      "свадьба\n"
     ]
    }
   ],
   "source": [
    "print(goals_сategorizing('на проведение свадьбы'))"
   ]
  },
  {
   "cell_type": "code",
   "execution_count": 140,
   "id": "accessible-arrival",
   "metadata": {},
   "outputs": [
    {
     "name": "stdout",
     "output_type": "stream",
     "text": [
      "недвижимость\n"
     ]
    }
   ],
   "source": [
    "print(goals_сategorizing('покупка своего жилья'))"
   ]
  },
  {
   "cell_type": "code",
   "execution_count": 141,
   "id": "every-acoustic",
   "metadata": {},
   "outputs": [
    {
     "name": "stdout",
     "output_type": "stream",
     "text": [
      "недвижимость\n"
     ]
    }
   ],
   "source": [
    "print(goals_сategorizing('строительство жилой недвижимости'))"
   ]
  },
  {
   "cell_type": "markdown",
   "id": "celtic-greek",
   "metadata": {},
   "source": [
    "Сделаем новый столбец и запишем туда категории которые мы выделили в лемме"
   ]
  },
  {
   "cell_type": "code",
   "execution_count": 142,
   "id": "seventh-bruce",
   "metadata": {},
   "outputs": [],
   "source": [
    "df['target_category'] = df['purpose'].apply(goals_сategorizing)"
   ]
  },
  {
   "cell_type": "markdown",
   "id": "static-logistics",
   "metadata": {},
   "source": [
    "Проверим как сработало"
   ]
  },
  {
   "cell_type": "code",
   "execution_count": 143,
   "id": "expected-nigeria",
   "metadata": {},
   "outputs": [
    {
     "data": {
      "text/plain": [
       "недвижимость    10840\n",
       "автомобиль       4315\n",
       "образование      4022\n",
       "свадьба          2348\n",
       "Name: target_category, dtype: int64"
      ]
     },
     "execution_count": 143,
     "metadata": {},
     "output_type": "execute_result"
    }
   ],
   "source": [
    "df['target_category'].value_counts()"
   ]
  },
  {
   "cell_type": "markdown",
   "id": "arctic-mechanism",
   "metadata": {},
   "source": [
    "Видим что функция работает верно, переходим к категоризации доходов заемщиков. Это понадобится для поиска зависимости.  \n",
    "Посмотрим на данные в этой переменной."
   ]
  },
  {
   "cell_type": "code",
   "execution_count": 144,
   "id": "worldwide-pendant",
   "metadata": {},
   "outputs": [
    {
     "data": {
      "text/plain": [
       "<AxesSubplot:>"
      ]
     },
     "execution_count": 144,
     "metadata": {},
     "output_type": "execute_result"
    },
    {
     "data": {
      "image/png": "[encoded data removed]",
      "text/plain": [
       "<Figure size 864x576 with 1 Axes>"
      ]
     },
     "metadata": {},
     "output_type": "display_data"
    }
   ],
   "source": [
    "df['total_income'].hist()"
   ]
  },
  {
   "cell_type": "code",
   "execution_count": 145,
   "id": "limiting-outline",
   "metadata": {},
   "outputs": [
    {
     "data": {
      "text/plain": [
       "20667"
      ]
     },
     "execution_count": 145,
     "metadata": {},
     "output_type": "execute_result"
    }
   ],
   "source": [
    "df['total_income'].min()"
   ]
  },
  {
   "cell_type": "code",
   "execution_count": 146,
   "id": "crucial-assembly",
   "metadata": {},
   "outputs": [
    {
     "data": {
      "text/plain": [
       "2265604"
      ]
     },
     "execution_count": 146,
     "metadata": {},
     "output_type": "execute_result"
    }
   ],
   "source": [
    "df['total_income'].max()"
   ]
  },
  {
   "cell_type": "code",
   "execution_count": 147,
   "id": "choice-oxide",
   "metadata": {},
   "outputs": [
    {
     "data": {
      "text/plain": [
       "139898.0"
      ]
     },
     "execution_count": 147,
     "metadata": {},
     "output_type": "execute_result"
    }
   ],
   "source": [
    "df['total_income'].median()"
   ]
  },
  {
   "cell_type": "markdown",
   "id": "black-birmingham",
   "metadata": {},
   "source": [
    "Принцип группировки и значеня взял из нескольких исследований, которые нашел в интернете. Во всех была разная категоризация, привел к усредненному"
   ]
  },
  {
   "cell_type": "code",
   "execution_count": 148,
   "id": "fatal-intervention",
   "metadata": {},
   "outputs": [],
   "source": [
    "def income_сategorizing(row):\n",
    "        if (row > 20000) & (row < 50000):\n",
    "            return 'низкий'\n",
    "        if (row >= 50000) & (row < 150000):\n",
    "            return 'средний'\n",
    "        if (row >= 150000) & (row < 300000):\n",
    "            return 'богатый средний'\n",
    "        if (row >= 300000) & (row < 500000):\n",
    "            return 'богатый'\n",
    "        if (row >= 500000) & (row < 3000000):\n",
    "            return 'очень богатый'\n",
    "        return 'вне группы'"
   ]
  },
  {
   "cell_type": "markdown",
   "id": "latest-value",
   "metadata": {},
   "source": [
    "Проверим функцию"
   ]
  },
  {
   "cell_type": "code",
   "execution_count": 149,
   "id": "voluntary-zealand",
   "metadata": {},
   "outputs": [
    {
     "name": "stdout",
     "output_type": "stream",
     "text": [
      "средний\n",
      "вне группы\n",
      "очень богатый\n"
     ]
    }
   ],
   "source": [
    "print(income_сategorizing(124999))\n",
    "print(income_сategorizing(768))\n",
    "print(income_сategorizing(777889))"
   ]
  },
  {
   "cell_type": "code",
   "execution_count": 150,
   "id": "related-moderator",
   "metadata": {},
   "outputs": [],
   "source": [
    "df['income_сategory'] = df['total_income'].apply(income_сategorizing)"
   ]
  },
  {
   "cell_type": "code",
   "execution_count": 151,
   "id": "humanitarian-going",
   "metadata": {},
   "outputs": [
    {
     "data": {
      "text/plain": [
       "средний            11460\n",
       "богатый средний     8211\n",
       "богатый             1260\n",
       "низкий               372\n",
       "очень богатый        222\n",
       "Name: income_сategory, dtype: int64"
      ]
     },
     "execution_count": 151,
     "metadata": {},
     "output_type": "execute_result"
    }
   ],
   "source": [
    "df['income_сategory'].value_counts()"
   ]
  },
  {
   "cell_type": "markdown",
   "id": "broke-chosen",
   "metadata": {},
   "source": [
    "Чтобы проверить насколько хорошо я сделал работу воспользуюсь другим решением, которым поделился ревьюер. Спасибо ему!"
   ]
  },
  {
   "cell_type": "code",
   "execution_count": 152,
   "id": "artificial-coverage",
   "metadata": {},
   "outputs": [],
   "source": [
    "df['sq_grs'] = pd.qcut(df['total_income'],5)"
   ]
  },
  {
   "cell_type": "code",
   "execution_count": 153,
   "id": "abstract-accommodation",
   "metadata": {},
   "outputs": [
    {
     "data": {
      "text/plain": [
       "(20666.999, 98661.6]     4305\n",
       "(98661.6, 132141.8]      4305\n",
       "(132141.8, 161151.2]     4305\n",
       "(161151.2, 214269.6]     4305\n",
       "(214269.6, 2265604.0]    4305\n",
       "Name: sq_grs, dtype: int64"
      ]
     },
     "execution_count": 153,
     "metadata": {},
     "output_type": "execute_result"
    }
   ],
   "source": [
    "df['sq_grs'].value_counts()"
   ]
  },
  {
   "cell_type": "markdown",
   "id": "literary-evening",
   "metadata": {},
   "source": [
    "В чем то я был прав, но данный метод внушает большее доверия, перепишем все заново и добавим новые категории по доходу "
   ]
  },
  {
   "cell_type": "code",
   "execution_count": 154,
   "id": "magnetic-import",
   "metadata": {},
   "outputs": [],
   "source": [
    "def qcut_income_сategorizing(row):\n",
    "        if (row > 20000) & (row < 98662):\n",
    "            return 'низкий'\n",
    "        if (row >= 98662) & (row < 135668):\n",
    "            return 'средний'\n",
    "        if (row >= 135668) & (row < 156178):\n",
    "            return 'богатый средний'\n",
    "        if (row >= 156178) & (row < 214253):\n",
    "            return 'богатый'\n",
    "        if (row >= 214253) & (row < 2265605):\n",
    "            return 'очень богатый'\n",
    "        return 'вне группы'"
   ]
  },
  {
   "cell_type": "code",
   "execution_count": 155,
   "id": "worst-cheat",
   "metadata": {},
   "outputs": [],
   "source": [
    "df['qcut_income_сategory'] = df['total_income'].apply(qcut_income_сategorizing)"
   ]
  },
  {
   "cell_type": "code",
   "execution_count": 156,
   "id": "universal-panel",
   "metadata": {},
   "outputs": [
    {
     "data": {
      "text/plain": [
       "средний            5823\n",
       "богатый            4813\n",
       "очень богатый      4306\n",
       "низкий             4305\n",
       "богатый средний    2278\n",
       "Name: qcut_income_сategory, dtype: int64"
      ]
     },
     "execution_count": 156,
     "metadata": {},
     "output_type": "execute_result"
    }
   ],
   "source": [
    "df['qcut_income_сategory'].value_counts()"
   ]
  },
  {
   "cell_type": "markdown",
   "id": "ranking-salvation",
   "metadata": {},
   "source": [
    "Все сходится"
   ]
  },
  {
   "cell_type": "markdown",
   "id": "thick-craps",
   "metadata": {},
   "source": [
    "### Шаг 3. Ответьте на вопросы\n",
    "\n",
    "- Есть ли зависимость между наличием детей и возвратом кредита в срок?\n"
   ]
  },
  {
   "cell_type": "code",
   "execution_count": 157,
   "id": "varied-health",
   "metadata": {},
   "outputs": [
    {
     "data": {
      "text/html": [
       "<div>\n",
       "<style scoped>\n",
       "    .dataframe tbody tr th:only-of-type {\n",
       "        vertical-align: middle;\n",
       "    }\n",
       "\n",
       "    .dataframe tbody tr th {\n",
       "        vertical-align: top;\n",
       "    }\n",
       "\n",
       "    .dataframe thead th {\n",
       "        text-align: right;\n",
       "    }\n",
       "</style>\n",
       "<table border=\"1\" class=\"dataframe\">\n",
       "  <thead>\n",
       "    <tr style=\"text-align: right;\">\n",
       "      <th></th>\n",
       "      <th>children</th>\n",
       "      <th>days_employed</th>\n",
       "      <th>dob_years</th>\n",
       "      <th>education</th>\n",
       "      <th>education_id</th>\n",
       "      <th>family_status</th>\n",
       "      <th>family_status_id</th>\n",
       "      <th>gender</th>\n",
       "      <th>income_type</th>\n",
       "      <th>debt</th>\n",
       "      <th>total_income</th>\n",
       "      <th>purpose</th>\n",
       "      <th>target_category</th>\n",
       "      <th>income_сategory</th>\n",
       "      <th>sq_grs</th>\n",
       "      <th>qcut_income_сategory</th>\n",
       "    </tr>\n",
       "  </thead>\n",
       "  <tbody>\n",
       "    <tr>\n",
       "      <th>0</th>\n",
       "      <td>1</td>\n",
       "      <td>8437</td>\n",
       "      <td>42</td>\n",
       "      <td>высшее</td>\n",
       "      <td>0</td>\n",
       "      <td>женат / замужем</td>\n",
       "      <td>0</td>\n",
       "      <td>F</td>\n",
       "      <td>сотрудник</td>\n",
       "      <td>0</td>\n",
       "      <td>253875</td>\n",
       "      <td>покупка жилья</td>\n",
       "      <td>недвижимость</td>\n",
       "      <td>богатый средний</td>\n",
       "      <td>(214269.6, 2265604.0]</td>\n",
       "      <td>очень богатый</td>\n",
       "    </tr>\n",
       "    <tr>\n",
       "      <th>1</th>\n",
       "      <td>1</td>\n",
       "      <td>4024</td>\n",
       "      <td>36</td>\n",
       "      <td>среднее</td>\n",
       "      <td>1</td>\n",
       "      <td>женат / замужем</td>\n",
       "      <td>0</td>\n",
       "      <td>F</td>\n",
       "      <td>сотрудник</td>\n",
       "      <td>0</td>\n",
       "      <td>112080</td>\n",
       "      <td>приобретение автомобиля</td>\n",
       "      <td>автомобиль</td>\n",
       "      <td>средний</td>\n",
       "      <td>(98661.6, 132141.8]</td>\n",
       "      <td>средний</td>\n",
       "    </tr>\n",
       "    <tr>\n",
       "      <th>2</th>\n",
       "      <td>0</td>\n",
       "      <td>5623</td>\n",
       "      <td>33</td>\n",
       "      <td>среднее</td>\n",
       "      <td>1</td>\n",
       "      <td>женат / замужем</td>\n",
       "      <td>0</td>\n",
       "      <td>M</td>\n",
       "      <td>сотрудник</td>\n",
       "      <td>0</td>\n",
       "      <td>145885</td>\n",
       "      <td>покупка жилья</td>\n",
       "      <td>недвижимость</td>\n",
       "      <td>средний</td>\n",
       "      <td>(132141.8, 161151.2]</td>\n",
       "      <td>богатый средний</td>\n",
       "    </tr>\n",
       "    <tr>\n",
       "      <th>3</th>\n",
       "      <td>3</td>\n",
       "      <td>4124</td>\n",
       "      <td>32</td>\n",
       "      <td>среднее</td>\n",
       "      <td>1</td>\n",
       "      <td>женат / замужем</td>\n",
       "      <td>0</td>\n",
       "      <td>M</td>\n",
       "      <td>сотрудник</td>\n",
       "      <td>0</td>\n",
       "      <td>267628</td>\n",
       "      <td>дополнительное образование</td>\n",
       "      <td>образование</td>\n",
       "      <td>богатый средний</td>\n",
       "      <td>(214269.6, 2265604.0]</td>\n",
       "      <td>очень богатый</td>\n",
       "    </tr>\n",
       "    <tr>\n",
       "      <th>4</th>\n",
       "      <td>0</td>\n",
       "      <td>2353</td>\n",
       "      <td>53</td>\n",
       "      <td>среднее</td>\n",
       "      <td>1</td>\n",
       "      <td>гражданский брак</td>\n",
       "      <td>1</td>\n",
       "      <td>F</td>\n",
       "      <td>пенсионер</td>\n",
       "      <td>0</td>\n",
       "      <td>158616</td>\n",
       "      <td>сыграть свадьбу</td>\n",
       "      <td>свадьба</td>\n",
       "      <td>богатый средний</td>\n",
       "      <td>(132141.8, 161151.2]</td>\n",
       "      <td>богатый</td>\n",
       "    </tr>\n",
       "  </tbody>\n",
       "</table>\n",
       "</div>"
      ],
      "text/plain": [
       "   children  days_employed  dob_years education  education_id  \\\n",
       "0         1           8437         42    высшее             0   \n",
       "1         1           4024         36   среднее             1   \n",
       "2         0           5623         33   среднее             1   \n",
       "3         3           4124         32   среднее             1   \n",
       "4         0           2353         53   среднее             1   \n",
       "\n",
       "      family_status  family_status_id gender income_type  debt  total_income  \\\n",
       "0   женат / замужем                 0      F   сотрудник     0        253875   \n",
       "1   женат / замужем                 0      F   сотрудник     0        112080   \n",
       "2   женат / замужем                 0      M   сотрудник     0        145885   \n",
       "3   женат / замужем                 0      M   сотрудник     0        267628   \n",
       "4  гражданский брак                 1      F   пенсионер     0        158616   \n",
       "\n",
       "                      purpose target_category  income_сategory  \\\n",
       "0               покупка жилья    недвижимость  богатый средний   \n",
       "1     приобретение автомобиля      автомобиль          средний   \n",
       "2               покупка жилья    недвижимость          средний   \n",
       "3  дополнительное образование     образование  богатый средний   \n",
       "4             сыграть свадьбу         свадьба  богатый средний   \n",
       "\n",
       "                  sq_grs qcut_income_сategory  \n",
       "0  (214269.6, 2265604.0]        очень богатый  \n",
       "1    (98661.6, 132141.8]              средний  \n",
       "2   (132141.8, 161151.2]      богатый средний  \n",
       "3  (214269.6, 2265604.0]        очень богатый  \n",
       "4   (132141.8, 161151.2]              богатый  "
      ]
     },
     "execution_count": 157,
     "metadata": {},
     "output_type": "execute_result"
    }
   ],
   "source": [
    "df.head()"
   ]
  },
  {
   "cell_type": "code",
   "execution_count": 158,
   "id": "sustained-yugoslavia",
   "metadata": {},
   "outputs": [
    {
     "data": {
      "text/html": [
       "<div>\n",
       "<style scoped>\n",
       "    .dataframe tbody tr th:only-of-type {\n",
       "        vertical-align: middle;\n",
       "    }\n",
       "\n",
       "    .dataframe tbody tr th {\n",
       "        vertical-align: top;\n",
       "    }\n",
       "\n",
       "    .dataframe thead th {\n",
       "        text-align: right;\n",
       "    }\n",
       "</style>\n",
       "<table border=\"1\" class=\"dataframe\">\n",
       "  <thead>\n",
       "    <tr style=\"text-align: right;\">\n",
       "      <th></th>\n",
       "      <th></th>\n",
       "      <th>debt</th>\n",
       "    </tr>\n",
       "    <tr>\n",
       "      <th>children</th>\n",
       "      <th>debt</th>\n",
       "      <th></th>\n",
       "    </tr>\n",
       "  </thead>\n",
       "  <tbody>\n",
       "    <tr>\n",
       "      <th rowspan=\"2\" valign=\"top\">0</th>\n",
       "      <th>0</th>\n",
       "      <td>13086</td>\n",
       "    </tr>\n",
       "    <tr>\n",
       "      <th>1</th>\n",
       "      <td>1063</td>\n",
       "    </tr>\n",
       "    <tr>\n",
       "      <th rowspan=\"2\" valign=\"top\">1</th>\n",
       "      <th>0</th>\n",
       "      <td>4420</td>\n",
       "    </tr>\n",
       "    <tr>\n",
       "      <th>1</th>\n",
       "      <td>445</td>\n",
       "    </tr>\n",
       "    <tr>\n",
       "      <th rowspan=\"2\" valign=\"top\">2</th>\n",
       "      <th>0</th>\n",
       "      <td>1929</td>\n",
       "    </tr>\n",
       "    <tr>\n",
       "      <th>1</th>\n",
       "      <td>202</td>\n",
       "    </tr>\n",
       "    <tr>\n",
       "      <th rowspan=\"2\" valign=\"top\">3</th>\n",
       "      <th>0</th>\n",
       "      <td>303</td>\n",
       "    </tr>\n",
       "    <tr>\n",
       "      <th>1</th>\n",
       "      <td>27</td>\n",
       "    </tr>\n",
       "    <tr>\n",
       "      <th rowspan=\"2\" valign=\"top\">4</th>\n",
       "      <th>0</th>\n",
       "      <td>37</td>\n",
       "    </tr>\n",
       "    <tr>\n",
       "      <th>1</th>\n",
       "      <td>4</td>\n",
       "    </tr>\n",
       "    <tr>\n",
       "      <th>5</th>\n",
       "      <th>0</th>\n",
       "      <td>9</td>\n",
       "    </tr>\n",
       "  </tbody>\n",
       "</table>\n",
       "</div>"
      ],
      "text/plain": [
       "                debt\n",
       "children debt       \n",
       "0        0     13086\n",
       "         1      1063\n",
       "1        0      4420\n",
       "         1       445\n",
       "2        0      1929\n",
       "         1       202\n",
       "3        0       303\n",
       "         1        27\n",
       "4        0        37\n",
       "         1         4\n",
       "5        0         9"
      ]
     },
     "execution_count": 158,
     "metadata": {},
     "output_type": "execute_result"
    }
   ],
   "source": [
    "addiction_children = df.groupby(['children', 'debt']).agg({'debt': 'count'})\n",
    "addiction_children"
   ]
  },
  {
   "cell_type": "code",
   "execution_count": 159,
   "id": "willing-heath",
   "metadata": {},
   "outputs": [
    {
     "name": "stdout",
     "output_type": "stream",
     "text": [
      "Детей у заемщика: 0\n",
      "Процент невозвратов в срок: 8%\n",
      "Детей у заемщика: 1\n",
      "Процент невозвратов в срок: 10%\n",
      "Детей у заемщика: 2\n",
      "Процент невозвратов в срок: 10%\n",
      "Детей у заемщика: 3\n",
      "Процент невозвратов в срок: 9%\n",
      "Детей у заемщика: 4\n",
      "Процент невозвратов в срок: 11%\n",
      "Детей у заемщика: 5\n",
      "Платили в срок: 9\n",
      "Просрочили платеж: Нет данных\n"
     ]
    }
   ],
   "source": [
    "for children in range(6):\n",
    "    try:\n",
    "        print('Детей у заемщика:', children)\n",
    "        x = (int(addiction_children.loc[children,0])) \n",
    "        y = (int(addiction_children.loc[children,1]))\n",
    "        print('Процент невозвратов в срок: {:.0%}'.format(y/x))\n",
    "    except:\n",
    "        print('Платили в срок:', x)\n",
    "        print('Просрочили платеж: Нет данных')"
   ]
  },
  {
   "cell_type": "markdown",
   "id": "multiple-resort",
   "metadata": {},
   "source": [
    "Не самое лучшее решение задачи. Нормальное решение я нашел в слаке)"
   ]
  },
  {
   "cell_type": "code",
   "execution_count": 160,
   "id": "rational-outreach",
   "metadata": {},
   "outputs": [
    {
     "data": {
      "text/html": [
       "<div>\n",
       "<style scoped>\n",
       "    .dataframe tbody tr th:only-of-type {\n",
       "        vertical-align: middle;\n",
       "    }\n",
       "\n",
       "    .dataframe tbody tr th {\n",
       "        vertical-align: top;\n",
       "    }\n",
       "\n",
       "    .dataframe thead th {\n",
       "        text-align: right;\n",
       "    }\n",
       "</style>\n",
       "<table border=\"1\" class=\"dataframe\">\n",
       "  <thead>\n",
       "    <tr style=\"text-align: right;\">\n",
       "      <th></th>\n",
       "      <th>purpose</th>\n",
       "      <th>debt</th>\n",
       "      <th>percent</th>\n",
       "    </tr>\n",
       "    <tr>\n",
       "      <th>children</th>\n",
       "      <th></th>\n",
       "      <th></th>\n",
       "      <th></th>\n",
       "    </tr>\n",
       "  </thead>\n",
       "  <tbody>\n",
       "    <tr>\n",
       "      <th>4</th>\n",
       "      <td>41</td>\n",
       "      <td>0.097561</td>\n",
       "      <td>10.0</td>\n",
       "    </tr>\n",
       "    <tr>\n",
       "      <th>1</th>\n",
       "      <td>4865</td>\n",
       "      <td>0.091470</td>\n",
       "      <td>9.0</td>\n",
       "    </tr>\n",
       "    <tr>\n",
       "      <th>2</th>\n",
       "      <td>2131</td>\n",
       "      <td>0.094791</td>\n",
       "      <td>9.0</td>\n",
       "    </tr>\n",
       "    <tr>\n",
       "      <th>0</th>\n",
       "      <td>14149</td>\n",
       "      <td>0.075129</td>\n",
       "      <td>8.0</td>\n",
       "    </tr>\n",
       "    <tr>\n",
       "      <th>3</th>\n",
       "      <td>330</td>\n",
       "      <td>0.081818</td>\n",
       "      <td>8.0</td>\n",
       "    </tr>\n",
       "    <tr>\n",
       "      <th>5</th>\n",
       "      <td>9</td>\n",
       "      <td>0.000000</td>\n",
       "      <td>0.0</td>\n",
       "    </tr>\n",
       "  </tbody>\n",
       "</table>\n",
       "</div>"
      ],
      "text/plain": [
       "          purpose      debt  percent\n",
       "children                            \n",
       "4              41  0.097561     10.0\n",
       "1            4865  0.091470      9.0\n",
       "2            2131  0.094791      9.0\n",
       "0           14149  0.075129      8.0\n",
       "3             330  0.081818      8.0\n",
       "5               9  0.000000      0.0"
      ]
     },
     "execution_count": 160,
     "metadata": {},
     "output_type": "execute_result"
    }
   ],
   "source": [
    "children = df.groupby('children').agg({'purpose': 'count', 'debt': 'mean'})\n",
    "children['percent'] = round(children['debt']*100)\n",
    "children.sort_values('percent', ascending = False)"
   ]
  },
  {
   "cell_type": "markdown",
   "id": "eight-aging",
   "metadata": {},
   "source": [
    "### Вывод\n",
    "По исследованию видно, что процент просрочки растет от кол-ва детей. С оговорками можно сказать, что все же закономерность есть. Надо заметить, что выборки по группе очень разные и кол-во многодетных заемщиков уменьшается с кол-вом детей. Бездетная группа может показывать лучший результат из-за работы больших чисел. Банку я бы порекомендовал взять в скоринг этот фактор, но с небольшим весом в контексте рашения по скорингу."
   ]
  },
  {
   "cell_type": "markdown",
   "id": "wrong-frederick",
   "metadata": {},
   "source": [
    "- Есть ли зависимость между семейным положением и возвратом кредита в срок?"
   ]
  },
  {
   "cell_type": "code",
   "execution_count": 161,
   "id": "distributed-findings",
   "metadata": {},
   "outputs": [
    {
     "data": {
      "text/html": [
       "<div>\n",
       "<style scoped>\n",
       "    .dataframe tbody tr th:only-of-type {\n",
       "        vertical-align: middle;\n",
       "    }\n",
       "\n",
       "    .dataframe tbody tr th {\n",
       "        vertical-align: top;\n",
       "    }\n",
       "\n",
       "    .dataframe thead th {\n",
       "        text-align: right;\n",
       "    }\n",
       "</style>\n",
       "<table border=\"1\" class=\"dataframe\">\n",
       "  <thead>\n",
       "    <tr style=\"text-align: right;\">\n",
       "      <th></th>\n",
       "      <th>purpose</th>\n",
       "      <th>debt</th>\n",
       "      <th>percent</th>\n",
       "    </tr>\n",
       "    <tr>\n",
       "      <th>family_status</th>\n",
       "      <th></th>\n",
       "      <th></th>\n",
       "      <th></th>\n",
       "    </tr>\n",
       "  </thead>\n",
       "  <tbody>\n",
       "    <tr>\n",
       "      <th>не женат / не замужем</th>\n",
       "      <td>2813</td>\n",
       "      <td>0.097405</td>\n",
       "      <td>10.0</td>\n",
       "    </tr>\n",
       "    <tr>\n",
       "      <th>гражданский брак</th>\n",
       "      <td>4177</td>\n",
       "      <td>0.092890</td>\n",
       "      <td>9.0</td>\n",
       "    </tr>\n",
       "    <tr>\n",
       "      <th>женат / замужем</th>\n",
       "      <td>12380</td>\n",
       "      <td>0.075202</td>\n",
       "      <td>8.0</td>\n",
       "    </tr>\n",
       "    <tr>\n",
       "      <th>в разводе</th>\n",
       "      <td>1195</td>\n",
       "      <td>0.071130</td>\n",
       "      <td>7.0</td>\n",
       "    </tr>\n",
       "    <tr>\n",
       "      <th>вдовец / вдова</th>\n",
       "      <td>960</td>\n",
       "      <td>0.065625</td>\n",
       "      <td>7.0</td>\n",
       "    </tr>\n",
       "  </tbody>\n",
       "</table>\n",
       "</div>"
      ],
      "text/plain": [
       "                       purpose      debt  percent\n",
       "family_status                                    \n",
       "не женат / не замужем     2813  0.097405     10.0\n",
       "гражданский брак          4177  0.092890      9.0\n",
       "женат / замужем          12380  0.075202      8.0\n",
       "в разводе                 1195  0.071130      7.0\n",
       "вдовец / вдова             960  0.065625      7.0"
      ]
     },
     "execution_count": 161,
     "metadata": {},
     "output_type": "execute_result"
    }
   ],
   "source": [
    "family = df.groupby('family_status').agg({'purpose': 'count', 'debt': 'mean'})\n",
    "family['percent'] = round(family['debt']*100)\n",
    "family.sort_values('percent', ascending = False)"
   ]
  },
  {
   "cell_type": "markdown",
   "id": "fatal-fantasy",
   "metadata": {},
   "source": [
    "### Вывод\n",
    "Одинокие люди более обязательные к выплатам"
   ]
  },
  {
   "cell_type": "markdown",
   "id": "overall-democrat",
   "metadata": {},
   "source": [
    "- Есть ли зависимость между уровнем дохода и возвратом кредита в срок?"
   ]
  },
  {
   "cell_type": "code",
   "execution_count": 162,
   "id": "human-density",
   "metadata": {},
   "outputs": [
    {
     "data": {
      "text/html": [
       "<div>\n",
       "<style scoped>\n",
       "    .dataframe tbody tr th:only-of-type {\n",
       "        vertical-align: middle;\n",
       "    }\n",
       "\n",
       "    .dataframe tbody tr th {\n",
       "        vertical-align: top;\n",
       "    }\n",
       "\n",
       "    .dataframe thead th {\n",
       "        text-align: right;\n",
       "    }\n",
       "</style>\n",
       "<table border=\"1\" class=\"dataframe\">\n",
       "  <thead>\n",
       "    <tr style=\"text-align: right;\">\n",
       "      <th></th>\n",
       "      <th>purpose</th>\n",
       "      <th>debt</th>\n",
       "      <th>percent</th>\n",
       "    </tr>\n",
       "    <tr>\n",
       "      <th>income_сategory</th>\n",
       "      <th></th>\n",
       "      <th></th>\n",
       "      <th></th>\n",
       "    </tr>\n",
       "  </thead>\n",
       "  <tbody>\n",
       "    <tr>\n",
       "      <th>богатый средний</th>\n",
       "      <td>8211</td>\n",
       "      <td>0.079162</td>\n",
       "      <td>8.0</td>\n",
       "    </tr>\n",
       "    <tr>\n",
       "      <th>средний</th>\n",
       "      <td>11460</td>\n",
       "      <td>0.083944</td>\n",
       "      <td>8.0</td>\n",
       "    </tr>\n",
       "    <tr>\n",
       "      <th>богатый</th>\n",
       "      <td>1260</td>\n",
       "      <td>0.073016</td>\n",
       "      <td>7.0</td>\n",
       "    </tr>\n",
       "    <tr>\n",
       "      <th>низкий</th>\n",
       "      <td>372</td>\n",
       "      <td>0.061828</td>\n",
       "      <td>6.0</td>\n",
       "    </tr>\n",
       "    <tr>\n",
       "      <th>очень богатый</th>\n",
       "      <td>222</td>\n",
       "      <td>0.063063</td>\n",
       "      <td>6.0</td>\n",
       "    </tr>\n",
       "  </tbody>\n",
       "</table>\n",
       "</div>"
      ],
      "text/plain": [
       "                 purpose      debt  percent\n",
       "income_сategory                            \n",
       "богатый средний     8211  0.079162      8.0\n",
       "средний            11460  0.083944      8.0\n",
       "богатый             1260  0.073016      7.0\n",
       "низкий               372  0.061828      6.0\n",
       "очень богатый        222  0.063063      6.0"
      ]
     },
     "execution_count": 162,
     "metadata": {},
     "output_type": "execute_result"
    }
   ],
   "source": [
    "income = df.groupby('income_сategory').agg({'purpose': 'count', 'debt': 'mean'})\n",
    "income['percent'] = round(income['debt']*100)\n",
    "income.sort_values('percent', ascending = False)"
   ]
  },
  {
   "cell_type": "markdown",
   "id": "metropolitan-jungle",
   "metadata": {},
   "source": [
    "Для интереса вывел первый способ категоризации. Но понял, что это путает вывыды. Буду делать вывод на основе более точного с точки зрения математики исследования."
   ]
  },
  {
   "cell_type": "code",
   "execution_count": 163,
   "id": "weekly-sweet",
   "metadata": {},
   "outputs": [
    {
     "data": {
      "text/html": [
       "<div>\n",
       "<style scoped>\n",
       "    .dataframe tbody tr th:only-of-type {\n",
       "        vertical-align: middle;\n",
       "    }\n",
       "\n",
       "    .dataframe tbody tr th {\n",
       "        vertical-align: top;\n",
       "    }\n",
       "\n",
       "    .dataframe thead th {\n",
       "        text-align: right;\n",
       "    }\n",
       "</style>\n",
       "<table border=\"1\" class=\"dataframe\">\n",
       "  <thead>\n",
       "    <tr style=\"text-align: right;\">\n",
       "      <th></th>\n",
       "      <th>purpose</th>\n",
       "      <th>debt</th>\n",
       "      <th>percent</th>\n",
       "    </tr>\n",
       "    <tr>\n",
       "      <th>qcut_income_сategory</th>\n",
       "      <th></th>\n",
       "      <th></th>\n",
       "      <th></th>\n",
       "    </tr>\n",
       "  </thead>\n",
       "  <tbody>\n",
       "    <tr>\n",
       "      <th>богатый средний</th>\n",
       "      <td>2278</td>\n",
       "      <td>0.088235</td>\n",
       "      <td>9.0</td>\n",
       "    </tr>\n",
       "    <tr>\n",
       "      <th>богатый</th>\n",
       "      <td>4813</td>\n",
       "      <td>0.083524</td>\n",
       "      <td>8.0</td>\n",
       "    </tr>\n",
       "    <tr>\n",
       "      <th>низкий</th>\n",
       "      <td>4305</td>\n",
       "      <td>0.080139</td>\n",
       "      <td>8.0</td>\n",
       "    </tr>\n",
       "    <tr>\n",
       "      <th>средний</th>\n",
       "      <td>5823</td>\n",
       "      <td>0.084149</td>\n",
       "      <td>8.0</td>\n",
       "    </tr>\n",
       "    <tr>\n",
       "      <th>очень богатый</th>\n",
       "      <td>4306</td>\n",
       "      <td>0.070367</td>\n",
       "      <td>7.0</td>\n",
       "    </tr>\n",
       "  </tbody>\n",
       "</table>\n",
       "</div>"
      ],
      "text/plain": [
       "                      purpose      debt  percent\n",
       "qcut_income_сategory                            \n",
       "богатый средний          2278  0.088235      9.0\n",
       "богатый                  4813  0.083524      8.0\n",
       "низкий                   4305  0.080139      8.0\n",
       "средний                  5823  0.084149      8.0\n",
       "очень богатый            4306  0.070367      7.0"
      ]
     },
     "execution_count": 163,
     "metadata": {},
     "output_type": "execute_result"
    }
   ],
   "source": [
    "qcut_income = df.groupby('qcut_income_сategory').agg({'purpose': 'count', 'debt': 'mean'})\n",
    "qcut_income['percent'] = round(qcut_income['debt']*100)\n",
    "qcut_income.sort_values('percent', ascending = False)"
   ]
  },
  {
   "cell_type": "markdown",
   "id": "obvious-craft",
   "metadata": {},
   "source": [
    "### Вывод\n",
    "Поразительно, категория богатых с доходом 150000 - 200000 хуже всего справляется с отсутствием просрочки, зона риска. Но в целом все группы в относительно равных значениях. Явной закономерности я не вижу."
   ]
  },
  {
   "cell_type": "markdown",
   "id": "fatty-violin",
   "metadata": {},
   "source": [
    "- Как разные цели кредита влияют на его возврат в срок?"
   ]
  },
  {
   "cell_type": "code",
   "execution_count": 164,
   "id": "vital-accent",
   "metadata": {},
   "outputs": [
    {
     "data": {
      "text/html": [
       "<div>\n",
       "<style scoped>\n",
       "    .dataframe tbody tr th:only-of-type {\n",
       "        vertical-align: middle;\n",
       "    }\n",
       "\n",
       "    .dataframe tbody tr th {\n",
       "        vertical-align: top;\n",
       "    }\n",
       "\n",
       "    .dataframe thead th {\n",
       "        text-align: right;\n",
       "    }\n",
       "</style>\n",
       "<table border=\"1\" class=\"dataframe\">\n",
       "  <thead>\n",
       "    <tr style=\"text-align: right;\">\n",
       "      <th></th>\n",
       "      <th>purpose</th>\n",
       "      <th>debt</th>\n",
       "      <th>percent</th>\n",
       "    </tr>\n",
       "    <tr>\n",
       "      <th>target_category</th>\n",
       "      <th></th>\n",
       "      <th></th>\n",
       "      <th></th>\n",
       "    </tr>\n",
       "  </thead>\n",
       "  <tbody>\n",
       "    <tr>\n",
       "      <th>автомобиль</th>\n",
       "      <td>4315</td>\n",
       "      <td>0.093395</td>\n",
       "      <td>9.0</td>\n",
       "    </tr>\n",
       "    <tr>\n",
       "      <th>образование</th>\n",
       "      <td>4022</td>\n",
       "      <td>0.091994</td>\n",
       "      <td>9.0</td>\n",
       "    </tr>\n",
       "    <tr>\n",
       "      <th>свадьба</th>\n",
       "      <td>2348</td>\n",
       "      <td>0.079216</td>\n",
       "      <td>8.0</td>\n",
       "    </tr>\n",
       "    <tr>\n",
       "      <th>недвижимость</th>\n",
       "      <td>10840</td>\n",
       "      <td>0.072140</td>\n",
       "      <td>7.0</td>\n",
       "    </tr>\n",
       "  </tbody>\n",
       "</table>\n",
       "</div>"
      ],
      "text/plain": [
       "                 purpose      debt  percent\n",
       "target_category                            \n",
       "автомобиль          4315  0.093395      9.0\n",
       "образование         4022  0.091994      9.0\n",
       "свадьба             2348  0.079216      8.0\n",
       "недвижимость       10840  0.072140      7.0"
      ]
     },
     "execution_count": 164,
     "metadata": {},
     "output_type": "execute_result"
    }
   ],
   "source": [
    "target = df.groupby('target_category').agg({'purpose': 'count' ,'debt': 'mean'})\n",
    "target['percent'] = round(target['debt']*100)\n",
    "target.sort_values('percent', ascending = False)"
   ]
  },
  {
   "cell_type": "markdown",
   "id": "alone-couple",
   "metadata": {},
   "source": [
    "### Вывод"
   ]
  },
  {
   "cell_type": "markdown",
   "id": "infinite-tolerance",
   "metadata": {},
   "source": [
    "Худшие по возвратам категории автомобиль и образование. Самая безрисковая категория недвижимость. Свадьба в среднем значение."
   ]
  },
  {
   "cell_type": "markdown",
   "id": "incorrect-voice",
   "metadata": {},
   "source": [
    "### Шаг 4. Общий вывод\n",
    "\n",
    "Можно сказать, что самый безрисковый тип клиентов это:  \n",
    "Люди без детей, вдовцы или в разводе, имеют категорию доходов \"очень богатый\", \"средний\", \"низкий\" и берут кредит на недвижимость.  \n",
    "Самые рискованные заемщики это:  \n",
    "Люди с 1 или 2 детьми. Женатые или жувущие гражданским браком. Относятся к категории доходов \"богатый или богатый средний\" и берут кредит на образование или автомобиль.\n",
    "\n",
    "### Чек-лист готовности проекта\n",
    "\n",
    "Поставьте 'x' в выполненных пунктах. Далее нажмите Shift+Enter.\n",
    "\n",
    "- [x]  открыт файл;\n",
    "- [x]  файл изучен;\n",
    "- [x]  определены пропущенные значения;\n",
    "- [x]  заполнены пропущенные значения;\n",
    "- [x]  есть пояснение, какие пропущенные значения обнаружены;\n",
    "- [x]  описаны возможные причины появления пропусков в данных;\n",
    "- [x]  объяснено, по какому принципу заполнены пропуски;\n",
    "- [x]  заменен вещественный тип данных на целочисленный;\n",
    "- [x]  есть пояснение, какой метод используется для изменения типа данных и почему;\n",
    "- [x]  удалены дубликаты;\n",
    "- [x]  есть пояснение, какой метод используется для поиска и удаления дубликатов;\n",
    "- [x]  описаны возможные причины появления дубликатов в данных;\n",
    "- [x]  выделены леммы в значениях столбца с целями получения кредита;\n",
    "- [x]  описан процесс лемматизации;\n",
    "- [x]  данные категоризированы;\n",
    "- [x]  есть объяснение принципа категоризации данных;\n",
    "- [x]  есть ответ на вопрос: \"Есть ли зависимость между наличием детей и возвратом кредита в срок?\";\n",
    "- [x]  есть ответ на вопрос: \"Есть ли зависимость между семейным положением и возвратом кредита в срок?\";\n",
    "- [x]  есть ответ на вопрос: \"Есть ли зависимость между уровнем дохода и возвратом кредита в срок?\";\n",
    "- [x]  есть ответ на вопрос: \"Как разные цели кредита влияют на его возврат в срок?\";\n",
    "- [x]  в каждом этапе есть выводы;\n",
    "- [x]  есть общий вывод.\n",
    "\n"
   ]
  },
  {
   "cell_type": "code",
   "execution_count": null,
   "id": "0b9201b6-a131-4e00-a1dd-9e25b92ec093",
   "metadata": {},
   "outputs": [],
   "source": []
  }
 ],
 "metadata": {
  "kernelspec": {
   "display_name": "Python 3",
   "language": "python",
   "name": "python3"
  },
  "language_info": {
   "codemirror_mode": {
    "name": "ipython",
    "version": 3
   },
   "file_extension": ".py",
   "mimetype": "text/x-python",
   "name": "python",
   "nbconvert_exporter": "python",
   "pygments_lexer": "ipython3",
   "version": "3.8.8"
  }
 },
 "nbformat": 4,
 "nbformat_minor": 5
}
