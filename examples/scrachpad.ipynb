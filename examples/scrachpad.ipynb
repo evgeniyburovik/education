{
 "cells": [
  {
   "cell_type": "markdown",
   "id": "7d9c3cdd-c781-4a7b-b5b8-6ecaa07399fd",
   "metadata": {},
   "source": [
    "# Loops"
   ]
  },
  {
   "cell_type": "markdown",
   "id": "a58d999a-60ad-4e02-b3c7-d0eb0354cb57",
   "metadata": {},
   "source": [
    "## While"
   ]
  },
  {
   "cell_type": "code",
   "execution_count": 1,
   "id": "66226467-c18a-493a-aeb9-b33899f135bf",
   "metadata": {},
   "outputs": [
    {
     "name": "stdin",
     "output_type": "stream",
     "text": [
      " 345555\n"
     ]
    },
    {
     "name": "stdout",
     "output_type": "stream",
     "text": [
      "8\n"
     ]
    }
   ],
   "source": [
    "PERCENT = 0.1\n",
    "depozit = int(input())\n",
    "depozit_hight = 0\n",
    "year_count = 0\n",
    "while depozit_hight <= 700000:\n",
    "    depozit_hight = (depozit * PERCENT) + depozit\n",
    "    depozit = depozit_hight\n",
    "    year_count += 1\n",
    "print(year_count)"
   ]
  },
  {
   "cell_type": "code",
   "execution_count": 11,
   "id": "5da6afc5-6952-456f-81bb-0f77b0e9e4a9",
   "metadata": {},
   "outputs": [
    {
     "name": "stdin",
     "output_type": "stream",
     "text": [
      " Paws 11\n"
     ]
    },
    {
     "name": "stdout",
     "output_type": "stream",
     "text": [
      "['Paws', '11']\n"
     ]
    },
    {
     "name": "stdin",
     "output_type": "stream",
     "text": [
      " Kittens 9\n"
     ]
    },
    {
     "name": "stdout",
     "output_type": "stream",
     "text": [
      "['Kittens', '9']\n"
     ]
    },
    {
     "name": "stdin",
     "output_type": "stream",
     "text": [
      " MEOW\n"
     ]
    },
    {
     "name": "stdout",
     "output_type": "stream",
     "text": [
      "Paws\n"
     ]
    }
   ],
   "source": [
    "\"\"\" \n",
    "Paws 11\n",
    "['Paws', '11']\n",
    " Kittens 9\n",
    "['Kittens', '9']\n",
    " MEOW\n",
    "Paws\n",
    "\n",
    "\"\"\"\n",
    "STOP = 'MEOW'\n",
    "cafe_name_counts = {}\n",
    "input_cafe = ''\n",
    "while STOP != input_cafe:\n",
    "    input_cafe = input()\n",
    "    if  input_cafe == STOP:\n",
    "        break\n",
    "    cafe = input_cafe.split()\n",
    "    print(cafe)\n",
    "    cafe_name_counts[cafe[0]] = int(cafe[1])\n",
    "print(max(cafe_name_counts, key=cafe_name_counts.get))"
   ]
  },
  {
   "cell_type": "code",
   "execution_count": 10,
   "id": "d9636a18-dd0a-4a68-881d-565e4b5ce1d8",
   "metadata": {},
   "outputs": [
    {
     "name": "stdin",
     "output_type": "stream",
     "text": [
      " 149\n"
     ]
    },
    {
     "name": "stdout",
     "output_type": "stream",
     "text": [
      "This number is prime\n"
     ]
    }
   ],
   "source": [
    "def is_prime(n):\n",
    "    i = 2\n",
    "    while i < n:\n",
    "        if n%i == 0:\n",
    "            return False\n",
    "        i += 1\n",
    "    if n == 1:\n",
    "        return False\n",
    "    return True\n",
    "n = int(input())\n",
    "if is_prime(n) == True:\n",
    "    print('This number is prime')\n",
    "else:\n",
    "    print('This number is not prime')"
   ]
  },
  {
   "cell_type": "code",
   "execution_count": 8,
   "id": "6267ee4d-91c1-4b26-91ec-c4159563024f",
   "metadata": {},
   "outputs": [
    {
     "name": "stdin",
     "output_type": "stream",
     "text": [
      " 1\n",
      " 2\n",
      " 3\n",
      " 4\n",
      " 55\n"
     ]
    },
    {
     "name": "stdout",
     "output_type": "stream",
     "text": [
      "4\n",
      "10\n",
      "2\n"
     ]
    }
   ],
   "source": [
    "num = 0\n",
    "num_count = 0\n",
    "num_sum = 0\n",
    "\n",
    "while num != 55:\n",
    "    num = int(input())\n",
    "    if num != 55:\n",
    "        num_count += 1\n",
    "        num_sum += num\n",
    "\n",
    "print(num_count)\n",
    "print(num_sum)\n",
    "print(round(num_sum / num_count))"
   ]
  },
  {
   "cell_type": "markdown",
   "id": "238f6c31-1b6b-47c7-8410-0f3150f2d712",
   "metadata": {},
   "source": [
    "## For"
   ]
  },
  {
   "cell_type": "code",
   "execution_count": 5,
   "id": "051c173a-0b0b-4e2b-b525-e668952e6319",
   "metadata": {},
   "outputs": [
    {
     "name": "stdin",
     "output_type": "stream",
     "text": [
      " 3\n",
      " 3\n",
      " 3\n",
      " 3\n"
     ]
    }
   ],
   "source": [
    "nums_init = int(input())\n",
    "for _i in range(nums_init):\n",
    "    num = int(input())\n",
    "    if num % 7 == 0:\n",
    "        num = num ** 2\n",
    "        print(num)"
   ]
  },
  {
   "cell_type": "code",
   "execution_count": 1,
   "id": "f2df8e3f-8738-4ad5-98c9-110a57510147",
   "metadata": {},
   "outputs": [
    {
     "name": "stdout",
     "output_type": "stream",
     "text": [
      "23\n"
     ]
    }
   ],
   "source": [
    "string = \"red yellow fox bite orange goose beeeeeeeeeeep\"\n",
    "vowels = 'aeiou'\n",
    "count_vowels = 0\n",
    "for str_i in string:\n",
    "    if str_i in vowels:\n",
    "        count_vowels += 1\n",
    "print(count_vowels)"
   ]
  },
  {
   "cell_type": "code",
   "execution_count": 10,
   "id": "4733d161-fbeb-4be5-936a-d8dab30d906d",
   "metadata": {},
   "outputs": [
    {
     "name": "stdin",
     "output_type": "stream",
     "text": [
      " 3\n",
      " 1\n",
      " 2\n",
      " 3\n"
     ]
    },
    {
     "name": "stdout",
     "output_type": "stream",
     "text": [
      "2.0\n"
     ]
    }
   ],
   "source": [
    "iter_count = int(input())\n",
    "number_sum = 0\n",
    "\n",
    "for _i in range(iter_count):\n",
    "    number = int(input())\n",
    "    number_sum = namber_sum + namber\n",
    "print(number_sum / iter_count)"
   ]
  },
  {
   "cell_type": "code",
   "execution_count": 12,
   "id": "4391279a-cac8-4536-8250-32ddd7b6806e",
   "metadata": {},
   "outputs": [
    {
     "name": "stdin",
     "output_type": "stream",
     "text": [
      " -5 12\n"
     ]
    },
    {
     "name": "stdout",
     "output_type": "stream",
     "text": [
      "4.5\n",
      "[-3, 0, 3, 6, 9, 12]\n"
     ]
    }
   ],
   "source": [
    "x, y = map(int, input().split(' '))\n",
    "num_count = 0\n",
    "nums = []\n",
    "\n",
    "for i in range(x, y+1):\n",
    "    if i % 3 == 0:\n",
    "        num_count += 1\n",
    "        nums.append(i)\n",
    "\n",
    "print(sum(nums) / num_count)\n",
    "print(nums)"
   ]
  },
  {
   "cell_type": "code",
   "execution_count": 27,
   "id": "a770c799-0173-4ec5-9fe3-ec8b5037215c",
   "metadata": {},
   "outputs": [
    {
     "name": "stdout",
     "output_type": "stream",
     "text": [
      "1\n",
      "2\n",
      "Fizz\n",
      "4\n",
      "Buzz\n",
      "Fizz\n",
      "7\n",
      "8\n",
      "Fizz\n",
      "Buzz\n",
      "11\n",
      "Fizz\n",
      "13\n",
      "14\n",
      "FizzBuzz\n",
      "16\n",
      "17\n",
      "Fizz\n",
      "19\n",
      "Buzz\n",
      "Fizz\n",
      "22\n",
      "23\n",
      "Fizz\n",
      "Buzz\n",
      "26\n",
      "Fizz\n",
      "28\n",
      "29\n",
      "FizzBuzz\n",
      "31\n",
      "32\n",
      "Fizz\n",
      "34\n",
      "Buzz\n",
      "Fizz\n",
      "37\n",
      "38\n",
      "Fizz\n",
      "Buzz\n",
      "41\n",
      "Fizz\n",
      "43\n",
      "44\n",
      "FizzBuzz\n",
      "46\n",
      "47\n",
      "Fizz\n",
      "49\n",
      "Buzz\n",
      "Fizz\n",
      "52\n",
      "53\n",
      "Fizz\n",
      "Buzz\n",
      "56\n",
      "Fizz\n",
      "58\n",
      "59\n",
      "FizzBuzz\n",
      "61\n",
      "62\n",
      "Fizz\n",
      "64\n",
      "Buzz\n",
      "Fizz\n",
      "67\n",
      "68\n",
      "Fizz\n",
      "Buzz\n",
      "71\n",
      "Fizz\n",
      "73\n",
      "74\n",
      "FizzBuzz\n",
      "76\n",
      "77\n",
      "Fizz\n",
      "79\n",
      "Buzz\n",
      "Fizz\n",
      "82\n",
      "83\n",
      "Fizz\n",
      "Buzz\n",
      "86\n",
      "Fizz\n",
      "88\n",
      "89\n",
      "FizzBuzz\n",
      "91\n",
      "92\n",
      "Fizz\n",
      "94\n",
      "Buzz\n",
      "Fizz\n",
      "97\n",
      "98\n",
      "Fizz\n",
      "Buzz\n"
     ]
    }
   ],
   "source": [
    "for i in range(1, 101):\n",
    "    if (i % 3) == 0 and (i % 5) == 0:\n",
    "        print(\"FizzBuzz\")\n",
    "    elif (i % 3) == 0:\n",
    "        print(\"Fizz\")\n",
    "    elif (i % 5) == 0:\n",
    "        print(\"Buzz\")\n",
    "    else:\n",
    "        print(i)"
   ]
  },
  {
   "cell_type": "code",
   "execution_count": 30,
   "id": "e49ece40-a398-4ef2-8607-a04fb53a5e38",
   "metadata": {},
   "outputs": [
    {
     "name": "stdin",
     "output_type": "stream",
     "text": [
      " 4567555\n"
     ]
    },
    {
     "name": "stdout",
     "output_type": "stream",
     "text": [
      "four\n",
      "five\n",
      "six\n",
      "seven\n",
      "five\n",
      "five\n",
      "five\n"
     ]
    }
   ],
   "source": [
    "digits = ['zero', 'one', 'two', 'three', 'four', 'five' , 'six', 'seven', 'eight', 'nine']\n",
    "numbers = input()\n",
    "\n",
    "for i in numbers:\n",
    "    if i == '0':\n",
    "        print(digits[0])\n",
    "    elif i == '1':\n",
    "        print(digits[1])\n",
    "    elif i == '2':\n",
    "        print(digits[2])\n",
    "    elif i == '3':\n",
    "        print(digits[3])\n",
    "    elif i == '4':\n",
    "        print(digits[4])\n",
    "    elif i == '5':\n",
    "        print(digits[5])\n",
    "    elif i == '6':\n",
    "        print(digits[6])\n",
    "    elif i == '7':\n",
    "        print(digits[7])\n",
    "    elif i == '8':\n",
    "        print(digits[8])\n",
    "    elif i == '9':\n",
    "        print(digits[9])"
   ]
  },
  {
   "cell_type": "code",
   "execution_count": 72,
   "id": "f3cca881-3784-4f5a-8f1d-4014c8995191",
   "metadata": {},
   "outputs": [
    {
     "name": "stdout",
     "output_type": "stream",
     "text": [
      "1 little bear\n",
      "Wondering what to do\n",
      "Along came another\n",
      "Then there were 2 !\n",
      "2 little bears\n",
      "Wondering what to do\n",
      "Along came another\n",
      "Then there were 3 !\n",
      "3 little bears\n",
      "Wondering what to do\n",
      "Along came another\n",
      "Then there were 4 !\n",
      "4 little bears\n",
      "Wondering what to do\n",
      "Along came another\n",
      "Then there were 5 !\n",
      "5 little bears\n",
      "Wondering what to do\n",
      "Along came another\n",
      "Then there were 6 !\n"
     ]
    }
   ],
   "source": [
    "for i in range(1, 6):\n",
    "    if i == 1:\n",
    "        print(i, 'little bear')\n",
    "    else:\n",
    "        print(i, 'little bears')\n",
    "    print('Wondering what to do')\n",
    "    print('Along came another')\n",
    "    print('Then there were', i+1,'!')"
   ]
  },
  {
   "cell_type": "markdown",
   "id": "a7aeb859-7055-415c-b90f-ad5ad36a9c25",
   "metadata": {},
   "source": [
    "## Loop control statements"
   ]
  },
  {
   "cell_type": "code",
   "execution_count": 1,
   "id": "246ef767-ad72-48ea-a4be-fd985038a54b",
   "metadata": {},
   "outputs": [
    {
     "name": "stdin",
     "output_type": "stream",
     "text": [
      " 54\n"
     ]
    },
    {
     "name": "stdout",
     "output_type": "stream",
     "text": [
      "54\n"
     ]
    },
    {
     "name": "stdin",
     "output_type": "stream",
     "text": [
      " 45\n"
     ]
    },
    {
     "name": "stdout",
     "output_type": "stream",
     "text": [
      "45\n"
     ]
    },
    {
     "name": "stdin",
     "output_type": "stream",
     "text": [
      " 56\n"
     ]
    },
    {
     "name": "stdout",
     "output_type": "stream",
     "text": [
      "56\n"
     ]
    },
    {
     "name": "stdin",
     "output_type": "stream",
     "text": [
      " 100\n"
     ]
    },
    {
     "name": "stdout",
     "output_type": "stream",
     "text": [
      "100\n"
     ]
    },
    {
     "name": "stdin",
     "output_type": "stream",
     "text": [
      " 101\n"
     ]
    }
   ],
   "source": [
    "while True:\n",
    "    num = int(input())\n",
    "    if num < 10:\n",
    "        pass\n",
    "    elif num > 100:\n",
    "        break\n",
    "    else:\n",
    "        print(num)"
   ]
  },
  {
   "cell_type": "code",
   "execution_count": null,
   "id": "95914262-661f-465c-9753-5ca804f09960",
   "metadata": {},
   "outputs": [],
   "source": [
    "text = input()\n",
    "\n",
    "for i in text:\n",
    "    if i in 'aeiou':\n",
    "        print('vowel')\n",
    "    elif i.isalpha():\n",
    "        break\n",
    "    else:\n",
    "        print('consonant')"
   ]
  },
  {
   "cell_type": "markdown",
   "id": "6422ffbe-78ef-4027-a564-52277e85538e",
   "metadata": {},
   "source": [
    "# Branching"
   ]
  },
  {
   "cell_type": "code",
   "execution_count": 9,
   "id": "4e85f04e-2159-4435-85a0-47d1335b9340",
   "metadata": {},
   "outputs": [
    {
     "name": "stdin",
     "output_type": "stream",
     "text": [
      " flour\n"
     ]
    },
    {
     "name": "stdout",
     "output_type": "stream",
     "text": [
      "apple pie time\n",
      "chocolate cake time\n"
     ]
    }
   ],
   "source": [
    "ingredient = input()\n",
    "pasta = \"tomato, basil, garlic, salt, pasta, olive oil\"\n",
    "apple_pie = \"apple, sugar, salt, cinnamon, flour, egg, butter\"\n",
    "ratatouille = \"aubergine, carrot, onion, tomato, garlic, olive oil, pepper, salt\"\n",
    "chocolate_cake = \"chocolate, sugar, salt, flour, coffee, butter\"\n",
    "omelette = \"egg, milk, bacon, tomato, salt, pepper\"\n",
    "\n",
    "if ingredient in pasta:\n",
    "    print('pasta time')\n",
    "if ingredient in apple_pie:\n",
    "    print('apple pie time')\n",
    "if ingredient in ratatouille:\n",
    "    print('ratatouille time')\n",
    "if ingredient in chocolate_cake:\n",
    "    print('chocolate cake time')\n",
    "if ingredient in omelette:\n",
    "    print('omelette time')"
   ]
  },
  {
   "cell_type": "markdown",
   "id": "c8ce123f-e752-4737-8e22-3ba706958728",
   "metadata": {},
   "source": [
    "## Else"
   ]
  },
  {
   "cell_type": "code",
   "execution_count": 22,
   "id": "d605d3fa-df69-4986-94c0-6b2075e0a820",
   "metadata": {},
   "outputs": [
    {
     "name": "stdin",
     "output_type": "stream",
     "text": [
      " 3\n",
      " 40\n",
      " 120\n"
     ]
    },
    {
     "name": "stdout",
     "output_type": "stream",
     "text": [
      "True\n"
     ]
    }
   ],
   "source": [
    "number_of_halls = int(input())\n",
    "capacity = int(input())\n",
    "number_viewers = int(input())\n",
    "if capacity == 0:\n",
    "    print(False)\n",
    "else:\n",
    "    must_halls = number_viewers / capacity\n",
    "    print(must_halls <= number_of_halls)"
   ]
  },
  {
   "cell_type": "code",
   "execution_count": 23,
   "id": "b1460100-7117-4408-9918-61c36843a698",
   "metadata": {},
   "outputs": [],
   "source": [
    "# first_alternative if condition else second_alternative"
   ]
  },
  {
   "cell_type": "code",
   "execution_count": 24,
   "id": "c235a2fd-0c6c-4f54-b31d-d5c59976ae08",
   "metadata": {},
   "outputs": [
    {
     "name": "stdin",
     "output_type": "stream",
     "text": [
      " 30\n",
      " 34\n"
     ]
    },
    {
     "name": "stdout",
     "output_type": "stream",
     "text": [
      "34\n",
      "30\n"
     ]
    }
   ],
   "source": [
    "number_a = int(input())\n",
    "number_b = int(input())\n",
    "\n",
    "if number_a >= number_b:\n",
    "    print(number_a)\n",
    "    print(number_b)\n",
    "else:\n",
    "    print(number_b)\n",
    "    print(number_a)"
   ]
  },
  {
   "cell_type": "code",
   "execution_count": 35,
   "id": "97966fd7-1cbb-4391-aadd-56da97b29f4d",
   "metadata": {},
   "outputs": [
    {
     "name": "stdin",
     "output_type": "stream",
     "text": [
      " 6\n",
      " 10\n",
      " 8\n"
     ]
    },
    {
     "name": "stdout",
     "output_type": "stream",
     "text": [
      "Normal\n"
     ]
    }
   ],
   "source": [
    "sleep_hours_a = int(input())\n",
    "sleep_hours_b = int(input())\n",
    "sleep_hours_h = int(input())\n",
    "\n",
    "if sleep_hours_h < sleep_hours_a:\n",
    "    print(\"Deficiency\")\n",
    "elif (sleep_hours_h > sleep_hours_b):\n",
    "    print(\"Excess\")\n",
    "else:\n",
    "    print(\"Normal\")"
   ]
  },
  {
   "cell_type": "code",
   "execution_count": 36,
   "id": "ac9fc419-1b05-400c-810c-2fbf6a442428",
   "metadata": {},
   "outputs": [
    {
     "name": "stdin",
     "output_type": "stream",
     "text": [
      " aa\n"
     ]
    },
    {
     "name": "stdout",
     "output_type": "stream",
     "text": [
      "Correct\n"
     ]
    }
   ],
   "source": [
    "word = input()\n",
    "\n",
    "dictionary = [\"aa\", \"abab\", \"aac\", \"ba\", \"bac\", \"baba\", \"cac\", \"caac\"]\n",
    "\n",
    "if word in dictionary:\n",
    "    print('Correct')\n",
    "else:\n",
    "    print('Incorrect')"
   ]
  },
  {
   "cell_type": "code",
   "execution_count": 40,
   "id": "f9b5150a-e124-43d3-b350-0ea7bac2ecc4",
   "metadata": {},
   "outputs": [
    {
     "name": "stdin",
     "output_type": "stream",
     "text": [
      " 2000\n"
     ]
    },
    {
     "name": "stdout",
     "output_type": "stream",
     "text": [
      "Leap\n"
     ]
    }
   ],
   "source": [
    "# Весокосный год или нет\n",
    "year = int(input())\n",
    "\n",
    "if (year % 4 == 0) and (year % 100 > 0) or (year % 400 == 0):\n",
    "    print(\"Leap\")\n",
    "else:\n",
    "    print(\"Ordinary\")"
   ]
  },
  {
   "cell_type": "markdown",
   "id": "b1820929-c51c-45d4-bc4d-572dc7128ee5",
   "metadata": {},
   "source": [
    "## Elif"
   ]
  },
  {
   "cell_type": "code",
   "execution_count": 46,
   "id": "b2470af5-2a64-4ac3-baec-7ecbe9beb05d",
   "metadata": {},
   "outputs": [
    {
     "name": "stdin",
     "output_type": "stream",
     "text": [
      " 37\n"
     ]
    },
    {
     "name": "stdout",
     "output_type": "stream",
     "text": [
      "Matrix\n"
     ]
    }
   ],
   "source": [
    "age = int(input())\n",
    "\n",
    "if age <=16:\n",
    "    print(\"Lion King\")\n",
    "elif (age >= 17) and (age <= 25):\n",
    "    print(\"Trainspotting\")\n",
    "elif (age >= 26) and (age <= 40):\n",
    "    print(\"Matrix\")\n",
    "elif (age >= 41) and (age <= 60):\n",
    "    print(\"Pulp Fiction\")\n",
    "else:\n",
    "    print(\"Breakfast at Tiffany's\")"
   ]
  },
  {
   "cell_type": "code",
   "execution_count": 57,
   "id": "247b7a93-28c1-4e59-988d-c1e16c4e0181",
   "metadata": {},
   "outputs": [
    {
     "name": "stdin",
     "output_type": "stream",
     "text": [
      " 1295\n"
     ]
    },
    {
     "name": "stdout",
     "output_type": "stream",
     "text": [
      "1 goat\n"
     ]
    }
   ],
   "source": [
    "money = int(input())\n",
    "\n",
    "chicken = 23\n",
    "goat    = 678\n",
    "pig     = 1296\n",
    "cow     = 3848\n",
    "sheep   = 6769\n",
    "\n",
    "\n",
    "if (money >= chicken) and (money < goat):\n",
    "    if int(money / chicken) == 1:\n",
    "        print(int(money / chicken), 'chicken')\n",
    "    else:\n",
    "        print(int(money / chicken), 'chickens')\n",
    "elif (money >= goat) and (money < pig):\n",
    "    if int(money / goat) == 1:\n",
    "        print(int(money / goat), 'goat')\n",
    "    else:\n",
    "        print(int(money / goat), 'goats')\n",
    "elif (money >= pig) and (money < cow):\n",
    "    if int(money / pig) == 1:\n",
    "        print(int(money / pig), 'pig')\n",
    "    else:\n",
    "        print(int(money / pig), 'pigs')\n",
    "elif (money >= cow) and (money < sheep):\n",
    "    if int(money / cow) == 1:\n",
    "        print(int(money / cow), 'cow')\n",
    "    else:\n",
    "        print(int(money / cow), 'cows')\n",
    "elif money >= sheep:\n",
    "    print(int(money / sheep), 'sheep')\n",
    "else:\n",
    "    print('None')"
   ]
  },
  {
   "cell_type": "code",
   "execution_count": 59,
   "id": "1d3e4540-62e2-4d4b-8944-4bc6f72c4f0e",
   "metadata": {},
   "outputs": [
    {
     "name": "stdin",
     "output_type": "stream",
     "text": [
      " 1/2\n",
      " -1\n"
     ]
    },
    {
     "name": "stdout",
     "output_type": "stream",
     "text": [
      "Electron Lepton\n"
     ]
    }
   ],
   "source": [
    "spin = input()\n",
    "el_charge = input()\n",
    "\n",
    "if (spin == '1/2') and (el_charge == '-1/3'):\n",
    "    print('Strange', 'Quark')\n",
    "elif (spin == '1/2') and (el_charge == '2/3'):\n",
    "    print('Charm', 'Quark')\n",
    "elif (spin == '1/2') and (el_charge == '-1'):\n",
    "    print('Electron', 'Lepton')\n",
    "elif (spin == '1/2') and (el_charge == '0'):\n",
    "    print('Neutrino', 'Lepton')\n",
    "elif (spin == '1') and (el_charge == '0'):\n",
    "    print('Photon', 'Boson')"
   ]
  },
  {
   "cell_type": "code",
   "execution_count": 67,
   "id": "73378cc0-7ffe-4a00-bec3-7f4fe1314ff4",
   "metadata": {},
   "outputs": [
    {
     "name": "stdin",
     "output_type": "stream",
     "text": [
      " 9\n",
      " 0\n",
      " /\n"
     ]
    },
    {
     "name": "stdout",
     "output_type": "stream",
     "text": [
      "Division by 0!\n"
     ]
    }
   ],
   "source": [
    "first_num = float(input())\n",
    "second_num = float(input())\n",
    "operation = input()\n",
    "\n",
    "if operation == '+':\n",
    "    print(first_num + second_num) \n",
    "elif operation == '-':\n",
    "    print(first_num - second_num)\n",
    "elif operation == '*':\n",
    "    print(first_num * second_num)\n",
    "elif operation == 'pow':\n",
    "     print(first_num ** second_num)\n",
    "elif operation == '/':\n",
    "    try:\n",
    "        print(round(first_num / second_num, 1))\n",
    "    except ZeroDivisionError:\n",
    "        print(\"Division by 0!\")\n",
    "elif operation == 'mod':\n",
    "    try:\n",
    "        print(round(first_num % second_num, 1))\n",
    "    except ZeroDivisionError:\n",
    "        print(\"Division by 0!\")\n",
    "elif operation == 'div':\n",
    "    try:\n",
    "        print(round(first_num // second_num, 1))\n",
    "    except ZeroDivisionError:\n",
    "        print(\"Division by 0!\")"
   ]
  },
  {
   "cell_type": "markdown",
   "id": "94c80958-e4d7-4e1c-86ef-91c06ac210a1",
   "metadata": {},
   "source": [
    "# Split | Join"
   ]
  },
  {
   "cell_type": "code",
   "execution_count": 15,
   "id": "2d8e4775-cca0-4460-b764-cecc6405a2b8",
   "metadata": {},
   "outputs": [
    {
     "name": "stdin",
     "output_type": "stream",
     "text": [
      " 1 2 3\n"
     ]
    },
    {
     "name": "stdout",
     "output_type": "stream",
     "text": [
      "3 2 1\n"
     ]
    }
   ],
   "source": [
    "\"\"\"\n",
    "\n",
    " 1 2 3\n",
    " \n",
    "\"\"\"\n",
    "num = input()\n",
    "num = num.split()\n",
    "print(\" \".join(num[::-1]))"
   ]
  },
  {
   "cell_type": "code",
   "execution_count": 2,
   "id": "ae4081b9-3a1c-4b08-88a6-fc6161a1214d",
   "metadata": {},
   "outputs": [
    {
     "name": "stdout",
     "output_type": "stream",
     "text": [
      "1\n",
      "22\n",
      "333\n",
      "4444\n",
      "55555\n"
     ]
    }
   ],
   "source": [
    "random_numbers = ['1', '22', '333', '4444', '55555']\n",
    "print(\"\\n\".join(random_numbers))"
   ]
  },
  {
   "cell_type": "code",
   "execution_count": 18,
   "id": "0fefd0f8-6ded-4e03-8a81-d2cd1f21f697",
   "metadata": {},
   "outputs": [
    {
     "name": "stdin",
     "output_type": "stream",
     "text": [
      " F B A A B C A D\n"
     ]
    },
    {
     "name": "stdout",
     "output_type": "stream",
     "text": [
      "0.38\n"
     ]
    }
   ],
   "source": [
    "count_a = 0\n",
    "evaluation = input().split()\n",
    "for value in evaluation:\n",
    "    if value == 'A':\n",
    "        count_a += 1\n",
    "print(round(count_a / len(evaluation), 2))"
   ]
  },
  {
   "cell_type": "code",
   "execution_count": 7,
   "id": "3f8d5712-0ada-42e3-b553-e251736fd213",
   "metadata": {},
   "outputs": [
    {
     "data": {
      "text/plain": [
       "['1', '4', '5', '6']"
      ]
     },
     "execution_count": 7,
     "metadata": {},
     "output_type": "execute_result"
    }
   ],
   "source": [
    "evaluation"
   ]
  },
  {
   "cell_type": "markdown",
   "id": "218a3064-f390-499d-8fab-c2a0d46cb3c1",
   "metadata": {},
   "source": [
    "# Moduls"
   ]
  },
  {
   "cell_type": "code",
   "execution_count": 8,
   "id": "8140e6cb-b0e3-42a9-92ca-fdf93e600bcf",
   "metadata": {},
   "outputs": [
    {
     "name": "stdin",
     "output_type": "stream",
     "text": [
      " eeeee.  eeeee.  eee\n"
     ]
    },
    {
     "name": "stdout",
     "output_type": "stream",
     "text": [
      "Eeeee. Eeeee. Eee\n"
     ]
    }
   ],
   "source": [
    "from string import capwords\n",
    "\n",
    "# don't modify this code or the variable may not be available\n",
    "input_string = input()\n",
    "\n",
    "# use capwords() here\n",
    "print(capwords(input_string))"
   ]
  },
  {
   "cell_type": "code",
   "execution_count": 13,
   "id": "da316b12-b6f4-4119-a179-3616811582f4",
   "metadata": {},
   "outputs": [
    {
     "name": "stdin",
     "output_type": "stream",
     "text": [
      " 56.0000 -89.000\n"
     ]
    },
    {
     "name": "stdout",
     "output_type": "stream",
     "text": [
      "-56.0\n"
     ]
    }
   ],
   "source": [
    "# place `import` statement at top of the program\n",
    "from math import copysign\n",
    "\n",
    "# don't modify this code or the variables may not be available\n",
    "x, y = map(float, input().split(' '))\n",
    "print(copysign(x, y))"
   ]
  },
  {
   "cell_type": "code",
   "execution_count": 20,
   "id": "82d3c1ed-dc05-418c-a9fe-f790af25399c",
   "metadata": {},
   "outputs": [
    {
     "name": "stdin",
     "output_type": "stream",
     "text": [
      " 8\n"
     ]
    },
    {
     "name": "stdout",
     "output_type": "stream",
     "text": [
      "40320\n"
     ]
    }
   ],
   "source": [
    "from math import factorial \n",
    "# don't modify this code or variable `x` may not be available\n",
    "x = int(input())\n",
    "\n",
    "# use factorial() here\n",
    "print(factorial(x))"
   ]
  },
  {
   "cell_type": "code",
   "execution_count": 22,
   "id": "067a2640-2ac8-4370-bc22-439246830f86",
   "metadata": {},
   "outputs": [
    {
     "name": "stdout",
     "output_type": "stream",
     "text": [
      "0123456789\n",
      "abcdefghijklmnopqrstuvwxyz\n"
     ]
    }
   ],
   "source": [
    "from string import digits\n",
    "from string import ascii_lowercase\n",
    "\n",
    "print(digits)\n",
    "print(ascii_lowercase)"
   ]
  },
  {
   "cell_type": "code",
   "execution_count": 1,
   "id": "a1c108c0-db1b-4ac5-9926-0b650c02ba56",
   "metadata": {},
   "outputs": [
    {
     "name": "stdin",
     "output_type": "stream",
     "text": [
      " -57\n"
     ]
    },
    {
     "name": "stdout",
     "output_type": "stream",
     "text": [
      "-1.0\n"
     ]
    }
   ],
   "source": [
    "# place `import` statement at top of the program\n",
    "from math import expm1\n",
    "\n",
    "# don't modify this code, otherwise, `x` may not be available\n",
    "x = int(input())\n",
    "\n",
    "# use expm1() here\n",
    "print(expm1(x))"
   ]
  },
  {
   "cell_type": "markdown",
   "id": "64d82a2c-38bf-4e3c-b9a6-503b1ddfd7b4",
   "metadata": {},
   "source": [
    "# Built-in exceptions"
   ]
  },
  {
   "cell_type": "code",
   "execution_count": 30,
   "id": "b4f9aa00-4bce-4a1e-ad00-f39c459ea292",
   "metadata": {},
   "outputs": [
    {
     "data": {
      "text/plain": [
       "['ArithmeticError',\n",
       " 'AssertionError',\n",
       " 'AttributeError',\n",
       " 'BaseException',\n",
       " 'BlockingIOError',\n",
       " 'BrokenPipeError',\n",
       " 'BufferError',\n",
       " 'BytesWarning',\n",
       " 'ChildProcessError',\n",
       " 'ConnectionAbortedError',\n",
       " 'ConnectionError',\n",
       " 'ConnectionRefusedError',\n",
       " 'ConnectionResetError',\n",
       " 'DeprecationWarning',\n",
       " 'EOFError',\n",
       " 'Ellipsis',\n",
       " 'EnvironmentError',\n",
       " 'Exception',\n",
       " 'False',\n",
       " 'FileExistsError',\n",
       " 'FileNotFoundError',\n",
       " 'FloatingPointError',\n",
       " 'FutureWarning',\n",
       " 'GeneratorExit',\n",
       " 'IOError',\n",
       " 'ImportError',\n",
       " 'ImportWarning',\n",
       " 'IndentationError',\n",
       " 'IndexError',\n",
       " 'InterruptedError',\n",
       " 'IsADirectoryError',\n",
       " 'KeyError',\n",
       " 'KeyboardInterrupt',\n",
       " 'LookupError',\n",
       " 'MemoryError',\n",
       " 'ModuleNotFoundError',\n",
       " 'NameError',\n",
       " 'None',\n",
       " 'NotADirectoryError',\n",
       " 'NotImplemented',\n",
       " 'NotImplementedError',\n",
       " 'OSError',\n",
       " 'OverflowError',\n",
       " 'PendingDeprecationWarning',\n",
       " 'PermissionError',\n",
       " 'ProcessLookupError',\n",
       " 'RecursionError',\n",
       " 'ReferenceError',\n",
       " 'ResourceWarning',\n",
       " 'RuntimeError',\n",
       " 'RuntimeWarning',\n",
       " 'StopAsyncIteration',\n",
       " 'StopIteration',\n",
       " 'SyntaxError',\n",
       " 'SyntaxWarning',\n",
       " 'SystemError',\n",
       " 'SystemExit',\n",
       " 'TabError',\n",
       " 'TimeoutError',\n",
       " 'True',\n",
       " 'TypeError',\n",
       " 'UnboundLocalError',\n",
       " 'UnicodeDecodeError',\n",
       " 'UnicodeEncodeError',\n",
       " 'UnicodeError',\n",
       " 'UnicodeTranslateError',\n",
       " 'UnicodeWarning',\n",
       " 'UserWarning',\n",
       " 'ValueError',\n",
       " 'Warning',\n",
       " 'ZeroDivisionError',\n",
       " '__IPYTHON__',\n",
       " '__build_class__',\n",
       " '__debug__',\n",
       " '__doc__',\n",
       " '__import__',\n",
       " '__loader__',\n",
       " '__name__',\n",
       " '__package__',\n",
       " '__spec__',\n",
       " 'abs',\n",
       " 'all',\n",
       " 'any',\n",
       " 'ascii',\n",
       " 'bin',\n",
       " 'bool',\n",
       " 'breakpoint',\n",
       " 'bytearray',\n",
       " 'bytes',\n",
       " 'callable',\n",
       " 'chr',\n",
       " 'classmethod',\n",
       " 'compile',\n",
       " 'complex',\n",
       " 'copyright',\n",
       " 'credits',\n",
       " 'delattr',\n",
       " 'dict',\n",
       " 'dir',\n",
       " 'display',\n",
       " 'divmod',\n",
       " 'enumerate',\n",
       " 'eval',\n",
       " 'exec',\n",
       " 'filter',\n",
       " 'float',\n",
       " 'format',\n",
       " 'frozenset',\n",
       " 'get_ipython',\n",
       " 'getattr',\n",
       " 'globals',\n",
       " 'hasattr',\n",
       " 'hash',\n",
       " 'help',\n",
       " 'hex',\n",
       " 'id',\n",
       " 'input',\n",
       " 'int',\n",
       " 'isinstance',\n",
       " 'issubclass',\n",
       " 'iter',\n",
       " 'len',\n",
       " 'license',\n",
       " 'list',\n",
       " 'locals',\n",
       " 'map',\n",
       " 'max',\n",
       " 'memoryview',\n",
       " 'min',\n",
       " 'next',\n",
       " 'object',\n",
       " 'oct',\n",
       " 'open',\n",
       " 'ord',\n",
       " 'pow',\n",
       " 'print',\n",
       " 'property',\n",
       " 'range',\n",
       " 'repr',\n",
       " 'reversed',\n",
       " 'round',\n",
       " 'set',\n",
       " 'setattr',\n",
       " 'slice',\n",
       " 'sorted',\n",
       " 'staticmethod',\n",
       " 'str',\n",
       " 'sum',\n",
       " 'super',\n",
       " 'tuple',\n",
       " 'type',\n",
       " 'vars',\n",
       " 'zip']"
      ]
     },
     "execution_count": 30,
     "metadata": {},
     "output_type": "execute_result"
    }
   ],
   "source": [
    "dir(locals()['__builtins__'])"
   ]
  },
  {
   "cell_type": "code",
   "execution_count": 34,
   "id": "4f7fe141-9dc3-47d1-85ac-105b9b44fcbc",
   "metadata": {},
   "outputs": [
    {
     "name": "stdin",
     "output_type": "stream",
     "text": [
      " 23\n"
     ]
    },
    {
     "ename": "TypeError",
     "evalue": "'>' not supported between instances of 'str' and 'int'",
     "output_type": "error",
     "traceback": [
      "\u001b[0;31m---------------------------------------------------------------------------\u001b[0m",
      "\u001b[0;31mTypeError\u001b[0m                                 Traceback (most recent call last)",
      "\u001b[0;32m<ipython-input-34-f454652ee192>\u001b[0m in \u001b[0;36m<module>\u001b[0;34m\u001b[0m\n\u001b[1;32m      1\u001b[0m \u001b[0mage\u001b[0m \u001b[0;34m=\u001b[0m \u001b[0minput\u001b[0m\u001b[0;34m(\u001b[0m\u001b[0;34m)\u001b[0m                                           \u001b[0;31m# line 1\u001b[0m\u001b[0;34m\u001b[0m\u001b[0;34m\u001b[0m\u001b[0m\n\u001b[0;32m----> 2\u001b[0;31m \u001b[0;32mif\u001b[0m \u001b[0mage\u001b[0m \u001b[0;34m>\u001b[0m \u001b[0;36m14\u001b[0m\u001b[0;34m:\u001b[0m                                            \u001b[0;31m# line 2\u001b[0m\u001b[0;34m\u001b[0m\u001b[0;34m\u001b[0m\u001b[0m\n\u001b[0m\u001b[1;32m      3\u001b[0m     \u001b[0mprint\u001b[0m\u001b[0;34m(\u001b[0m\u001b[0;34m'Yes, you are allowed to watch this film!'\u001b[0m\u001b[0;34m)\u001b[0m   \u001b[0;31m# line 3\u001b[0m\u001b[0;34m\u001b[0m\u001b[0;34m\u001b[0m\u001b[0m\n",
      "\u001b[0;31mTypeError\u001b[0m: '>' not supported between instances of 'str' and 'int'"
     ]
    }
   ],
   "source": [
    "age = input()                                           # line 1\n",
    "if age > 14:                                            # line 2\n",
    "    print('Yes, you are allowed to watch this film!')   # line 3"
   ]
  },
  {
   "cell_type": "markdown",
   "id": "26fba545-4e46-4051-bc8e-61c6f518b06b",
   "metadata": {},
   "source": [
    "# Exception handling"
   ]
  },
  {
   "cell_type": "code",
   "execution_count": 37,
   "id": "17e6475e-4ce2-4be9-8748-3c700deaede5",
   "metadata": {},
   "outputs": [
    {
     "name": "stdin",
     "output_type": "stream",
     "text": [
      " Евгений Игоревич Буровик\n"
     ]
    },
    {
     "name": "stdout",
     "output_type": "stream",
     "text": [
      "You need to enter exactly 2 words. Try again!\n"
     ]
    }
   ],
   "source": [
    "try:\n",
    "    name, surname = input().split()\n",
    "except ValueError:\n",
    "    print(\"You need to enter exactly 2 words. Try again!\")\n",
    "else:\n",
    "    print(\"Welcome to our party, \" + name, surname)"
   ]
  },
  {
   "cell_type": "code",
   "execution_count": 39,
   "id": "c017fdbc-c0f9-4257-8e63-d6d5a3d2e365",
   "metadata": {},
   "outputs": [
    {
     "name": "stdout",
     "output_type": "stream",
     "text": [
      "It's OK.\n"
     ]
    }
   ],
   "source": [
    "def my_func(): \n",
    "    try: \n",
    "        1/0 \n",
    "    except: \n",
    "        1/0 \n",
    "    finally: \n",
    "        return \"It's OK.\"\n",
    "        \n",
    "print(my_func())"
   ]
  },
  {
   "cell_type": "code",
   "execution_count": 1,
   "id": "451eb3e5-89b9-493b-a680-a6147acb5b20",
   "metadata": {},
   "outputs": [
    {
     "name": "stdin",
     "output_type": "stream",
     "text": [
      " 100\n",
      " 13\n"
     ]
    },
    {
     "name": "stdout",
     "output_type": "stream",
     "text": [
      "7\n"
     ]
    }
   ],
   "source": [
    "try:\n",
    "    n = int(input())\n",
    "    denominator = int(input())\n",
    "    n // denominator\n",
    "except ZeroDivisionError:\n",
    "    print(\"Division by zero is not supported\")\n",
    "else:\n",
    "    print(int(n / denominator))"
   ]
  },
  {
   "cell_type": "markdown",
   "id": "5507fcad-d72c-4f88-b685-1e26d1acdcde",
   "metadata": {},
   "source": [
    "# Assert statement"
   ]
  },
  {
   "cell_type": "code",
   "execution_count": 4,
   "id": "936d9a9f-e7d6-4c69-b188-6809d237d5e4",
   "metadata": {},
   "outputs": [
    {
     "name": "stdin",
     "output_type": "stream",
     "text": [
      " ddddd\n"
     ]
    },
    {
     "ename": "AssertionError",
     "evalue": "Try again!",
     "output_type": "error",
     "traceback": [
      "\u001b[0;31m---------------------------------------------------------------------------\u001b[0m",
      "\u001b[0;31mAssertionError\u001b[0m                            Traceback (most recent call last)",
      "\u001b[0;32m<ipython-input-4-36e56dcfd819>\u001b[0m in \u001b[0;36m<module>\u001b[0;34m\u001b[0m\n\u001b[1;32m      8\u001b[0m \u001b[0;34m\u001b[0m\u001b[0m\n\u001b[1;32m      9\u001b[0m \u001b[0;34m\u001b[0m\u001b[0m\n\u001b[0;32m---> 10\u001b[0;31m \u001b[0mcheck_email\u001b[0m\u001b[0;34m(\u001b[0m\u001b[0memail\u001b[0m\u001b[0;34m)\u001b[0m\u001b[0;34m\u001b[0m\u001b[0;34m\u001b[0m\u001b[0m\n\u001b[0m",
      "\u001b[0;32m<ipython-input-4-36e56dcfd819>\u001b[0m in \u001b[0;36mcheck_email\u001b[0;34m(address)\u001b[0m\n\u001b[1;32m      4\u001b[0m \u001b[0;32mdef\u001b[0m \u001b[0mcheck_email\u001b[0m\u001b[0;34m(\u001b[0m\u001b[0maddress\u001b[0m\u001b[0;34m)\u001b[0m\u001b[0;34m:\u001b[0m\u001b[0;34m\u001b[0m\u001b[0;34m\u001b[0m\u001b[0m\n\u001b[1;32m      5\u001b[0m     \u001b[0mmessage\u001b[0m \u001b[0;34m=\u001b[0m \u001b[0;34m'Try again!'\u001b[0m\u001b[0;34m\u001b[0m\u001b[0;34m\u001b[0m\u001b[0m\n\u001b[0;32m----> 6\u001b[0;31m     \u001b[0;32massert\u001b[0m \u001b[0;34m'@'\u001b[0m \u001b[0;32min\u001b[0m \u001b[0maddress\u001b[0m\u001b[0;34m,\u001b[0m \u001b[0mmessage\u001b[0m\u001b[0;34m\u001b[0m\u001b[0;34m\u001b[0m\u001b[0m\n\u001b[0m\u001b[1;32m      7\u001b[0m     \u001b[0;32mreturn\u001b[0m \u001b[0;34m'Done!'\u001b[0m\u001b[0;34m\u001b[0m\u001b[0;34m\u001b[0m\u001b[0m\n\u001b[1;32m      8\u001b[0m \u001b[0;34m\u001b[0m\u001b[0m\n",
      "\u001b[0;31mAssertionError\u001b[0m: Try again!"
     ]
    }
   ],
   "source": [
    "email = input()\n",
    "\n",
    "\n",
    "def check_email(address):\n",
    "    assert '@' in address, 'Try again!'\n",
    "    return 'Done!'\n",
    "\n",
    "\n",
    "check_email(email)"
   ]
  },
  {
   "cell_type": "code",
   "execution_count": 7,
   "id": "68720318-9491-4835-b720-aa426e50659b",
   "metadata": {},
   "outputs": [
    {
     "name": "stdin",
     "output_type": "stream",
     "text": [
      "Enter the first number:  75\n",
      "Enter the second number:  25\n"
     ]
    },
    {
     "ename": "AssertionError",
     "evalue": "Your number is less than 5 or equal to 5!",
     "output_type": "error",
     "traceback": [
      "\u001b[0;31m---------------------------------------------------------------------------\u001b[0m",
      "\u001b[0;31mAssertionError\u001b[0m                            Traceback (most recent call last)",
      "\u001b[0;32m<ipython-input-7-a5edf9e4e313>\u001b[0m in \u001b[0;36m<module>\u001b[0;34m\u001b[0m\n\u001b[1;32m      2\u001b[0m \u001b[0my\u001b[0m \u001b[0;34m=\u001b[0m \u001b[0mint\u001b[0m\u001b[0;34m(\u001b[0m\u001b[0minput\u001b[0m\u001b[0;34m(\u001b[0m\u001b[0;34m\"Enter the second number: \"\u001b[0m\u001b[0;34m)\u001b[0m\u001b[0;34m)\u001b[0m\u001b[0;34m\u001b[0m\u001b[0;34m\u001b[0m\u001b[0m\n\u001b[1;32m      3\u001b[0m \u001b[0md\u001b[0m \u001b[0;34m=\u001b[0m \u001b[0mx\u001b[0m \u001b[0;34m/\u001b[0m \u001b[0my\u001b[0m\u001b[0;34m\u001b[0m\u001b[0;34m\u001b[0m\u001b[0m\n\u001b[0;32m----> 4\u001b[0;31m \u001b[0;32massert\u001b[0m \u001b[0md\u001b[0m \u001b[0;34m>\u001b[0m \u001b[0;36m5\u001b[0m\u001b[0;34m,\u001b[0m \u001b[0;34m\"Your number is less than 5 or equal to 5!\"\u001b[0m\u001b[0;34m\u001b[0m\u001b[0;34m\u001b[0m\u001b[0m\n\u001b[0m\u001b[1;32m      5\u001b[0m \u001b[0;32massert\u001b[0m \u001b[0md\u001b[0m \u001b[0;34m<\u001b[0m \u001b[0;36m14\u001b[0m\u001b[0;34m,\u001b[0m \u001b[0;34m\"Your number is more than 14 or equal to 14!\"\u001b[0m\u001b[0;34m\u001b[0m\u001b[0;34m\u001b[0m\u001b[0m\n\u001b[1;32m      6\u001b[0m \u001b[0mprint\u001b[0m\u001b[0;34m(\u001b[0m\u001b[0;34m\"Your number is\"\u001b[0m\u001b[0;34m,\u001b[0m \u001b[0md\u001b[0m\u001b[0;34m)\u001b[0m\u001b[0;34m\u001b[0m\u001b[0;34m\u001b[0m\u001b[0m\n",
      "\u001b[0;31mAssertionError\u001b[0m: Your number is less than 5 or equal to 5!"
     ]
    }
   ],
   "source": [
    "x = int(input(\"Enter the first number: \"))\n",
    "y = int(input(\"Enter the second number: \"))\n",
    "d = x / y\n",
    "assert d > 5, \"Your number is less than 5 or equal to 5!\"\n",
    "assert d < 14, \"Your number is more than 14 or equal to 14!\"\n",
    "print(\"Your number is\", d)"
   ]
  },
  {
   "cell_type": "code",
   "execution_count": 68,
   "id": "c551ad48-3235-4994-97ca-0d252199a5b2",
   "metadata": {},
   "outputs": [],
   "source": [
    "def even(x):\n",
    "    assert (x % 2) != 1\n",
    "    return x"
   ]
  },
  {
   "cell_type": "code",
   "execution_count": 74,
   "id": "6f2a33f9-6373-4b23-a9a4-5063f98e649c",
   "metadata": {},
   "outputs": [
    {
     "ename": "AssertionError",
     "evalue": "",
     "output_type": "error",
     "traceback": [
      "\u001b[0;31m---------------------------------------------------------------------------\u001b[0m",
      "\u001b[0;31mAssertionError\u001b[0m                            Traceback (most recent call last)",
      "\u001b[0;32m<ipython-input-74-1697075ea93e>\u001b[0m in \u001b[0;36m<module>\u001b[0;34m\u001b[0m\n\u001b[0;32m----> 1\u001b[0;31m \u001b[0meven\u001b[0m\u001b[0;34m(\u001b[0m\u001b[0;36m5\u001b[0m\u001b[0;34m)\u001b[0m\u001b[0;34m\u001b[0m\u001b[0;34m\u001b[0m\u001b[0m\n\u001b[0m",
      "\u001b[0;32m<ipython-input-68-7c6cd05b5629>\u001b[0m in \u001b[0;36meven\u001b[0;34m(x)\u001b[0m\n\u001b[1;32m      1\u001b[0m \u001b[0;32mdef\u001b[0m \u001b[0meven\u001b[0m\u001b[0;34m(\u001b[0m\u001b[0mx\u001b[0m\u001b[0;34m)\u001b[0m\u001b[0;34m:\u001b[0m\u001b[0;34m\u001b[0m\u001b[0;34m\u001b[0m\u001b[0m\n\u001b[0;32m----> 2\u001b[0;31m     \u001b[0;32massert\u001b[0m \u001b[0;34m(\u001b[0m\u001b[0mx\u001b[0m \u001b[0;34m%\u001b[0m \u001b[0;36m2\u001b[0m\u001b[0;34m)\u001b[0m \u001b[0;34m!=\u001b[0m \u001b[0;36m1\u001b[0m\u001b[0;34m\u001b[0m\u001b[0;34m\u001b[0m\u001b[0m\n\u001b[0m\u001b[1;32m      3\u001b[0m     \u001b[0;32mreturn\u001b[0m \u001b[0mx\u001b[0m\u001b[0;34m\u001b[0m\u001b[0;34m\u001b[0m\u001b[0m\n",
      "\u001b[0;31mAssertionError\u001b[0m: "
     ]
    }
   ],
   "source": [
    "even(5)"
   ]
  },
  {
   "cell_type": "code",
   "execution_count": 64,
   "id": "d1e47f50-e4a4-4980-988b-b5202d4c9c3b",
   "metadata": {},
   "outputs": [
    {
     "data": {
      "text/plain": [
       "0"
      ]
     },
     "execution_count": 64,
     "metadata": {},
     "output_type": "execute_result"
    }
   ],
   "source": [
    "6 % 2"
   ]
  },
  {
   "cell_type": "code",
   "execution_count": 78,
   "id": "4bab8d84-8ca8-47b5-af17-1ce2f2159fdf",
   "metadata": {},
   "outputs": [],
   "source": [
    "def bounds(x):\n",
    "    assert (x >= 50) and (x <= 70), \"Your number is wrong!\"\n",
    "    return x"
   ]
  },
  {
   "cell_type": "code",
   "execution_count": 82,
   "id": "aa4108b0-4c4b-496f-bba1-7e59894d1ac0",
   "metadata": {},
   "outputs": [
    {
     "ename": "AssertionError",
     "evalue": "Your number is wrong!",
     "output_type": "error",
     "traceback": [
      "\u001b[0;31m---------------------------------------------------------------------------\u001b[0m",
      "\u001b[0;31mAssertionError\u001b[0m                            Traceback (most recent call last)",
      "\u001b[0;32m<ipython-input-82-3d1048fef55d>\u001b[0m in \u001b[0;36m<module>\u001b[0;34m\u001b[0m\n\u001b[0;32m----> 1\u001b[0;31m \u001b[0mbounds\u001b[0m\u001b[0;34m(\u001b[0m\u001b[0;36m75\u001b[0m\u001b[0;34m)\u001b[0m\u001b[0;34m\u001b[0m\u001b[0;34m\u001b[0m\u001b[0m\n\u001b[0m",
      "\u001b[0;32m<ipython-input-78-c22cddecbbdf>\u001b[0m in \u001b[0;36mbounds\u001b[0;34m(x)\u001b[0m\n\u001b[1;32m      1\u001b[0m \u001b[0;32mdef\u001b[0m \u001b[0mbounds\u001b[0m\u001b[0;34m(\u001b[0m\u001b[0mx\u001b[0m\u001b[0;34m)\u001b[0m\u001b[0;34m:\u001b[0m\u001b[0;34m\u001b[0m\u001b[0;34m\u001b[0m\u001b[0m\n\u001b[0;32m----> 2\u001b[0;31m     \u001b[0;32massert\u001b[0m \u001b[0;34m(\u001b[0m\u001b[0mx\u001b[0m \u001b[0;34m>=\u001b[0m \u001b[0;36m50\u001b[0m\u001b[0;34m)\u001b[0m \u001b[0;32mand\u001b[0m \u001b[0;34m(\u001b[0m\u001b[0mx\u001b[0m \u001b[0;34m<=\u001b[0m \u001b[0;36m70\u001b[0m\u001b[0;34m)\u001b[0m\u001b[0;34m,\u001b[0m \u001b[0;34m\"Your number is wrong!\"\u001b[0m\u001b[0;34m\u001b[0m\u001b[0;34m\u001b[0m\u001b[0m\n\u001b[0m\u001b[1;32m      3\u001b[0m     \u001b[0;32mreturn\u001b[0m \u001b[0mx\u001b[0m\u001b[0;34m\u001b[0m\u001b[0;34m\u001b[0m\u001b[0m\n",
      "\u001b[0;31mAssertionError\u001b[0m: Your number is wrong!"
     ]
    }
   ],
   "source": [
    "bounds(75)"
   ]
  },
  {
   "cell_type": "markdown",
   "id": "067c2fed-7198-4f0c-93b6-3677ec1805f9",
   "metadata": {},
   "source": [
    "# Reading files"
   ]
  },
  {
   "cell_type": "code",
   "execution_count": 36,
   "id": "a4657a6d-6416-40d0-9902-a384e6aca2ca",
   "metadata": {},
   "outputs": [
    {
     "name": "stdout",
     "output_type": "stream",
     "text": [
      "36\n"
     ]
    }
   ],
   "source": [
    "i = 0\n",
    "file = open('hyperskill-dataset-48085777.txt', 'r')\n",
    "for line in file:\n",
    "    if line == 'summer\\n':\n",
    "        i += 1\n",
    "file.close()\n",
    "print(i)"
   ]
  },
  {
   "cell_type": "code",
   "execution_count": 2,
   "id": "05fac9ff-e325-4ee6-ad02-06362eb05f30",
   "metadata": {},
   "outputs": [
    {
     "name": "stdout",
     "output_type": "stream",
     "text": [
      "This\n",
      "is\n",
      "a\n",
      "\n"
     ]
    }
   ],
   "source": [
    "file = open(\"text.txt\", 'r')\n",
    "print(file.read(10))\n",
    "file.close()"
   ]
  },
  {
   "cell_type": "markdown",
   "id": "21cbd130-22f9-445d-ad95-77a9a93cd63e",
   "metadata": {},
   "source": [
    "# Scopes"
   ]
  },
  {
   "cell_type": "code",
   "execution_count": 42,
   "id": "ce57b0a6-f22c-4523-83d9-dbfab8f7bf79",
   "metadata": {},
   "outputs": [],
   "source": [
    "hero_damage = 100\n",
    "\n",
    "\n",
    "def double_damage():\n",
    "    global hero_damage\n",
    "    hero_damage = hero_damage * 2\n",
    "    return hero_damage\n",
    "\n",
    "\n",
    "def disarmed():\n",
    "    global hero_damage\n",
    "    hero_damage = round(hero_damage * 0.1)\n",
    "    return hero_damage\n",
    "\n",
    "\n",
    "def power_potion():\n",
    "    global hero_damage\n",
    "    hero_damage = hero_damage + 100\n",
    "    return hero_damage"
   ]
  },
  {
   "cell_type": "code",
   "execution_count": 43,
   "id": "5092cefb-7c82-41bc-b837-84e17c4ecfdd",
   "metadata": {},
   "outputs": [
    {
     "data": {
      "text/plain": [
       "200"
      ]
     },
     "execution_count": 43,
     "metadata": {},
     "output_type": "execute_result"
    }
   ],
   "source": [
    "double_damage()"
   ]
  },
  {
   "cell_type": "code",
   "execution_count": 44,
   "id": "2a4167f1-a06f-4335-8375-47dd219f5bc0",
   "metadata": {},
   "outputs": [
    {
     "data": {
      "text/plain": [
       "20"
      ]
     },
     "execution_count": 44,
     "metadata": {},
     "output_type": "execute_result"
    }
   ],
   "source": [
    "disarmed()"
   ]
  },
  {
   "cell_type": "code",
   "execution_count": 45,
   "id": "dd0e1715-2a41-45e1-bc5a-10148b88df82",
   "metadata": {},
   "outputs": [
    {
     "data": {
      "text/plain": [
       "120"
      ]
     },
     "execution_count": 45,
     "metadata": {},
     "output_type": "execute_result"
    }
   ],
   "source": [
    "power_potion()"
   ]
  },
  {
   "cell_type": "code",
   "execution_count": 46,
   "id": "8081691d-2d2b-4953-a476-f94408be0905",
   "metadata": {},
   "outputs": [
    {
     "name": "stdout",
     "output_type": "stream",
     "text": [
      "1\n",
      "3\n"
     ]
    }
   ],
   "source": [
    "x, y = 1, 2\n",
    "\n",
    "def foo():\n",
    "    global y\n",
    "    if y == 2:\n",
    "        x = 2\n",
    "        y = 1\n",
    "\n",
    "foo()\n",
    "print(x)\n",
    "if y == 1:\n",
    "    x = 3\n",
    "print(x)"
   ]
  },
  {
   "cell_type": "markdown",
   "id": "9565e049-57a4-4c56-a461-c77b8ba4a0b2",
   "metadata": {},
   "source": [
    "# Identity testing"
   ]
  },
  {
   "cell_type": "code",
   "execution_count": 2,
   "id": "7a29c08e-47a4-446b-a2a9-ac143795c2c3",
   "metadata": {},
   "outputs": [],
   "source": [
    "def find_my_list(all_lists, my_list):\n",
    "    for index, lst in enumerate(all_lists):\n",
    "        if my_list is lst:\n",
    "            return index"
   ]
  },
  {
   "cell_type": "code",
   "execution_count": 4,
   "id": "19b91ee9-7db2-4f5c-b77c-9455f091a85f",
   "metadata": {},
   "outputs": [
    {
     "name": "stdout",
     "output_type": "stream",
     "text": [
      "140457124847936\n",
      "140457124847936\n",
      "140457124847936\n",
      "True\n"
     ]
    }
   ],
   "source": [
    "a = [2, 3, 9]\n",
    "b = a\n",
    "b[2] = 10\n",
    "c = b\n",
    "\n",
    "print(id(a))\n",
    "print(id(b))\n",
    "print(id(c))\n",
    "\n",
    "print(a is c)"
   ]
  },
  {
   "cell_type": "code",
   "execution_count": 19,
   "id": "9d760866-7bee-424a-88ce-1a14d83f75b2",
   "metadata": {},
   "outputs": [],
   "source": [
    "def object_with_beautiful_identity():\n",
    "    for i in range(10_000):\n",
    "        if str(id(i)).endswith(\"888\"):\n",
    "            return i"
   ]
  },
  {
   "cell_type": "code",
   "execution_count": 20,
   "id": "fbfe549c-7927-48de-97c2-31089e6ab40e",
   "metadata": {},
   "outputs": [
    {
     "data": {
      "text/plain": [
       "72"
      ]
     },
     "execution_count": 20,
     "metadata": {},
     "output_type": "execute_result"
    }
   ],
   "source": [
    "object_with_beautiful_identity()"
   ]
  },
  {
   "cell_type": "code",
   "execution_count": 21,
   "id": "50667616-543a-48d5-b1f3-0a0c69436fcc",
   "metadata": {},
   "outputs": [],
   "source": [
    "a = 100\n",
    "b = 100\n",
    "c = 10000\n",
    "d = 10000"
   ]
  },
  {
   "cell_type": "code",
   "execution_count": 22,
   "id": "4fbda312-f1d4-4ee6-84c4-89b586ca1d0f",
   "metadata": {},
   "outputs": [
    {
     "data": {
      "text/plain": [
       "True"
      ]
     },
     "execution_count": 22,
     "metadata": {},
     "output_type": "execute_result"
    }
   ],
   "source": [
    "a is b"
   ]
  },
  {
   "cell_type": "code",
   "execution_count": 28,
   "id": "6fcd84bf-3d21-43ae-8a08-5303d7e89656",
   "metadata": {},
   "outputs": [],
   "source": [
    "def check_values(first_value, second_value):\n",
    "    if (bool(first_value) is True) and (bool(second_value) is True):\n",
    "        return True\n",
    "    else:\n",
    "        return False"
   ]
  },
  {
   "cell_type": "code",
   "execution_count": null,
   "id": "b40036a5-f867-4957-a821-90d31a5efefd",
   "metadata": {},
   "outputs": [],
   "source": [
    "def check_values(first_value, second_value):\n",
    "        return (bool(first_value) is True) and (bool(second_value) is True)"
   ]
  },
  {
   "cell_type": "markdown",
   "id": "dc42d01d-0a73-4a10-bb9e-59d44e1c6f41",
   "metadata": {},
   "source": [
    "# Operations with list"
   ]
  },
  {
   "cell_type": "code",
   "execution_count": 1,
   "id": "53600406-979d-4abe-89c9-ecb3894e8ca7",
   "metadata": {},
   "outputs": [
    {
     "name": "stdout",
     "output_type": "stream",
     "text": [
      "[0, 1, 2, 1, 2, 0]\n",
      "[0, 1, 1, 2, 0]\n",
      "[0, 1, 1, 2, 0, 1]\n",
      "[1, 1, 2, 0, 1]\n"
     ]
    }
   ],
   "source": [
    "my_list = [0, 1, 2, 1, 2]\n",
    "my_list.append(0)\n",
    "print(my_list)\n",
    "my_list.remove(2)\n",
    "print(my_list)\n",
    "my_list.append(1)\n",
    "print(my_list)\n",
    "my_list.remove(0)\n",
    "print(my_list)"
   ]
  },
  {
   "cell_type": "code",
   "execution_count": 2,
   "id": "06c4ebc8-6545-4a1e-8c48-dbc3629a116b",
   "metadata": {},
   "outputs": [
    {
     "name": "stdout",
     "output_type": "stream",
     "text": [
      "[2, 2, 4, 1, 3, 5]\n",
      "[2, 2, 4, 1, 3, 5, 0]\n",
      "[2, 2, 4, 1, 3, 5, 0, 7]\n",
      "[2, 2, 4, 1, 3, 0, 7]\n",
      "[2, 2, 4, 1, 3, 0, 7, 5]\n"
     ]
    }
   ],
   "source": [
    "numbers = [2, 2, 4, 1, 1, 3, 5]\n",
    "numbers.remove(1)\n",
    "print(numbers)\n",
    "numbers.extend([0])\n",
    "print(numbers)\n",
    "numbers.append(len(numbers))\n",
    "print(numbers)\n",
    "numbers.remove(5)\n",
    "print(numbers)\n",
    "numbers.append(5)\n",
    "print(numbers)"
   ]
  },
  {
   "cell_type": "markdown",
   "id": "cbd38624-a40a-4a24-bb81-dd44d5df09b4",
   "metadata": {},
   "source": [
    "# Tuple"
   ]
  },
  {
   "cell_type": "code",
   "execution_count": 7,
   "id": "701494e4-d1e9-497a-b138-516de40b0b4b",
   "metadata": {},
   "outputs": [
    {
     "data": {
      "text/plain": [
       "('c', 'o', 'r', 'g', 'i')"
      ]
     },
     "execution_count": 7,
     "metadata": {},
     "output_type": "execute_result"
    }
   ],
   "source": [
    "tuple(\"corgi\")\n"
   ]
  },
  {
   "cell_type": "code",
   "execution_count": 10,
   "id": "51361b1c-754a-459b-9a48-952d9b61d710",
   "metadata": {},
   "outputs": [
    {
     "name": "stdin",
     "output_type": "stream",
     "text": [
      " ddfddfdfd\n"
     ]
    },
    {
     "name": "stdout",
     "output_type": "stream",
     "text": [
      "('d', 'd', 'f', 'd', 'd', 'f', 'd', 'f', 'd')\n"
     ]
    }
   ],
   "source": [
    "alphabet = input()\n",
    "print(tuple(alphabet))"
   ]
  },
  {
   "cell_type": "code",
   "execution_count": 13,
   "id": "06ce6a8a-3d47-4dff-a0b7-5e48fd2833b8",
   "metadata": {},
   "outputs": [
    {
     "name": "stdout",
     "output_type": "stream",
     "text": [
      "('Atlantic', 'Pacific', 'Indian', 'Southern', 'Arctic')\n"
     ]
    }
   ],
   "source": [
    "oceans = ['Atlantic', 'Pacific', 'Indian', 'Southern', 'Arctic']\n",
    "oceans = tuple(oceans)\n",
    "print(oceans)"
   ]
  },
  {
   "cell_type": "code",
   "execution_count": 18,
   "id": "ceaa2870-352e-4177-be6c-5f06581a9667",
   "metadata": {},
   "outputs": [
    {
     "name": "stdin",
     "output_type": "stream",
     "text": [
      " dfdfdfd\n",
      " dfdfd\n"
     ]
    },
    {
     "data": {
      "text/plain": [
       "('dfdfdfd', 'dfdfd')"
      ]
     },
     "execution_count": 18,
     "metadata": {},
     "output_type": "execute_result"
    }
   ],
   "source": [
    "first_name = input()\n",
    "last_name = input()\n",
    "\n",
    "full_name = tuple([first_name,last_name])\n",
    "full_name"
   ]
  },
  {
   "cell_type": "code",
   "execution_count": 20,
   "id": "c32ced59-8fe8-4192-9ae2-3235f7d25000",
   "metadata": {},
   "outputs": [
    {
     "name": "stdin",
     "output_type": "stream",
     "text": [
      " 2 4 5 6 3 4 \n"
     ]
    },
    {
     "name": "stdout",
     "output_type": "stream",
     "text": [
      "4\n"
     ]
    }
   ],
   "source": [
    "numbers = tuple(int(n) for n in input().split())\n",
    "\n",
    "print(numbers[-1])"
   ]
  },
  {
   "cell_type": "markdown",
   "id": "f7795f60-d64a-41eb-b8fe-1db2dd40de82",
   "metadata": {},
   "source": [
    "# Dictionary"
   ]
  },
  {
   "cell_type": "code",
   "execution_count": 29,
   "id": "9a906d6c-b673-4c0d-8740-829b10bcd9a1",
   "metadata": {},
   "outputs": [],
   "source": [
    "children = {'Emily': 'artist', 'Adam': 'astronaut', 'Nancy': 'programmer'}"
   ]
  },
  {
   "cell_type": "code",
   "execution_count": 40,
   "id": "b41bb6bb-2b0d-4af1-b317-a5142dbe1051",
   "metadata": {},
   "outputs": [],
   "source": [
    "children['Emily'] = {'profession': 'artist', 'age': 5}\n",
    "children['Adam'] = {'profession': 'astronaut', 'age': 9}\n",
    "children['Nancy'] = {'profession': 'programmer', 'age': 14}"
   ]
  },
  {
   "cell_type": "code",
   "execution_count": 41,
   "id": "4ede797a-8bda-4343-b955-0ae910e96d9d",
   "metadata": {},
   "outputs": [
    {
     "data": {
      "text/plain": [
       "{'Emily': {'profession': 'artist', 'age': 5},\n",
       " 'Adam': {'profession': 'astronaut', 'age': 9},\n",
       " 'Nancy': {'profession': 'programmer', 'age': 14}}"
      ]
     },
     "execution_count": 41,
     "metadata": {},
     "output_type": "execute_result"
    }
   ],
   "source": [
    "children"
   ]
  },
  {
   "cell_type": "markdown",
   "id": "ce900883-8823-471e-9471-37a45fe9b866",
   "metadata": {},
   "source": [
    "## Dictionary methods"
   ]
  },
  {
   "cell_type": "code",
   "execution_count": 54,
   "id": "0810369d-3b47-44fa-9b04-f5bf3a109bd4",
   "metadata": {},
   "outputs": [],
   "source": [
    "meals = [\n",
    "        {\"title\": \"Oatmeal pancakes with apple and cinnamon\", \"kcal\": 370},\n",
    "        {\"title\": \"Italian salad with fusilli and ham\", \"kcal\": 320},\n",
    "        {\"title\": \"Bulgur with vegetables\", \"kcal\": 350},\n",
    "        {\"title\": \"Curd souffle with lingonberries and ginger\", \"kcal\": 225},\n",
    "        {\"title\": \"Oatmeal with honey and peanuts\", \"kcal\": 440}]"
   ]
  },
  {
   "cell_type": "code",
   "execution_count": 67,
   "id": "0eae178c-f5ba-44a9-b458-d17dda7462f6",
   "metadata": {},
   "outputs": [
    {
     "name": "stdout",
     "output_type": "stream",
     "text": [
      "1705\n"
     ]
    }
   ],
   "source": [
    "sum_cals = 0\n",
    "for kcals in meals:\n",
    "    sum_cals = sum_cals + kcals.get(\"kcal\")\n",
    "print(sum_cals)"
   ]
  },
  {
   "cell_type": "code",
   "execution_count": 84,
   "id": "6250ad85-af2f-4a0a-93aa-86668fe661d0",
   "metadata": {},
   "outputs": [
    {
     "name": "stdout",
     "output_type": "stream",
     "text": [
      "{'a': 'aa', 'b': 'bb', 'c': 'cc', 'd': 'dd', 'e': 'ee', 'f': 'ff', 'g': 'gg', 'h': 'hh', 'i': 'ii', 'j': 'jj', 'k': 'kk', 'l': 'll', 'm': 'mm', 'n': 'nn', 'o': 'oo', 'p': 'pp', 'q': 'qq', 'r': 'rr', 's': 'ss', 't': 'tt', 'u': 'uu', 'v': 'vv', 'w': 'ww', 'x': 'xx', 'y': 'yy', 'z': 'zz'}\n"
     ]
    }
   ],
   "source": [
    "from string import ascii_lowercase\n",
    "\n",
    "\n",
    "double_alphabet = dict.fromkeys(ascii_lowercase)\n",
    "#print(double_alphabet)\n",
    "\n",
    "for letter in ascii_lowercase:\n",
    "    double_alphabet[letter] = letter * 2\n",
    "print(double_alphabet) "
   ]
  },
  {
   "cell_type": "code",
   "execution_count": 86,
   "id": "d54d935b-27c3-444d-b509-57b2a2d57cde",
   "metadata": {},
   "outputs": [
    {
     "name": "stdout",
     "output_type": "stream",
     "text": [
      "{'name': 'Kate', 'age': 20, 'specialty': 'biology', 'degree': 'bachelor'}\n",
      "20\n",
      "biology\n",
      "('degree', 'bachelor')\n"
     ]
    }
   ],
   "source": [
    "student = {'name': 'Kate', 'age': 20, 'specialty': 'biology'}\n",
    "student.update(degree = 'bachelor')\n",
    "print(student)\n",
    "print(student.get('age'))\n",
    "print(student.pop('specialty'))\n",
    "print(student.popitem())"
   ]
  },
  {
   "cell_type": "code",
   "execution_count": 99,
   "id": "2c12b576-6e34-455b-bebf-682663e07c28",
   "metadata": {},
   "outputs": [
    {
     "name": "stdout",
     "output_type": "stream",
     "text": [
      "{'wife': 'Janet', \"wife's mother\": 'Katie', \"wife's father\": 'George', 'husband': 'Leon', \"husband's mother\": 'Eva', \"husband's father\": 'Gaspard', \"husband's sister\": 'Isabelle'}\n"
     ]
    }
   ],
   "source": [
    "first_family = {\"wife\": \"Janet\", \"wife's mother\": \"Katie\", \"wife's father\": \"George\"}\n",
    "second_family = {\"husband\": \"Leon\", \n",
    "                 \"husband's mother\": \"Eva\", \n",
    "                 \"husband's father\": \"Gaspard\", \n",
    "                 \"husband's sister\": \"Isabelle\"}\n",
    "first_family.update(second_family)\n",
    "print(first_family)"
   ]
  },
  {
   "cell_type": "code",
   "execution_count": 2,
   "id": "16c06127-789f-493f-8e3b-6d386d75fda4",
   "metadata": {},
   "outputs": [
    {
     "name": "stdin",
     "output_type": "stream",
     "text": [
      " Ace\n",
      " 4\n",
      " 9\n",
      " Jack\n",
      " 10\n",
      " 7\n"
     ]
    },
    {
     "name": "stdout",
     "output_type": "stream",
     "text": [
      "9.166666666666666\n"
     ]
    }
   ],
   "source": [
    "## (4+9+10+7+11+14) / 6\n",
    "'''\n",
    "Ace\n",
    "4\n",
    "9\n",
    "Jack\n",
    "10\n",
    "7\n",
    "'''\n",
    "\n",
    "face_cards = {'Jack':11, 'Queen': 12, 'King': 13, 'Ace': 14}\n",
    "cards_sum = 0 \n",
    "\n",
    "for _i in range(1, 7):\n",
    "    playing_card = input()\n",
    "    if playing_card in face_cards:\n",
    "        cards_sum = cards_sum + face_cards[playing_card]\n",
    "    else:\n",
    "        cards_sum = cards_sum + int(playing_card)\n",
    "print(cards_sum / 6)"
   ]
  },
  {
   "cell_type": "markdown",
   "id": "f6373c3d-5bf5-477f-838e-a0789c3831ba",
   "metadata": {},
   "source": [
    "# Arguments"
   ]
  },
  {
   "cell_type": "code",
   "execution_count": 46,
   "id": "98d19a60-8565-4470-ac9d-bebf13e45ce8",
   "metadata": {},
   "outputs": [],
   "source": [
    "def greeting(first_name, second_name):\n",
    "    print(\"Hello,\", first_name, \"and\", second_name)"
   ]
  },
  {
   "cell_type": "code",
   "execution_count": 48,
   "id": "54afbd34-7828-45e7-976f-7a8fe486c967",
   "metadata": {},
   "outputs": [
    {
     "name": "stdout",
     "output_type": "stream",
     "text": [
      "Hello, Sid and Nanci\n"
     ]
    }
   ],
   "source": [
    "greeting('Sid', 'Nanci')"
   ]
  },
  {
   "cell_type": "code",
   "execution_count": 49,
   "id": "4cfb6027-601f-4b1f-9990-fe958fba905f",
   "metadata": {},
   "outputs": [
    {
     "name": "stdout",
     "output_type": "stream",
     "text": [
      "Hello, Nanci and Sid\n"
     ]
    }
   ],
   "source": [
    "greeting('Nanci', 'Sid')"
   ]
  },
  {
   "cell_type": "code",
   "execution_count": 63,
   "id": "e47ef0cd-2a4d-444a-8a0b-f664175da2b0",
   "metadata": {},
   "outputs": [],
   "source": [
    "def equation_writing(a, b, c):\n",
    "    print(str(a) + ' x + ' + str(b) + ' = '+str(c))"
   ]
  },
  {
   "cell_type": "code",
   "execution_count": 64,
   "id": "e46cc4b3-ee31-46b8-bcc4-476fd750ce52",
   "metadata": {},
   "outputs": [
    {
     "name": "stdout",
     "output_type": "stream",
     "text": [
      "3 x + 4 = 3\n"
     ]
    }
   ],
   "source": [
    "equation_writing(3, 4, 3)"
   ]
  },
  {
   "cell_type": "markdown",
   "id": "f4a32e11-5d21-455b-be91-79e597dd636a",
   "metadata": {},
   "source": [
    "# Indexing"
   ]
  },
  {
   "cell_type": "code",
   "execution_count": 78,
   "id": "825b56dd-b59d-4eb8-bcc9-d793a05b9787",
   "metadata": {},
   "outputs": [
    {
     "name": "stdin",
     "output_type": "stream",
     "text": [
      " banana\n"
     ]
    },
    {
     "name": "stdout",
     "output_type": "stream",
     "text": [
      "Not palindrome\n"
     ]
    }
   ],
   "source": [
    "word = input()\n",
    "\n",
    "if word == word[::-1]:\n",
    "    print('Palindrome')\n",
    "else:\n",
    "    print('Not palindrome')"
   ]
  },
  {
   "cell_type": "markdown",
   "id": "1b0ea8c6-cbd2-49dd-8fe7-71927702ef79",
   "metadata": {},
   "source": [
    "# Program with numbers"
   ]
  },
  {
   "cell_type": "code",
   "execution_count": 116,
   "id": "5f98e9b2-5aa8-4fef-97a5-c19267481244",
   "metadata": {},
   "outputs": [
    {
     "name": "stdin",
     "output_type": "stream",
     "text": [
      " 543\n"
     ]
    },
    {
     "name": "stdout",
     "output_type": "stream",
     "text": [
      "12\n"
     ]
    }
   ],
   "source": [
    "num = int(input())\n",
    "a = num // 100\n",
    "b = (num // 10) % 10\n",
    "c = num % 10\n",
    "print(a + b + c)"
   ]
  },
  {
   "cell_type": "markdown",
   "id": "f60da0c9-111b-4f38-838f-780079e744e6",
   "metadata": {},
   "source": [
    "# Lambda functions"
   ]
  },
  {
   "cell_type": "code",
   "execution_count": 69,
   "id": "9d80edbc-770a-4473-bd6b-94227f6123f3",
   "metadata": {},
   "outputs": [
    {
     "ename": "SyntaxError",
     "evalue": "invalid syntax (<ipython-input-69-5ebb052b46fa>, line 5)",
     "output_type": "error",
     "traceback": [
      "\u001b[0;36m  File \u001b[0;32m\"<ipython-input-69-5ebb052b46fa>\"\u001b[0;36m, line \u001b[0;32m5\u001b[0m\n\u001b[0;31m    lambda x:\u001b[0m\n\u001b[0m             ^\u001b[0m\n\u001b[0;31mSyntaxError\u001b[0m\u001b[0;31m:\u001b[0m invalid syntax\n"
     ]
    }
   ],
   "source": [
    "# Теранарный оператор с лямда функцией\n",
    "\n",
    "# Yes\n",
    "lambda x: 'even' if x % 2 == 0 else 'odd'\n",
    "\n",
    "# No\n",
    "lambda x:\n",
    "    if x % 2 == 0:\n",
    "        return 'even'\n",
    "    else:\n",
    "        return 'odd'"
   ]
  },
  {
   "cell_type": "code",
   "execution_count": 70,
   "id": "225db6ef-0d45-48b6-92da-bd96ab52114d",
   "metadata": {},
   "outputs": [],
   "source": [
    "def create_function(n):\n",
    "    return lambda x: x % n"
   ]
  },
  {
   "cell_type": "code",
   "execution_count": 79,
   "id": "903e6fd4-41f8-4e6c-be47-892572b75cb0",
   "metadata": {},
   "outputs": [
    {
     "data": {
      "text/plain": [
       "<function __main__.create_function.<locals>.<lambda>(x)>"
      ]
     },
     "execution_count": 79,
     "metadata": {},
     "output_type": "execute_result"
    }
   ],
   "source": [
    "x = 2\n",
    "create_function(10)"
   ]
  },
  {
   "cell_type": "code",
   "execution_count": 3,
   "id": "1df973bc-7786-4756-9d97-880082330fb5",
   "metadata": {},
   "outputs": [
    {
     "data": {
      "text/plain": [
       "9"
      ]
     },
     "execution_count": 3,
     "metadata": {},
     "output_type": "execute_result"
    }
   ],
   "source": [
    "a = 1\n",
    "b = 2\n",
    "c = 3\n",
    "(lambda a, b ,c: (a + b) * c) (a, b, c)"
   ]
  },
  {
   "cell_type": "code",
   "execution_count": 4,
   "id": "47282b04-90df-4736-81a9-332aa6283317",
   "metadata": {},
   "outputs": [
    {
     "name": "stdout",
     "output_type": "stream",
     "text": [
      "20\n"
     ]
    }
   ],
   "source": [
    "print((lambda x, y, z: x**2 + y**2 - z)(3, 4, 5))"
   ]
  },
  {
   "cell_type": "markdown",
   "id": "c608fca9-cd23-4b99-956b-3f47236cd949",
   "metadata": {},
   "source": [
    "# Functional decomposition"
   ]
  },
  {
   "cell_type": "code",
   "execution_count": null,
   "id": "22aa93f3-adc2-4037-8707-f07e12dc029d",
   "metadata": {},
   "outputs": [],
   "source": [
    "def calculate_linear(k, b, x):\n",
    "    y = k * x + b\n",
    "    common_part(y)\n",
    "    return y\n",
    "\n",
    "\n",
    "def calculate_quadratic(a, b, c, x):\n",
    "    y = (a * x * x) + (b * x) + c\n",
    "    common_part(y)\n",
    "    return y\n",
    "\n",
    "def common_part(y):\n",
    "    print(\"Value of the function equals\", y)"
   ]
  },
  {
   "attachments": {
    "f6052532-c286-4134-ad9f-a22294cbbb85.png": {
     "image/png": "[encoded data removed]"
    }
   },
   "cell_type": "markdown",
   "id": "5e544ed9-3ec9-4873-820b-4e7d656bc6a7",
   "metadata": {},
   "source": [
    "![Screenshot 2021-11-12 at 11.30.51.png](attachment:f6052532-c286-4134-ad9f-a22294cbbb85.png)"
   ]
  },
  {
   "cell_type": "code",
   "execution_count": 12,
   "id": "be95318e-189e-40c5-b3cf-e87283618f20",
   "metadata": {},
   "outputs": [],
   "source": [
    "def f1(x):\n",
    "    return x ** 2 + 1\n",
    "\n",
    "\n",
    "def f2(x):\n",
    "    return 1 / x ** 2\n",
    "\n",
    "\n",
    "def f3(x):\n",
    "    return x ** 2 - 1\n",
    "\n",
    "\n",
    "def f(x):\n",
    "    if x <= 0:\n",
    "        return f1(x) \n",
    "    elif 0 < x < 1:\n",
    "        return f2(x)\n",
    "    else:\n",
    "        return f3(x)"
   ]
  },
  {
   "cell_type": "code",
   "execution_count": 14,
   "id": "3dcee00c-8821-4aaf-8a85-2c1d1c531481",
   "metadata": {},
   "outputs": [
    {
     "data": {
      "text/plain": [
       "99.99999999999999"
      ]
     },
     "execution_count": 14,
     "metadata": {},
     "output_type": "execute_result"
    }
   ],
   "source": [
    "f(0.1)"
   ]
  },
  {
   "cell_type": "code",
   "execution_count": 22,
   "id": "c967a302-696d-46a7-b0ef-3f825deac16b",
   "metadata": {},
   "outputs": [],
   "source": [
    "def fahrenheit_to_celsius(temps_f):\n",
    "    temps_c = (temps_f - 32) * 5 / 9\n",
    "    return round(temps_c, 2)\n",
    "\n",
    "\n",
    "def celsius_to_fahrenheit(temps_c):\n",
    "    temps_f = temps_c * 9 / 5 + 32\n",
    "    return round(temps_f, 2)\n",
    "\n",
    "\n",
    "def main():\n",
    "    \"\"\"Entry point of the program.\"\"\"\n",
    "    temperature, unit = input().split()\n",
    "    temperature = float(temperature)\n",
    "    if unit == 'F':\n",
    "        return print(fahrenheit_to_celsius(temperature), 'C')\n",
    "    elif unit == 'C':\n",
    "        return print(celsius_to_fahrenheit(temperature), 'F')"
   ]
  },
  {
   "cell_type": "code",
   "execution_count": 24,
   "id": "3797bde2-7924-45f9-b899-10f94c8e6789",
   "metadata": {},
   "outputs": [
    {
     "name": "stdin",
     "output_type": "stream",
     "text": [
      " 451 F\n"
     ]
    },
    {
     "name": "stdout",
     "output_type": "stream",
     "text": [
      "232.78 C\n"
     ]
    }
   ],
   "source": [
    "main()"
   ]
  },
  {
   "attachments": {
    "d6830100-8629-47cd-8a62-e7eae9dc9ef0.png": {
     "image/png": "[encoded data removed]"
    }
   },
   "cell_type": "markdown",
   "id": "e6fe5c64-5c0a-4486-8ecb-a5c2a2af12de",
   "metadata": {},
   "source": [
    "![Screenshot 2021-11-12 at 11.53.37.png](attachment:d6830100-8629-47cd-8a62-e7eae9dc9ef0.png)"
   ]
  },
  {
   "cell_type": "code",
   "execution_count": 41,
   "id": "ab9829c3-e449-44c3-916e-b05fc972cbc1",
   "metadata": {},
   "outputs": [],
   "source": [
    "def calculate(amount, interest_rate, time):\n",
    "    interest = amount * interest_rate * time / 100\n",
    "    total_amount = interest + amount\n",
    "    return interest, total_amount\n",
    "\n",
    "def print_result(interest, total_amount):\n",
    "    massage = '''\\\n",
    "The interest is: {interest}\n",
    "The total amount is: {total_amount}\\\n",
    "    '''.format(interest=interest, total_amount=total_amount)\n",
    "    return print(massage)"
   ]
  },
  {
   "cell_type": "code",
   "execution_count": 42,
   "id": "748827a1-5fab-45db-844e-22319a401f20",
   "metadata": {},
   "outputs": [],
   "source": [
    "calculate =  calculate(1000, 8, 5)"
   ]
  },
  {
   "cell_type": "code",
   "execution_count": 43,
   "id": "800f01a8-9780-4427-9dd4-c30996a6fc5d",
   "metadata": {},
   "outputs": [
    {
     "name": "stdout",
     "output_type": "stream",
     "text": [
      "The interest is: 400.0\n",
      "The total amount is: 1400.0    \n"
     ]
    }
   ],
   "source": [
    "print_result(calculate[0], calculate[1])"
   ]
  },
  {
   "cell_type": "code",
   "execution_count": 53,
   "id": "17939c65-3603-449d-9334-46f07ad1b80b",
   "metadata": {},
   "outputs": [],
   "source": [
    "\"\"\"\n",
    "name1 = \"John\"\n",
    "last_name1 = \"Lennon\"\n",
    "full_name1 = name1 + \" \" + last_name1\n",
    "\n",
    "        \n",
    "name2 = \"Hermione\"\n",
    "last_name2 = \"Granger\"\n",
    "full_name2 = name2 + \" \" + last_name2\n",
    "\"\"\"\n",
    "\n",
    "def create_full_name(name, last_name):\n",
    "    full_name = name + \" \" + last_name\n",
    "    return full_name\n",
    "    \n",
    "    "
   ]
  },
  {
   "cell_type": "code",
   "execution_count": null,
   "id": "67cfcae2-6185-48c9-8910-37c79662eea5",
   "metadata": {},
   "outputs": [],
   "source": []
  }
 ],
 "metadata": {
  "kernelspec": {
   "display_name": "Python 3",
   "language": "python",
   "name": "python3"
  },
  "language_info": {
   "codemirror_mode": {
    "name": "ipython",
    "version": 3
   },
   "file_extension": ".py",
   "mimetype": "text/x-python",
   "name": "python",
   "nbconvert_exporter": "python",
   "pygments_lexer": "ipython3",
   "version": "3.8.8"
  },
  "toc-autonumbering": false,
  "toc-showcode": false,
  "toc-showmarkdowntxt": false
 },
 "nbformat": 4,
 "nbformat_minor": 5
}
