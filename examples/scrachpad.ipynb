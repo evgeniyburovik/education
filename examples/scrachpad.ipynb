{
 "cells": [
  {
   "cell_type": "markdown",
   "id": "7d9c3cdd-c781-4a7b-b5b8-6ecaa07399fd",
   "metadata": {},
   "source": [
    "# Циклы"
   ]
  },
  {
   "cell_type": "markdown",
   "id": "a58d999a-60ad-4e02-b3c7-d0eb0354cb57",
   "metadata": {},
   "source": [
    "## while"
   ]
  },
  {
   "cell_type": "code",
   "execution_count": 1,
   "id": "66226467-c18a-493a-aeb9-b33899f135bf",
   "metadata": {},
   "outputs": [
    {
     "name": "stdin",
     "output_type": "stream",
     "text": [
      " 345555\n"
     ]
    },
    {
     "name": "stdout",
     "output_type": "stream",
     "text": [
      "8\n"
     ]
    }
   ],
   "source": [
    "PERCENT = 0.1\n",
    "depozit = int(input())\n",
    "depozit_hight = 0\n",
    "year_count = 0\n",
    "while depozit_hight <= 700000:\n",
    "    depozit_hight = (depozit * PERCENT) + depozit\n",
    "    depozit = depozit_hight\n",
    "    year_count += 1\n",
    "print(year_count)"
   ]
  },
  {
   "cell_type": "code",
   "execution_count": 11,
   "id": "5da6afc5-6952-456f-81bb-0f77b0e9e4a9",
   "metadata": {},
   "outputs": [
    {
     "name": "stdin",
     "output_type": "stream",
     "text": [
      " Paws 11\n"
     ]
    },
    {
     "name": "stdout",
     "output_type": "stream",
     "text": [
      "['Paws', '11']\n"
     ]
    },
    {
     "name": "stdin",
     "output_type": "stream",
     "text": [
      " Kittens 9\n"
     ]
    },
    {
     "name": "stdout",
     "output_type": "stream",
     "text": [
      "['Kittens', '9']\n"
     ]
    },
    {
     "name": "stdin",
     "output_type": "stream",
     "text": [
      " MEOW\n"
     ]
    },
    {
     "name": "stdout",
     "output_type": "stream",
     "text": [
      "Paws\n"
     ]
    }
   ],
   "source": [
    "\"\"\" \n",
    "Paws 11\n",
    "['Paws', '11']\n",
    " Kittens 9\n",
    "['Kittens', '9']\n",
    " MEOW\n",
    "Paws\n",
    "\n",
    "\"\"\"\n",
    "STOP = 'MEOW'\n",
    "cafe_name_counts = {}\n",
    "input_cafe = ''\n",
    "while STOP != input_cafe:\n",
    "    input_cafe = input()\n",
    "    if  input_cafe == STOP:\n",
    "        break\n",
    "    cafe = input_cafe.split()\n",
    "    print(cafe)\n",
    "    cafe_name_counts[cafe[0]] = int(cafe[1])\n",
    "print(max(cafe_name_counts, key=cafe_name_counts.get))"
   ]
  },
  {
   "cell_type": "code",
   "execution_count": 10,
   "id": "d9636a18-dd0a-4a68-881d-565e4b5ce1d8",
   "metadata": {},
   "outputs": [
    {
     "name": "stdin",
     "output_type": "stream",
     "text": [
      " 149\n"
     ]
    },
    {
     "name": "stdout",
     "output_type": "stream",
     "text": [
      "This number is prime\n"
     ]
    }
   ],
   "source": [
    "def is_prime(n):\n",
    "    i = 2\n",
    "    while i < n:\n",
    "        if n%i == 0:\n",
    "            return False\n",
    "        i += 1\n",
    "    if n == 1:\n",
    "        return False\n",
    "    return True\n",
    "n = int(input())\n",
    "if is_prime(n) == True:\n",
    "    print('This number is prime')\n",
    "else:\n",
    "    print('This number is not prime')"
   ]
  },
  {
   "cell_type": "code",
   "execution_count": 8,
   "id": "6267ee4d-91c1-4b26-91ec-c4159563024f",
   "metadata": {},
   "outputs": [
    {
     "name": "stdin",
     "output_type": "stream",
     "text": [
      " 1\n",
      " 2\n",
      " 3\n",
      " 4\n",
      " 55\n"
     ]
    },
    {
     "name": "stdout",
     "output_type": "stream",
     "text": [
      "4\n",
      "10\n",
      "2\n"
     ]
    }
   ],
   "source": [
    "num = 0\n",
    "num_count = 0\n",
    "num_sum = 0\n",
    "\n",
    "while num != 55:\n",
    "    num = int(input())\n",
    "    if num != 55:\n",
    "        num_count += 1\n",
    "        num_sum += num\n",
    "\n",
    "print(num_count)\n",
    "print(num_sum)\n",
    "print(round(num_sum / num_count))"
   ]
  },
  {
   "cell_type": "markdown",
   "id": "238f6c31-1b6b-47c7-8410-0f3150f2d712",
   "metadata": {},
   "source": [
    "## for"
   ]
  },
  {
   "cell_type": "code",
   "execution_count": 5,
   "id": "051c173a-0b0b-4e2b-b525-e668952e6319",
   "metadata": {},
   "outputs": [
    {
     "name": "stdin",
     "output_type": "stream",
     "text": [
      " 3\n",
      " 3\n",
      " 3\n",
      " 3\n"
     ]
    }
   ],
   "source": [
    "nums_init = int(input())\n",
    "for _i in range(nums_init):\n",
    "    num = int(input())\n",
    "    if num % 7 == 0:\n",
    "        num = num ** 2\n",
    "        print(num)"
   ]
  },
  {
   "cell_type": "markdown",
   "id": "6422ffbe-78ef-4027-a564-52277e85538e",
   "metadata": {},
   "source": [
    "# Ветвление"
   ]
  },
  {
   "cell_type": "code",
   "execution_count": 2,
   "id": "79d3947f-4b11-4b0e-a1c7-b770f1f1db5e",
   "metadata": {},
   "outputs": [
    {
     "name": "stdin",
     "output_type": "stream",
     "text": [
      " 3\n",
      " 40\n",
      " 120\n"
     ]
    },
    {
     "name": "stdout",
     "output_type": "stream",
     "text": [
      "True\n"
     ]
    }
   ],
   "source": [
    "number_of_halls = int(input())\n",
    "capacity = int(input())\n",
    "number_viewers = int(input())\n",
    "if capacity == 0:\n",
    "    print(False)\n",
    "else:\n",
    "    must_halls = number_viewers / capacity\n",
    "    print(must_halls <= number_of_halls)"
   ]
  },
  {
   "cell_type": "markdown",
   "id": "94c80958-e4d7-4e1c-86ef-91c06ac210a1",
   "metadata": {},
   "source": [
    "# Split | Join"
   ]
  },
  {
   "cell_type": "code",
   "execution_count": 15,
   "id": "2d8e4775-cca0-4460-b764-cecc6405a2b8",
   "metadata": {},
   "outputs": [
    {
     "name": "stdin",
     "output_type": "stream",
     "text": [
      " 1 2 3\n"
     ]
    },
    {
     "name": "stdout",
     "output_type": "stream",
     "text": [
      "3 2 1\n"
     ]
    }
   ],
   "source": [
    "\"\"\"\n",
    "\n",
    " 1 2 3\n",
    " \n",
    "\"\"\"\n",
    "num = input()\n",
    "num = num.split()\n",
    "print(\" \".join(num[::-1]))"
   ]
  },
  {
   "cell_type": "code",
   "execution_count": 2,
   "id": "ae4081b9-3a1c-4b08-88a6-fc6161a1214d",
   "metadata": {},
   "outputs": [
    {
     "name": "stdout",
     "output_type": "stream",
     "text": [
      "1\n",
      "22\n",
      "333\n",
      "4444\n",
      "55555\n"
     ]
    }
   ],
   "source": [
    "random_numbers = ['1', '22', '333', '4444', '55555']\n",
    "print(\"\\n\".join(random_numbers))"
   ]
  },
  {
   "cell_type": "markdown",
   "id": "218a3064-f390-499d-8fab-c2a0d46cb3c1",
   "metadata": {},
   "source": [
    "# Moduls"
   ]
  },
  {
   "cell_type": "code",
   "execution_count": 8,
   "id": "8140e6cb-b0e3-42a9-92ca-fdf93e600bcf",
   "metadata": {},
   "outputs": [
    {
     "name": "stdin",
     "output_type": "stream",
     "text": [
      " eeeee.  eeeee.  eee\n"
     ]
    },
    {
     "name": "stdout",
     "output_type": "stream",
     "text": [
      "Eeeee. Eeeee. Eee\n"
     ]
    }
   ],
   "source": [
    "from string import capwords\n",
    "\n",
    "# don't modify this code or the variable may not be available\n",
    "input_string = input()\n",
    "\n",
    "# use capwords() here\n",
    "print(capwords(input_string))"
   ]
  },
  {
   "cell_type": "code",
   "execution_count": 13,
   "id": "da316b12-b6f4-4119-a179-3616811582f4",
   "metadata": {},
   "outputs": [
    {
     "name": "stdin",
     "output_type": "stream",
     "text": [
      " 56.0000 -89.000\n"
     ]
    },
    {
     "name": "stdout",
     "output_type": "stream",
     "text": [
      "-56.0\n"
     ]
    }
   ],
   "source": [
    "# place `import` statement at top of the program\n",
    "from math import copysign\n",
    "\n",
    "# don't modify this code or the variables may not be available\n",
    "x, y = map(float, input().split(' '))\n",
    "print(copysign(x, y))"
   ]
  },
  {
   "cell_type": "code",
   "execution_count": 20,
   "id": "82d3c1ed-dc05-418c-a9fe-f790af25399c",
   "metadata": {},
   "outputs": [
    {
     "name": "stdin",
     "output_type": "stream",
     "text": [
      " 8\n"
     ]
    },
    {
     "name": "stdout",
     "output_type": "stream",
     "text": [
      "40320\n"
     ]
    }
   ],
   "source": [
    "from math import factorial \n",
    "# don't modify this code or variable `x` may not be available\n",
    "x = int(input())\n",
    "\n",
    "# use factorial() here\n",
    "print(factorial(x))"
   ]
  },
  {
   "cell_type": "code",
   "execution_count": 22,
   "id": "067a2640-2ac8-4370-bc22-439246830f86",
   "metadata": {},
   "outputs": [
    {
     "name": "stdout",
     "output_type": "stream",
     "text": [
      "0123456789\n",
      "abcdefghijklmnopqrstuvwxyz\n"
     ]
    }
   ],
   "source": [
    "from string import digits\n",
    "from string import ascii_lowercase\n",
    "\n",
    "print(digits)\n",
    "print(ascii_lowercase)"
   ]
  },
  {
   "cell_type": "markdown",
   "id": "64d82a2c-38bf-4e3c-b9a6-503b1ddfd7b4",
   "metadata": {},
   "source": [
    "# Built-in exceptions"
   ]
  },
  {
   "cell_type": "code",
   "execution_count": 30,
   "id": "b4f9aa00-4bce-4a1e-ad00-f39c459ea292",
   "metadata": {},
   "outputs": [
    {
     "data": {
      "text/plain": [
       "['ArithmeticError',\n",
       " 'AssertionError',\n",
       " 'AttributeError',\n",
       " 'BaseException',\n",
       " 'BlockingIOError',\n",
       " 'BrokenPipeError',\n",
       " 'BufferError',\n",
       " 'BytesWarning',\n",
       " 'ChildProcessError',\n",
       " 'ConnectionAbortedError',\n",
       " 'ConnectionError',\n",
       " 'ConnectionRefusedError',\n",
       " 'ConnectionResetError',\n",
       " 'DeprecationWarning',\n",
       " 'EOFError',\n",
       " 'Ellipsis',\n",
       " 'EnvironmentError',\n",
       " 'Exception',\n",
       " 'False',\n",
       " 'FileExistsError',\n",
       " 'FileNotFoundError',\n",
       " 'FloatingPointError',\n",
       " 'FutureWarning',\n",
       " 'GeneratorExit',\n",
       " 'IOError',\n",
       " 'ImportError',\n",
       " 'ImportWarning',\n",
       " 'IndentationError',\n",
       " 'IndexError',\n",
       " 'InterruptedError',\n",
       " 'IsADirectoryError',\n",
       " 'KeyError',\n",
       " 'KeyboardInterrupt',\n",
       " 'LookupError',\n",
       " 'MemoryError',\n",
       " 'ModuleNotFoundError',\n",
       " 'NameError',\n",
       " 'None',\n",
       " 'NotADirectoryError',\n",
       " 'NotImplemented',\n",
       " 'NotImplementedError',\n",
       " 'OSError',\n",
       " 'OverflowError',\n",
       " 'PendingDeprecationWarning',\n",
       " 'PermissionError',\n",
       " 'ProcessLookupError',\n",
       " 'RecursionError',\n",
       " 'ReferenceError',\n",
       " 'ResourceWarning',\n",
       " 'RuntimeError',\n",
       " 'RuntimeWarning',\n",
       " 'StopAsyncIteration',\n",
       " 'StopIteration',\n",
       " 'SyntaxError',\n",
       " 'SyntaxWarning',\n",
       " 'SystemError',\n",
       " 'SystemExit',\n",
       " 'TabError',\n",
       " 'TimeoutError',\n",
       " 'True',\n",
       " 'TypeError',\n",
       " 'UnboundLocalError',\n",
       " 'UnicodeDecodeError',\n",
       " 'UnicodeEncodeError',\n",
       " 'UnicodeError',\n",
       " 'UnicodeTranslateError',\n",
       " 'UnicodeWarning',\n",
       " 'UserWarning',\n",
       " 'ValueError',\n",
       " 'Warning',\n",
       " 'ZeroDivisionError',\n",
       " '__IPYTHON__',\n",
       " '__build_class__',\n",
       " '__debug__',\n",
       " '__doc__',\n",
       " '__import__',\n",
       " '__loader__',\n",
       " '__name__',\n",
       " '__package__',\n",
       " '__spec__',\n",
       " 'abs',\n",
       " 'all',\n",
       " 'any',\n",
       " 'ascii',\n",
       " 'bin',\n",
       " 'bool',\n",
       " 'breakpoint',\n",
       " 'bytearray',\n",
       " 'bytes',\n",
       " 'callable',\n",
       " 'chr',\n",
       " 'classmethod',\n",
       " 'compile',\n",
       " 'complex',\n",
       " 'copyright',\n",
       " 'credits',\n",
       " 'delattr',\n",
       " 'dict',\n",
       " 'dir',\n",
       " 'display',\n",
       " 'divmod',\n",
       " 'enumerate',\n",
       " 'eval',\n",
       " 'exec',\n",
       " 'filter',\n",
       " 'float',\n",
       " 'format',\n",
       " 'frozenset',\n",
       " 'get_ipython',\n",
       " 'getattr',\n",
       " 'globals',\n",
       " 'hasattr',\n",
       " 'hash',\n",
       " 'help',\n",
       " 'hex',\n",
       " 'id',\n",
       " 'input',\n",
       " 'int',\n",
       " 'isinstance',\n",
       " 'issubclass',\n",
       " 'iter',\n",
       " 'len',\n",
       " 'license',\n",
       " 'list',\n",
       " 'locals',\n",
       " 'map',\n",
       " 'max',\n",
       " 'memoryview',\n",
       " 'min',\n",
       " 'next',\n",
       " 'object',\n",
       " 'oct',\n",
       " 'open',\n",
       " 'ord',\n",
       " 'pow',\n",
       " 'print',\n",
       " 'property',\n",
       " 'range',\n",
       " 'repr',\n",
       " 'reversed',\n",
       " 'round',\n",
       " 'set',\n",
       " 'setattr',\n",
       " 'slice',\n",
       " 'sorted',\n",
       " 'staticmethod',\n",
       " 'str',\n",
       " 'sum',\n",
       " 'super',\n",
       " 'tuple',\n",
       " 'type',\n",
       " 'vars',\n",
       " 'zip']"
      ]
     },
     "execution_count": 30,
     "metadata": {},
     "output_type": "execute_result"
    }
   ],
   "source": [
    "dir(locals()['__builtins__'])"
   ]
  },
  {
   "cell_type": "code",
   "execution_count": 34,
   "id": "4f7fe141-9dc3-47d1-85ac-105b9b44fcbc",
   "metadata": {},
   "outputs": [
    {
     "name": "stdin",
     "output_type": "stream",
     "text": [
      " 23\n"
     ]
    },
    {
     "ename": "TypeError",
     "evalue": "'>' not supported between instances of 'str' and 'int'",
     "output_type": "error",
     "traceback": [
      "\u001b[0;31m---------------------------------------------------------------------------\u001b[0m",
      "\u001b[0;31mTypeError\u001b[0m                                 Traceback (most recent call last)",
      "\u001b[0;32m<ipython-input-34-f454652ee192>\u001b[0m in \u001b[0;36m<module>\u001b[0;34m\u001b[0m\n\u001b[1;32m      1\u001b[0m \u001b[0mage\u001b[0m \u001b[0;34m=\u001b[0m \u001b[0minput\u001b[0m\u001b[0;34m(\u001b[0m\u001b[0;34m)\u001b[0m                                           \u001b[0;31m# line 1\u001b[0m\u001b[0;34m\u001b[0m\u001b[0;34m\u001b[0m\u001b[0m\n\u001b[0;32m----> 2\u001b[0;31m \u001b[0;32mif\u001b[0m \u001b[0mage\u001b[0m \u001b[0;34m>\u001b[0m \u001b[0;36m14\u001b[0m\u001b[0;34m:\u001b[0m                                            \u001b[0;31m# line 2\u001b[0m\u001b[0;34m\u001b[0m\u001b[0;34m\u001b[0m\u001b[0m\n\u001b[0m\u001b[1;32m      3\u001b[0m     \u001b[0mprint\u001b[0m\u001b[0;34m(\u001b[0m\u001b[0;34m'Yes, you are allowed to watch this film!'\u001b[0m\u001b[0;34m)\u001b[0m   \u001b[0;31m# line 3\u001b[0m\u001b[0;34m\u001b[0m\u001b[0;34m\u001b[0m\u001b[0m\n",
      "\u001b[0;31mTypeError\u001b[0m: '>' not supported between instances of 'str' and 'int'"
     ]
    }
   ],
   "source": [
    "age = input()                                           # line 1\n",
    "if age > 14:                                            # line 2\n",
    "    print('Yes, you are allowed to watch this film!')   # line 3"
   ]
  },
  {
   "cell_type": "markdown",
   "id": "26fba545-4e46-4051-bc8e-61c6f518b06b",
   "metadata": {},
   "source": [
    "# Exception handling"
   ]
  },
  {
   "cell_type": "code",
   "execution_count": 37,
   "id": "17e6475e-4ce2-4be9-8748-3c700deaede5",
   "metadata": {},
   "outputs": [
    {
     "name": "stdin",
     "output_type": "stream",
     "text": [
      " Евгений Игоревич Буровик\n"
     ]
    },
    {
     "name": "stdout",
     "output_type": "stream",
     "text": [
      "You need to enter exactly 2 words. Try again!\n"
     ]
    }
   ],
   "source": [
    "try:\n",
    "    name, surname = input().split()\n",
    "except ValueError:\n",
    "    print(\"You need to enter exactly 2 words. Try again!\")\n",
    "else:\n",
    "    print(\"Welcome to our party, \" + name, surname)"
   ]
  },
  {
   "cell_type": "code",
   "execution_count": 39,
   "id": "c017fdbc-c0f9-4257-8e63-d6d5a3d2e365",
   "metadata": {},
   "outputs": [
    {
     "name": "stdout",
     "output_type": "stream",
     "text": [
      "It's OK.\n"
     ]
    }
   ],
   "source": [
    "def my_func(): \n",
    "    try: \n",
    "        1/0 \n",
    "    except: \n",
    "        1/0 \n",
    "    finally: \n",
    "        return \"It's OK.\"\n",
    "        \n",
    "print(my_func())"
   ]
  },
  {
   "cell_type": "code",
   "execution_count": 1,
   "id": "451eb3e5-89b9-493b-a680-a6147acb5b20",
   "metadata": {},
   "outputs": [
    {
     "name": "stdin",
     "output_type": "stream",
     "text": [
      " 100\n",
      " 13\n"
     ]
    },
    {
     "name": "stdout",
     "output_type": "stream",
     "text": [
      "7\n"
     ]
    }
   ],
   "source": [
    "try:\n",
    "    n = int(input())\n",
    "    denominator = int(input())\n",
    "    n // denominator\n",
    "except ZeroDivisionError:\n",
    "    print(\"Division by zero is not supported\")\n",
    "else:\n",
    "    print(int(n / denominator))"
   ]
  },
  {
   "cell_type": "markdown",
   "id": "5507fcad-d72c-4f88-b685-1e26d1acdcde",
   "metadata": {},
   "source": [
    "# Assert statement"
   ]
  },
  {
   "cell_type": "code",
   "execution_count": 4,
   "id": "936d9a9f-e7d6-4c69-b188-6809d237d5e4",
   "metadata": {},
   "outputs": [
    {
     "name": "stdin",
     "output_type": "stream",
     "text": [
      " ddddd\n"
     ]
    },
    {
     "ename": "AssertionError",
     "evalue": "Try again!",
     "output_type": "error",
     "traceback": [
      "\u001b[0;31m---------------------------------------------------------------------------\u001b[0m",
      "\u001b[0;31mAssertionError\u001b[0m                            Traceback (most recent call last)",
      "\u001b[0;32m<ipython-input-4-36e56dcfd819>\u001b[0m in \u001b[0;36m<module>\u001b[0;34m\u001b[0m\n\u001b[1;32m      8\u001b[0m \u001b[0;34m\u001b[0m\u001b[0m\n\u001b[1;32m      9\u001b[0m \u001b[0;34m\u001b[0m\u001b[0m\n\u001b[0;32m---> 10\u001b[0;31m \u001b[0mcheck_email\u001b[0m\u001b[0;34m(\u001b[0m\u001b[0memail\u001b[0m\u001b[0;34m)\u001b[0m\u001b[0;34m\u001b[0m\u001b[0;34m\u001b[0m\u001b[0m\n\u001b[0m",
      "\u001b[0;32m<ipython-input-4-36e56dcfd819>\u001b[0m in \u001b[0;36mcheck_email\u001b[0;34m(address)\u001b[0m\n\u001b[1;32m      4\u001b[0m \u001b[0;32mdef\u001b[0m \u001b[0mcheck_email\u001b[0m\u001b[0;34m(\u001b[0m\u001b[0maddress\u001b[0m\u001b[0;34m)\u001b[0m\u001b[0;34m:\u001b[0m\u001b[0;34m\u001b[0m\u001b[0;34m\u001b[0m\u001b[0m\n\u001b[1;32m      5\u001b[0m     \u001b[0mmessage\u001b[0m \u001b[0;34m=\u001b[0m \u001b[0;34m'Try again!'\u001b[0m\u001b[0;34m\u001b[0m\u001b[0;34m\u001b[0m\u001b[0m\n\u001b[0;32m----> 6\u001b[0;31m     \u001b[0;32massert\u001b[0m \u001b[0;34m'@'\u001b[0m \u001b[0;32min\u001b[0m \u001b[0maddress\u001b[0m\u001b[0;34m,\u001b[0m \u001b[0mmessage\u001b[0m\u001b[0;34m\u001b[0m\u001b[0;34m\u001b[0m\u001b[0m\n\u001b[0m\u001b[1;32m      7\u001b[0m     \u001b[0;32mreturn\u001b[0m \u001b[0;34m'Done!'\u001b[0m\u001b[0;34m\u001b[0m\u001b[0;34m\u001b[0m\u001b[0m\n\u001b[1;32m      8\u001b[0m \u001b[0;34m\u001b[0m\u001b[0m\n",
      "\u001b[0;31mAssertionError\u001b[0m: Try again!"
     ]
    }
   ],
   "source": [
    "email = input()\n",
    "\n",
    "\n",
    "def check_email(address):\n",
    "    assert '@' in address, 'Try again!'\n",
    "    return 'Done!'\n",
    "\n",
    "\n",
    "check_email(email)"
   ]
  },
  {
   "cell_type": "code",
   "execution_count": 7,
   "id": "68720318-9491-4835-b720-aa426e50659b",
   "metadata": {},
   "outputs": [
    {
     "name": "stdin",
     "output_type": "stream",
     "text": [
      "Enter the first number:  75\n",
      "Enter the second number:  25\n"
     ]
    },
    {
     "ename": "AssertionError",
     "evalue": "Your number is less than 5 or equal to 5!",
     "output_type": "error",
     "traceback": [
      "\u001b[0;31m---------------------------------------------------------------------------\u001b[0m",
      "\u001b[0;31mAssertionError\u001b[0m                            Traceback (most recent call last)",
      "\u001b[0;32m<ipython-input-7-a5edf9e4e313>\u001b[0m in \u001b[0;36m<module>\u001b[0;34m\u001b[0m\n\u001b[1;32m      2\u001b[0m \u001b[0my\u001b[0m \u001b[0;34m=\u001b[0m \u001b[0mint\u001b[0m\u001b[0;34m(\u001b[0m\u001b[0minput\u001b[0m\u001b[0;34m(\u001b[0m\u001b[0;34m\"Enter the second number: \"\u001b[0m\u001b[0;34m)\u001b[0m\u001b[0;34m)\u001b[0m\u001b[0;34m\u001b[0m\u001b[0;34m\u001b[0m\u001b[0m\n\u001b[1;32m      3\u001b[0m \u001b[0md\u001b[0m \u001b[0;34m=\u001b[0m \u001b[0mx\u001b[0m \u001b[0;34m/\u001b[0m \u001b[0my\u001b[0m\u001b[0;34m\u001b[0m\u001b[0;34m\u001b[0m\u001b[0m\n\u001b[0;32m----> 4\u001b[0;31m \u001b[0;32massert\u001b[0m \u001b[0md\u001b[0m \u001b[0;34m>\u001b[0m \u001b[0;36m5\u001b[0m\u001b[0;34m,\u001b[0m \u001b[0;34m\"Your number is less than 5 or equal to 5!\"\u001b[0m\u001b[0;34m\u001b[0m\u001b[0;34m\u001b[0m\u001b[0m\n\u001b[0m\u001b[1;32m      5\u001b[0m \u001b[0;32massert\u001b[0m \u001b[0md\u001b[0m \u001b[0;34m<\u001b[0m \u001b[0;36m14\u001b[0m\u001b[0;34m,\u001b[0m \u001b[0;34m\"Your number is more than 14 or equal to 14!\"\u001b[0m\u001b[0;34m\u001b[0m\u001b[0;34m\u001b[0m\u001b[0m\n\u001b[1;32m      6\u001b[0m \u001b[0mprint\u001b[0m\u001b[0;34m(\u001b[0m\u001b[0;34m\"Your number is\"\u001b[0m\u001b[0;34m,\u001b[0m \u001b[0md\u001b[0m\u001b[0;34m)\u001b[0m\u001b[0;34m\u001b[0m\u001b[0;34m\u001b[0m\u001b[0m\n",
      "\u001b[0;31mAssertionError\u001b[0m: Your number is less than 5 or equal to 5!"
     ]
    }
   ],
   "source": [
    "x = int(input(\"Enter the first number: \"))\n",
    "y = int(input(\"Enter the second number: \"))\n",
    "d = x / y\n",
    "assert d > 5, \"Your number is less than 5 or equal to 5!\"\n",
    "assert d < 14, \"Your number is more than 14 or equal to 14!\"\n",
    "print(\"Your number is\", d)"
   ]
  },
  {
   "cell_type": "code",
   "execution_count": 68,
   "id": "c551ad48-3235-4994-97ca-0d252199a5b2",
   "metadata": {},
   "outputs": [],
   "source": [
    "def even(x):\n",
    "    assert (x % 2) != 1\n",
    "    return x"
   ]
  },
  {
   "cell_type": "code",
   "execution_count": 74,
   "id": "6f2a33f9-6373-4b23-a9a4-5063f98e649c",
   "metadata": {},
   "outputs": [
    {
     "ename": "AssertionError",
     "evalue": "",
     "output_type": "error",
     "traceback": [
      "\u001b[0;31m---------------------------------------------------------------------------\u001b[0m",
      "\u001b[0;31mAssertionError\u001b[0m                            Traceback (most recent call last)",
      "\u001b[0;32m<ipython-input-74-1697075ea93e>\u001b[0m in \u001b[0;36m<module>\u001b[0;34m\u001b[0m\n\u001b[0;32m----> 1\u001b[0;31m \u001b[0meven\u001b[0m\u001b[0;34m(\u001b[0m\u001b[0;36m5\u001b[0m\u001b[0;34m)\u001b[0m\u001b[0;34m\u001b[0m\u001b[0;34m\u001b[0m\u001b[0m\n\u001b[0m",
      "\u001b[0;32m<ipython-input-68-7c6cd05b5629>\u001b[0m in \u001b[0;36meven\u001b[0;34m(x)\u001b[0m\n\u001b[1;32m      1\u001b[0m \u001b[0;32mdef\u001b[0m \u001b[0meven\u001b[0m\u001b[0;34m(\u001b[0m\u001b[0mx\u001b[0m\u001b[0;34m)\u001b[0m\u001b[0;34m:\u001b[0m\u001b[0;34m\u001b[0m\u001b[0;34m\u001b[0m\u001b[0m\n\u001b[0;32m----> 2\u001b[0;31m     \u001b[0;32massert\u001b[0m \u001b[0;34m(\u001b[0m\u001b[0mx\u001b[0m \u001b[0;34m%\u001b[0m \u001b[0;36m2\u001b[0m\u001b[0;34m)\u001b[0m \u001b[0;34m!=\u001b[0m \u001b[0;36m1\u001b[0m\u001b[0;34m\u001b[0m\u001b[0;34m\u001b[0m\u001b[0m\n\u001b[0m\u001b[1;32m      3\u001b[0m     \u001b[0;32mreturn\u001b[0m \u001b[0mx\u001b[0m\u001b[0;34m\u001b[0m\u001b[0;34m\u001b[0m\u001b[0m\n",
      "\u001b[0;31mAssertionError\u001b[0m: "
     ]
    }
   ],
   "source": [
    "even(5)"
   ]
  },
  {
   "cell_type": "code",
   "execution_count": 64,
   "id": "d1e47f50-e4a4-4980-988b-b5202d4c9c3b",
   "metadata": {},
   "outputs": [
    {
     "data": {
      "text/plain": [
       "0"
      ]
     },
     "execution_count": 64,
     "metadata": {},
     "output_type": "execute_result"
    }
   ],
   "source": [
    "6 % 2"
   ]
  },
  {
   "cell_type": "code",
   "execution_count": 78,
   "id": "4bab8d84-8ca8-47b5-af17-1ce2f2159fdf",
   "metadata": {},
   "outputs": [],
   "source": [
    "def bounds(x):\n",
    "    assert (x >= 50) and (x <= 70), \"Your number is wrong!\"\n",
    "    return x"
   ]
  },
  {
   "cell_type": "code",
   "execution_count": 82,
   "id": "aa4108b0-4c4b-496f-bba1-7e59894d1ac0",
   "metadata": {},
   "outputs": [
    {
     "ename": "AssertionError",
     "evalue": "Your number is wrong!",
     "output_type": "error",
     "traceback": [
      "\u001b[0;31m---------------------------------------------------------------------------\u001b[0m",
      "\u001b[0;31mAssertionError\u001b[0m                            Traceback (most recent call last)",
      "\u001b[0;32m<ipython-input-82-3d1048fef55d>\u001b[0m in \u001b[0;36m<module>\u001b[0;34m\u001b[0m\n\u001b[0;32m----> 1\u001b[0;31m \u001b[0mbounds\u001b[0m\u001b[0;34m(\u001b[0m\u001b[0;36m75\u001b[0m\u001b[0;34m)\u001b[0m\u001b[0;34m\u001b[0m\u001b[0;34m\u001b[0m\u001b[0m\n\u001b[0m",
      "\u001b[0;32m<ipython-input-78-c22cddecbbdf>\u001b[0m in \u001b[0;36mbounds\u001b[0;34m(x)\u001b[0m\n\u001b[1;32m      1\u001b[0m \u001b[0;32mdef\u001b[0m \u001b[0mbounds\u001b[0m\u001b[0;34m(\u001b[0m\u001b[0mx\u001b[0m\u001b[0;34m)\u001b[0m\u001b[0;34m:\u001b[0m\u001b[0;34m\u001b[0m\u001b[0;34m\u001b[0m\u001b[0m\n\u001b[0;32m----> 2\u001b[0;31m     \u001b[0;32massert\u001b[0m \u001b[0;34m(\u001b[0m\u001b[0mx\u001b[0m \u001b[0;34m>=\u001b[0m \u001b[0;36m50\u001b[0m\u001b[0;34m)\u001b[0m \u001b[0;32mand\u001b[0m \u001b[0;34m(\u001b[0m\u001b[0mx\u001b[0m \u001b[0;34m<=\u001b[0m \u001b[0;36m70\u001b[0m\u001b[0;34m)\u001b[0m\u001b[0;34m,\u001b[0m \u001b[0;34m\"Your number is wrong!\"\u001b[0m\u001b[0;34m\u001b[0m\u001b[0;34m\u001b[0m\u001b[0m\n\u001b[0m\u001b[1;32m      3\u001b[0m     \u001b[0;32mreturn\u001b[0m \u001b[0mx\u001b[0m\u001b[0;34m\u001b[0m\u001b[0;34m\u001b[0m\u001b[0m\n",
      "\u001b[0;31mAssertionError\u001b[0m: Your number is wrong!"
     ]
    }
   ],
   "source": [
    "bounds(75)"
   ]
  },
  {
   "cell_type": "markdown",
   "id": "067c2fed-7198-4f0c-93b6-3677ec1805f9",
   "metadata": {},
   "source": [
    "# Reading files"
   ]
  },
  {
   "cell_type": "code",
   "execution_count": 36,
   "id": "a4657a6d-6416-40d0-9902-a384e6aca2ca",
   "metadata": {},
   "outputs": [
    {
     "name": "stdout",
     "output_type": "stream",
     "text": [
      "36\n"
     ]
    }
   ],
   "source": [
    "i = 0\n",
    "file = open('hyperskill-dataset-48085777.txt', 'r')\n",
    "for line in file:\n",
    "    if line == 'summer\\n':\n",
    "        i += 1\n",
    "file.close()\n",
    "print(i)"
   ]
  },
  {
   "cell_type": "code",
   "execution_count": 2,
   "id": "05fac9ff-e325-4ee6-ad02-06362eb05f30",
   "metadata": {},
   "outputs": [
    {
     "name": "stdout",
     "output_type": "stream",
     "text": [
      "This\n",
      "is\n",
      "a\n",
      "\n"
     ]
    }
   ],
   "source": [
    "file = open(\"text.txt\", 'r')\n",
    "print(file.read(10))\n",
    "file.close()"
   ]
  },
  {
   "cell_type": "code",
   "execution_count": null,
   "id": "ce57b0a6-f22c-4523-83d9-dbfab8f7bf79",
   "metadata": {},
   "outputs": [],
   "source": []
  }
 ],
 "metadata": {
  "kernelspec": {
   "display_name": "Python 3",
   "language": "python",
   "name": "python3"
  },
  "language_info": {
   "codemirror_mode": {
    "name": "ipython",
    "version": 3
   },
   "file_extension": ".py",
   "mimetype": "text/x-python",
   "name": "python",
   "nbconvert_exporter": "python",
   "pygments_lexer": "ipython3",
   "version": "3.8.8"
  }
 },
 "nbformat": 4,
 "nbformat_minor": 5
}
