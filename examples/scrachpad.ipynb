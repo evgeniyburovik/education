{
 "cells": [
  {
   "cell_type": "code",
   "execution_count": 1,
   "id": "66226467-c18a-493a-aeb9-b33899f135bf",
   "metadata": {},
   "outputs": [
    {
     "name": "stdin",
     "output_type": "stream",
     "text": [
      " 345555\n"
     ]
    },
    {
     "name": "stdout",
     "output_type": "stream",
     "text": [
      "8\n"
     ]
    }
   ],
   "source": [
    "PERCENT = 0.1\n",
    "depozit = int(input())\n",
    "depozit_hight = 0\n",
    "year_count = 0\n",
    "while depozit_hight <= 700000:\n",
    "    depozit_hight = (depozit * PERCENT) + depozit\n",
    "    depozit = depozit_hight\n",
    "    year_count += 1\n",
    "print(year_count)"
   ]
  },
  {
   "cell_type": "code",
   "execution_count": 2,
   "id": "5da6afc5-6952-456f-81bb-0f77b0e9e4a9",
   "metadata": {},
   "outputs": [
    {
     "name": "stdin",
     "output_type": "stream",
     "text": [
      " Paws 11\n"
     ]
    },
    {
     "name": "stdout",
     "output_type": "stream",
     "text": [
      "['Paws', '11']\n"
     ]
    },
    {
     "name": "stdin",
     "output_type": "stream",
     "text": [
      " Kittens 9\n"
     ]
    },
    {
     "name": "stdout",
     "output_type": "stream",
     "text": [
      "['Kittens', '9']\n"
     ]
    },
    {
     "name": "stdin",
     "output_type": "stream",
     "text": [
      " MEOW\n"
     ]
    },
    {
     "name": "stdout",
     "output_type": "stream",
     "text": [
      "Paws\n"
     ]
    }
   ],
   "source": [
    "\"\"\" Paws 11\n",
    "['Paws', '11']\n",
    " Kittens 9\n",
    "['Kittens', '9']\n",
    " MEOW\n",
    "Paws\n",
    "\n",
    "STOP = 'MEOW'\n",
    "cafe_name_counts = {}\n",
    "input_cafe = ''\n",
    "while STOP != input_cafe:\n",
    "    input_cafe = input()\n",
    "    if  input_cafe == STOP:\n",
    "        break\n",
    "    cafe = input_cafe.split()\n",
    "    print(cafe)\n",
    "    cafe_name_counts[cafe[0]] = int(cafe[1])\n",
    "print(max(cafe_name_counts, key=cafe_name_counts.get))"
   ]
  },
  {
   "cell_type": "code",
   "execution_count": 10,
   "id": "d9636a18-dd0a-4a68-881d-565e4b5ce1d8",
   "metadata": {},
   "outputs": [
    {
     "name": "stdin",
     "output_type": "stream",
     "text": [
      " 149\n"
     ]
    },
    {
     "name": "stdout",
     "output_type": "stream",
     "text": [
      "This number is prime\n"
     ]
    }
   ],
   "source": [
    "def is_prime(n):\n",
    "    i = 2\n",
    "    while i < n:\n",
    "        if n%i == 0:\n",
    "            return False\n",
    "        i += 1\n",
    "    if n == 1:\n",
    "        return False\n",
    "    return True\n",
    "n = int(input())\n",
    "if is_prime(n) == True:\n",
    "    print('This number is prime')\n",
    "else:\n",
    "    print('This number is not prime')"
   ]
  },
  {
   "cell_type": "code",
   "execution_count": null,
   "id": "051c173a-0b0b-4e2b-b525-e668952e6319",
   "metadata": {},
   "outputs": [],
   "source": []
  }
 ],
 "metadata": {
  "kernelspec": {
   "display_name": "Python 3",
   "language": "python",
   "name": "python3"
  },
  "language_info": {
   "codemirror_mode": {
    "name": "ipython",
    "version": 3
   },
   "file_extension": ".py",
   "mimetype": "text/x-python",
   "name": "python",
   "nbconvert_exporter": "python",
   "pygments_lexer": "ipython3",
   "version": "3.8.8"
  }
 },
 "nbformat": 4,
 "nbformat_minor": 5
}
